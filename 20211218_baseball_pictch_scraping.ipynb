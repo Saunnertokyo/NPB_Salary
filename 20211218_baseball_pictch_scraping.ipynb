{
 "cells": [
  {
   "cell_type": "code",
   "execution_count": 1,
   "id": "63e370d7-bc92-4809-8d63-60616a1fe84b",
   "metadata": {},
   "outputs": [],
   "source": [
    "#numpy,matplotlib,seabornのインポート\n",
    "import pandas as pd\n",
    "import numpy as np\n",
    "import seaborn as sns\n",
    "sns.set_style(style='darkgrid')\n",
    "from matplotlib import pyplot as plt\n",
    "# matplotlibに日本語を表示させる為に必要\n",
    "plt.rcParams['font.family'] = 'IPAexGothic'\n",
    "%matplotlib inline\n",
    "\n",
    "import re\n",
    "# 正規表現のためのライブラリもインポート"
   ]
  },
  {
   "cell_type": "code",
   "execution_count": 2,
   "id": "b9310179-9267-4320-9784-84793f76b00f",
   "metadata": {},
   "outputs": [],
   "source": [
    "pd.set_option('display.max_columns', 200)\n",
    "pd.set_option('display.max_rows', 100)"
   ]
  },
  {
   "cell_type": "markdown",
   "id": "63c07335-e48a-4ee5-ae7e-658fcafa2525",
   "metadata": {},
   "source": [
    "### 2021年"
   ]
  },
  {
   "cell_type": "markdown",
   "id": "ae9bf72f-6a3d-4b3a-8d99-c67070610d6c",
   "metadata": {},
   "source": [
    "#### 投球データのスクレイピング"
   ]
  },
  {
   "cell_type": "code",
   "execution_count": 3,
   "id": "40db0c65-68e1-4f05-a13e-0b64472c6333",
   "metadata": {},
   "outputs": [],
   "source": [
    "#numpy,matplotlib,seabornのインポート\n",
    "import pandas as pd\n",
    "import numpy as np\n",
    "import seaborn as sns\n",
    "sns.set_style(style='darkgrid')\n",
    "from matplotlib import pyplot as plt\n",
    "# matplotlibに日本語を表示させる為に必要\n",
    "plt.rcParams['font.family'] = 'IPAexGothic'\n",
    "%matplotlib inline\n",
    "\n",
    "import re\n",
    "# 正規表現のためのライブラリもインポート"
   ]
  },
  {
   "cell_type": "code",
   "execution_count": 4,
   "id": "94aff5dc-8232-4c70-a50a-0dc43707ae44",
   "metadata": {},
   "outputs": [],
   "source": [
    "urlpit21 = \"https://baseball-data.com/stats/pitcher-all/era-5.html\"\n",
    "pit21 = pd.read_html(urlpit21)[0]\n",
    "pit21[\"年\"] = 2021\n",
    "\n",
    "name = []\n",
    "for n in pit21.columns:\n",
    "    item = n[0]\n",
    "    name.append(item)\n",
    "\n",
    "pit21.columns = name\n",
    "pit21.rename(columns={'セlブ': 'セーブ', 'ホlルド': 'ホールド'},inplace = True)"
   ]
  },
  {
   "cell_type": "markdown",
   "id": "c3264188-5fcd-42a5-82c2-cc366a0c4c33",
   "metadata": {},
   "source": [
    "#### 年俸データのスクレイピング"
   ]
  },
  {
   "cell_type": "code",
   "execution_count": 5,
   "id": "0590fc10-3633-4c2f-89e3-2170e3cd88e5",
   "metadata": {
    "tags": []
   },
   "outputs": [],
   "source": [
    "urlsal21_g = 'https://baseball-data.com/ranking-salary/g/'\n",
    "sal21_g = pd.read_html(urlsal21_g)[0]\n",
    "\n",
    "urlsal21_t = 'https://baseball-data.com/ranking-salary/t/'\n",
    "sal21_t = pd.read_html(urlsal21_t)[0]\n",
    "\n",
    "urlsal21_d = 'https://baseball-data.com/ranking-salary/d/'\n",
    "sal21_d = pd.read_html(urlsal21_d)[0]\n",
    "\n",
    "urlsal21_yb = 'https://baseball-data.com/ranking-salary/yb/'\n",
    "sal21_yb = pd.read_html(urlsal21_yb)[0]\n",
    "\n",
    "urlsal21_c = 'https://baseball-data.com/ranking-salary/c/'\n",
    "sal21_c = pd.read_html(urlsal21_c)[0]\n",
    "\n",
    "urlsal21_s = 'https://baseball-data.com/ranking-salary/s/'\n",
    "sal21_s = pd.read_html(urlsal21_s)[0]\n",
    "\n",
    "urlsal21_h = 'https://baseball-data.com/ranking-salary/h/'\n",
    "sal21_h = pd.read_html(urlsal21_h)[0]\n",
    "\n",
    "urlsal21_m = 'https://baseball-data.com/ranking-salary/m/'\n",
    "sal21_m = pd.read_html(urlsal21_m)[0]\n",
    "\n",
    "urlsal21_l = 'https://baseball-data.com/ranking-salary/l/'\n",
    "sal21_l = pd.read_html(urlsal21_l)[0]\n",
    "\n",
    "urlsal21_e = 'https://baseball-data.com/ranking-salary/e/'\n",
    "sal21_e = pd.read_html(urlsal21_e)[0]\n",
    "\n",
    "urlsal21_f = 'https://baseball-data.com/ranking-salary/f/'\n",
    "sal21_f = pd.read_html(urlsal21_f)[0]\n",
    "\n",
    "urlsal21_bs = 'https://baseball-data.com/ranking-salary/bs/'\n",
    "sal21_bs = pd.read_html(urlsal21_bs)[0]\n"
   ]
  },
  {
   "cell_type": "code",
   "execution_count": 6,
   "id": "8a91784a-257e-4cb4-92c1-c95f9e307bdd",
   "metadata": {},
   "outputs": [],
   "source": [
    "sal21 = pd.concat([sal21_g, sal21_t,sal21_d,sal21_yb,sal21_c,sal21_s,sal21_h,sal21_m,sal21_l,sal21_e,sal21_f,sal21_bs]).reset_index()"
   ]
  },
  {
   "cell_type": "code",
   "execution_count": 7,
   "id": "9da9640f-8d6c-43a8-974c-0364e0e9c385",
   "metadata": {},
   "outputs": [],
   "source": [
    "name = []\n",
    "for n in sal21.columns:\n",
    "    item = n[0]\n",
    "    name.append(item)\n",
    "\n",
    "sal21.columns = name"
   ]
  },
  {
   "cell_type": "code",
   "execution_count": 8,
   "id": "143a18d4-16e4-475c-bbcf-412d87f7860f",
   "metadata": {},
   "outputs": [],
   "source": [
    "sal21 = sal21[sal21['年俸(推定)']!='-']\n",
    "sal21['年俸(推定)']= sal21['年俸(推定)'].str.split('万円', expand=True)[0]\n",
    "sal21['年俸(推定)'] = sal21['年俸(推定)'].str.replace(',','')\n",
    "sal21['年俸(推定)'] = sal21['年俸(推定)'].astype(int)\n",
    "\n",
    "sal21['年数']= sal21['年数'].str.split('年', expand=True)[0].astype(int)\n",
    "sal21['年齢']= sal21['年齢'].str.split('歳', expand=True)[0].astype(int)\n",
    "sal21['身長']= sal21['身長'].str.split('cm', expand=True)[0].astype(int)\n",
    "sal21['体重']= sal21['体重'].str.split('kg', expand=True)[0].astype(int)"
   ]
  },
  {
   "cell_type": "markdown",
   "id": "51499668-ee4d-43c7-b4c0-ab035882dfad",
   "metadata": {},
   "source": [
    "#### データの結合"
   ]
  },
  {
   "cell_type": "code",
   "execution_count": 9,
   "id": "1ecf0c1c-c8dd-4dbe-b607-3f8e4b8d2e9f",
   "metadata": {},
   "outputs": [],
   "source": [
    "dfpit21 = pd.merge(pit21,sal21,on ='選手名', how = 'left')"
   ]
  },
  {
   "cell_type": "code",
   "execution_count": 10,
   "id": "96ce3f51-8a22-4ef5-b4a9-1c0825ee762c",
   "metadata": {},
   "outputs": [],
   "source": [
    "dfpit21.rename(columns=lambda s:s+'_21',inplace = True)\n",
    "dfpit21.rename(columns = {'選手名_21':'選手名'},inplace = True)"
   ]
  },
  {
   "cell_type": "markdown",
   "id": "2d6dbd31-e4b1-441c-a05d-90ad11d4bed6",
   "metadata": {},
   "source": [
    "### 2020年"
   ]
  },
  {
   "cell_type": "markdown",
   "id": "40c2fda1-aaed-457f-bc4c-58352312ad2e",
   "metadata": {},
   "source": [
    "#### 投球データのスクレイピング"
   ]
  },
  {
   "cell_type": "code",
   "execution_count": 11,
   "id": "c37658ca-f173-4dec-a017-0627d01e9916",
   "metadata": {},
   "outputs": [],
   "source": [
    "#numpy,matplotlib,seabornのインポート\n",
    "import pandas as pd\n",
    "import numpy as np\n",
    "import seaborn as sns\n",
    "sns.set_style(style='darkgrid')\n",
    "from matplotlib import pyplot as plt\n",
    "# matplotlibに日本語を表示させる為に必要\n",
    "plt.rcParams['font.family'] = 'IPAexGothic'\n",
    "%matplotlib inline\n",
    "\n",
    "import re\n",
    "# 正規表現のためのライブラリもインポート"
   ]
  },
  {
   "cell_type": "markdown",
   "id": "a8cfea29-092e-44cc-89e1-c3781f231ae6",
   "metadata": {},
   "source": [
    "#### 投球データのスクレイピング"
   ]
  },
  {
   "cell_type": "code",
   "execution_count": 12,
   "id": "8fae4d4d-fca3-4ed2-8466-acf2f7fbaafe",
   "metadata": {},
   "outputs": [],
   "source": [
    "urlpit20 = \"https://baseball-data.com/20/stats/pitcher-all/era-5.html\"\n",
    "pit20 = pd.read_html(urlpit20)[0]\n",
    "pit20[\"年\"] = 2020\n",
    "\n",
    "name = []\n",
    "for n in pit20.columns:\n",
    "    item = n[0]\n",
    "    name.append(item)\n",
    "\n",
    "pit20.columns = name\n",
    "pit20.rename(columns={'セlブ': 'セーブ', 'ホlルド': 'ホールド'},inplace = True)"
   ]
  },
  {
   "cell_type": "markdown",
   "id": "bad98531-677c-4daf-a753-88bbb66fdf5a",
   "metadata": {},
   "source": [
    "#### 年俸データのスクレイピング"
   ]
  },
  {
   "cell_type": "code",
   "execution_count": 13,
   "id": "90a1cbed-c34e-4a5f-babb-147b15a40987",
   "metadata": {
    "tags": []
   },
   "outputs": [],
   "source": [
    "urlsal20_g = 'https://baseball-data.com/20/ranking-salary/g/'\n",
    "sal20_g = pd.read_html(urlsal20_g)[0]\n",
    "\n",
    "urlsal20_t = 'https://baseball-data.com/20/ranking-salary/t/'\n",
    "sal20_t = pd.read_html(urlsal20_t)[0]\n",
    "\n",
    "urlsal20_d = 'https://baseball-data.com/20/ranking-salary/d/'\n",
    "sal20_d = pd.read_html(urlsal20_d)[0]\n",
    "\n",
    "urlsal20_yb = 'https://baseball-data.com/20/ranking-salary/yb/'\n",
    "sal20_yb = pd.read_html(urlsal20_yb)[0]\n",
    "\n",
    "urlsal20_c = 'https://baseball-data.com/20/ranking-salary/c/'\n",
    "sal20_c = pd.read_html(urlsal20_c)[0]\n",
    "\n",
    "urlsal20_s = 'https://baseball-data.com/20/ranking-salary/s/'\n",
    "sal20_s = pd.read_html(urlsal20_s)[0]\n",
    "\n",
    "urlsal20_h = 'https://baseball-data.com/20/ranking-salary/h/'\n",
    "sal20_h = pd.read_html(urlsal20_h)[0]\n",
    "\n",
    "urlsal20_m = 'https://baseball-data.com/20/ranking-salary/m/'\n",
    "sal20_m = pd.read_html(urlsal20_m)[0]\n",
    "\n",
    "urlsal20_l = 'https://baseball-data.com/20/ranking-salary/l/'\n",
    "sal20_l = pd.read_html(urlsal20_l)[0]\n",
    "\n",
    "urlsal20_e = 'https://baseball-data.com/20/ranking-salary/e/'\n",
    "sal20_e = pd.read_html(urlsal20_e)[0]\n",
    "\n",
    "urlsal20_f = 'https://baseball-data.com/20/ranking-salary/f/'\n",
    "sal20_f = pd.read_html(urlsal20_f)[0]\n",
    "\n",
    "urlsal20_bs = 'https://baseball-data.com/20/ranking-salary/bs/'\n",
    "sal20_bs = pd.read_html(urlsal20_bs)[0]\n"
   ]
  },
  {
   "cell_type": "code",
   "execution_count": 14,
   "id": "623c2701-9406-4911-8758-12d79abf8de3",
   "metadata": {},
   "outputs": [],
   "source": [
    "sal20 = pd.concat([sal20_g, sal20_t,sal20_d,sal20_yb,sal20_c,sal20_s,sal20_h,sal20_m,sal20_l,sal20_e,sal20_f,sal20_bs]).reset_index()"
   ]
  },
  {
   "cell_type": "code",
   "execution_count": 15,
   "id": "8df5e679-2561-45e2-adf2-efe9e10b7797",
   "metadata": {},
   "outputs": [],
   "source": [
    "name = []\n",
    "for n in sal20.columns:\n",
    "    item = n[0]\n",
    "    name.append(item)\n",
    "\n",
    "sal20.columns = name"
   ]
  },
  {
   "cell_type": "code",
   "execution_count": 16,
   "id": "9fbfef1c-0304-4474-807d-99ee56f8ef06",
   "metadata": {},
   "outputs": [],
   "source": [
    "sal20 = sal20[sal20['年俸(推定)']!='-']\n",
    "sal20['年俸(推定)']= sal20['年俸(推定)'].str.split('万円', expand=True)[0]\n",
    "sal20['年俸(推定)'] = sal20['年俸(推定)'].str.replace(',','')\n",
    "sal20['年俸(推定)'] = sal20['年俸(推定)'].astype(int)\n",
    "\n",
    "sal20['年数']= sal20['年数'].str.split('年', expand=True)[0].astype(int)\n",
    "sal20['年齢']= sal20['年齢'].str.split('歳', expand=True)[0].astype(int)\n",
    "sal20['身長']= sal20['身長'].str.split('cm', expand=True)[0].astype(int)\n",
    "sal20['体重']= sal20['体重'].str.split('kg', expand=True)[0].astype(int)"
   ]
  },
  {
   "cell_type": "markdown",
   "id": "b9c854eb-3a4b-4dd9-a239-05d2563665b8",
   "metadata": {},
   "source": [
    "#### データの結合"
   ]
  },
  {
   "cell_type": "code",
   "execution_count": 17,
   "id": "43130677-f0d1-479e-9b28-3ddf8c630b6a",
   "metadata": {},
   "outputs": [],
   "source": [
    "dfpit20 = pd.merge(pit20,sal20,on ='選手名', how = 'left')"
   ]
  },
  {
   "cell_type": "code",
   "execution_count": 18,
   "id": "b662f68e-0777-43b5-b0e3-700ea810ac95",
   "metadata": {},
   "outputs": [],
   "source": [
    "dfpit20.rename(columns=lambda s:s+'_20',inplace = True)\n",
    "dfpit20.rename(columns = {'選手名_20':'選手名'},inplace = True)"
   ]
  },
  {
   "cell_type": "markdown",
   "id": "a06f82e4-7a38-4ea8-96c2-ac8f808adb72",
   "metadata": {},
   "source": [
    "### 2019年"
   ]
  },
  {
   "cell_type": "markdown",
   "id": "c6f54160-02cc-422b-994f-7545193701cf",
   "metadata": {},
   "source": [
    "#### 投球データのスクレイピング"
   ]
  },
  {
   "cell_type": "code",
   "execution_count": 19,
   "id": "3b8eb9f1-b934-431e-a9ee-28a42a0276a8",
   "metadata": {},
   "outputs": [],
   "source": [
    "urlpit19 = \"https://baseball-data.com/19/stats/pitcher-all/era-5.html\"\n",
    "pit19 = pd.read_html(urlpit19)[0]\n",
    "pit19[\"年\"] = 2019\n",
    "\n",
    "name = []\n",
    "for n in pit19.columns:\n",
    "    item = n[0]\n",
    "    name.append(item)\n",
    "\n",
    "pit19.columns = name\n",
    "pit19.rename(columns={'セlブ': 'セーブ', 'ホlルド': 'ホールド'},inplace = True)"
   ]
  },
  {
   "cell_type": "markdown",
   "id": "6c2da584-14ba-4a9a-b51e-190ddc42bee4",
   "metadata": {},
   "source": [
    "#### 年俸データのスクレイピング"
   ]
  },
  {
   "cell_type": "code",
   "execution_count": 20,
   "id": "a7f52d95-3a3e-4c18-85d8-66bf1ed4d199",
   "metadata": {
    "tags": []
   },
   "outputs": [],
   "source": [
    "urlsal19_g = 'https://baseball-data.com/19/ranking-salary/g/'\n",
    "sal19_g = pd.read_html(urlsal19_g)[0]\n",
    "\n",
    "urlsal19_t = 'https://baseball-data.com/19/ranking-salary/t/'\n",
    "sal19_t = pd.read_html(urlsal19_t)[0]\n",
    "\n",
    "urlsal19_d = 'https://baseball-data.com/19/ranking-salary/d/'\n",
    "sal19_d = pd.read_html(urlsal19_d)[0]\n",
    "\n",
    "urlsal19_yb = 'https://baseball-data.com/19/ranking-salary/yb/'\n",
    "sal19_yb = pd.read_html(urlsal19_yb)[0]\n",
    "\n",
    "urlsal19_c = 'https://baseball-data.com/19/ranking-salary/c/'\n",
    "sal19_c = pd.read_html(urlsal19_c)[0]\n",
    "\n",
    "urlsal19_s = 'https://baseball-data.com/19/ranking-salary/s/'\n",
    "sal19_s = pd.read_html(urlsal19_s)[0]\n",
    "\n",
    "urlsal19_h = 'https://baseball-data.com/19/ranking-salary/h/'\n",
    "sal19_h = pd.read_html(urlsal19_h)[0]\n",
    "\n",
    "urlsal19_m = 'https://baseball-data.com/19/ranking-salary/m/'\n",
    "sal19_m = pd.read_html(urlsal19_m)[0]\n",
    "\n",
    "urlsal19_l = 'https://baseball-data.com/19/ranking-salary/l/'\n",
    "sal19_l = pd.read_html(urlsal19_l)[0]\n",
    "\n",
    "urlsal19_e = 'https://baseball-data.com/19/ranking-salary/e/'\n",
    "sal19_e = pd.read_html(urlsal19_e)[0]\n",
    "\n",
    "urlsal19_f = 'https://baseball-data.com/19/ranking-salary/f/'\n",
    "sal19_f = pd.read_html(urlsal19_f)[0]\n",
    "\n",
    "urlsal19_bs = 'https://baseball-data.com/19/ranking-salary/bs/'\n",
    "sal19_bs = pd.read_html(urlsal19_bs)[0]\n"
   ]
  },
  {
   "cell_type": "code",
   "execution_count": 21,
   "id": "5e4f52f4-dc4c-4529-9798-98fff2961cca",
   "metadata": {},
   "outputs": [],
   "source": [
    "sal19 = pd.concat([sal19_g, sal19_t,sal19_d,sal19_yb,sal19_c,sal19_s,sal19_h,sal19_m,sal19_l,sal19_e,sal19_f,sal19_bs]).reset_index()"
   ]
  },
  {
   "cell_type": "code",
   "execution_count": 22,
   "id": "91ac274f-8135-4541-917c-c739177577f3",
   "metadata": {},
   "outputs": [],
   "source": [
    "name = []\n",
    "for n in sal19.columns:\n",
    "    item = n[0]\n",
    "    name.append(item)\n",
    "\n",
    "sal19.columns = name"
   ]
  },
  {
   "cell_type": "code",
   "execution_count": 23,
   "id": "6aef4eec-71c3-4389-ad27-a1041cbe9caf",
   "metadata": {},
   "outputs": [],
   "source": [
    "sal19 = sal19[sal19['年俸(推定)']!='-']\n",
    "sal19['年俸(推定)']= sal19['年俸(推定)'].str.split('万円', expand=True)[0]\n",
    "sal19['年俸(推定)'] = sal19['年俸(推定)'].str.replace(',','')\n",
    "sal19['年俸(推定)'] = sal19['年俸(推定)'].astype(int)\n",
    "\n",
    "sal19['年数']= sal19['年数'].str.split('年', expand=True)[0].astype(int)\n",
    "sal19['年齢']= sal19['年齢'].str.split('歳', expand=True)[0].astype(int)\n",
    "sal19['身長']= sal19['身長'].str.split('cm', expand=True)[0].astype(int)\n",
    "sal19['体重']= sal19['体重'].str.split('kg', expand=True)[0].astype(int)"
   ]
  },
  {
   "cell_type": "markdown",
   "id": "363cd4e0-886b-4a5b-b7cf-0059ffb00c57",
   "metadata": {},
   "source": [
    "#### データの結合"
   ]
  },
  {
   "cell_type": "code",
   "execution_count": 24,
   "id": "79674ae6-047a-44b0-9653-307b4a468d15",
   "metadata": {},
   "outputs": [],
   "source": [
    "dfpit19 = pd.merge(pit19,sal19,on ='選手名', how = 'left')"
   ]
  },
  {
   "cell_type": "code",
   "execution_count": 25,
   "id": "3ef2e1a9-4807-467b-b2c4-30ff0250cf67",
   "metadata": {},
   "outputs": [],
   "source": [
    "dfpit19.rename(columns=lambda s:s+'_19',inplace = True)\n",
    "dfpit19.rename(columns = {'選手名_19':'選手名'},inplace = True)"
   ]
  },
  {
   "cell_type": "markdown",
   "id": "b2042001-8f69-4237-8780-8923f4155a42",
   "metadata": {},
   "source": [
    "### 2018年"
   ]
  },
  {
   "cell_type": "markdown",
   "id": "a3c35d61-5fdc-4c41-9d5b-889465f2523d",
   "metadata": {},
   "source": [
    "#### 投球データのスクレイピング"
   ]
  },
  {
   "cell_type": "code",
   "execution_count": 26,
   "id": "39df54a0-e3cb-49a5-875f-bfef59972eba",
   "metadata": {},
   "outputs": [],
   "source": [
    "urlpit18 = \"https://baseball-data.com/18/stats/pitcher-all/era-5.html\"\n",
    "pit18 = pd.read_html(urlpit18)[0]\n",
    "pit18[\"年\"] = 2018\n",
    "\n",
    "name = []\n",
    "for n in pit18.columns:\n",
    "    item = n[0]\n",
    "    name.append(item)\n",
    "\n",
    "pit18.columns = name\n",
    "pit18.rename(columns={'セlブ': 'セーブ', 'ホlルド': 'ホールド'},inplace = True)"
   ]
  },
  {
   "cell_type": "markdown",
   "id": "ac6e9e7b-c6be-4768-afdb-03fb521eacfe",
   "metadata": {},
   "source": [
    "#### 年俸データのスクレイピング"
   ]
  },
  {
   "cell_type": "code",
   "execution_count": 27,
   "id": "a865a714-f7ad-44d8-a618-6332a7beca36",
   "metadata": {
    "tags": []
   },
   "outputs": [],
   "source": [
    "urlsal18_g = 'https://baseball-data.com/18/ranking-salary/g/'\n",
    "sal18_g = pd.read_html(urlsal18_g)[0]\n",
    "\n",
    "urlsal18_t = 'https://baseball-data.com/18/ranking-salary/t/'\n",
    "sal18_t = pd.read_html(urlsal18_t)[0]\n",
    "\n",
    "urlsal18_d = 'https://baseball-data.com/18/ranking-salary/d/'\n",
    "sal18_d = pd.read_html(urlsal18_d)[0]\n",
    "\n",
    "urlsal18_yb = 'https://baseball-data.com/18/ranking-salary/yb/'\n",
    "sal18_yb = pd.read_html(urlsal18_yb)[0]\n",
    "\n",
    "urlsal18_c = 'https://baseball-data.com/18/ranking-salary/c/'\n",
    "sal18_c = pd.read_html(urlsal18_c)[0]\n",
    "\n",
    "urlsal18_s = 'https://baseball-data.com/18/ranking-salary/s/'\n",
    "sal18_s = pd.read_html(urlsal18_s)[0]\n",
    "\n",
    "urlsal18_h = 'https://baseball-data.com/18/ranking-salary/h/'\n",
    "sal18_h = pd.read_html(urlsal18_h)[0]\n",
    "\n",
    "urlsal18_m = 'https://baseball-data.com/18/ranking-salary/m/'\n",
    "sal18_m = pd.read_html(urlsal18_m)[0]\n",
    "\n",
    "urlsal18_l = 'https://baseball-data.com/18/ranking-salary/l/'\n",
    "sal18_l = pd.read_html(urlsal18_l)[0]\n",
    "\n",
    "urlsal18_e = 'https://baseball-data.com/18/ranking-salary/e/'\n",
    "sal18_e = pd.read_html(urlsal18_e)[0]\n",
    "\n",
    "urlsal18_f = 'https://baseball-data.com/18/ranking-salary/f/'\n",
    "sal18_f = pd.read_html(urlsal18_f)[0]\n",
    "\n",
    "urlsal18_bs = 'https://baseball-data.com/18/ranking-salary/bs/'\n",
    "sal18_bs = pd.read_html(urlsal18_bs)[0]\n"
   ]
  },
  {
   "cell_type": "code",
   "execution_count": 28,
   "id": "0eae05bf-523d-4134-be5a-9febdc598bb6",
   "metadata": {},
   "outputs": [],
   "source": [
    "sal18 = pd.concat([sal18_g, sal18_t,sal18_d,sal18_yb,sal18_c,sal18_s,sal18_h,sal18_m,sal18_l,sal18_e,sal18_f,sal18_bs]).reset_index()"
   ]
  },
  {
   "cell_type": "code",
   "execution_count": 29,
   "id": "35ba1c4a-65b0-473c-bd48-239b130c0401",
   "metadata": {},
   "outputs": [],
   "source": [
    "name = []\n",
    "for n in sal18.columns:\n",
    "    item = n[0]\n",
    "    name.append(item)\n",
    "\n",
    "sal18.columns = name"
   ]
  },
  {
   "cell_type": "code",
   "execution_count": 30,
   "id": "c17282d3-0bc9-447e-871d-4d423d374b38",
   "metadata": {},
   "outputs": [],
   "source": [
    "sal18 = sal18[sal18['年俸(推定)']!='-']\n",
    "sal18['年俸(推定)']= sal18['年俸(推定)'].str.split('万円', expand=True)[0]\n",
    "sal18['年俸(推定)'] = sal18['年俸(推定)'].str.replace(',','')\n",
    "sal18['年俸(推定)'] = sal18['年俸(推定)'].astype(int)\n",
    "\n",
    "sal18['年数']= sal18['年数'].str.split('年', expand=True)[0].astype(int)\n",
    "sal18['年齢']= sal18['年齢'].str.split('歳', expand=True)[0].astype(int)\n",
    "sal18['身長']= sal18['身長'].str.split('cm', expand=True)[0].astype(int)\n",
    "sal18['体重']= sal18['体重'].str.split('kg', expand=True)[0].astype(int)"
   ]
  },
  {
   "cell_type": "markdown",
   "id": "5ce33b81-c1f2-4849-ba07-29d138cbf38b",
   "metadata": {},
   "source": [
    "#### データの結合"
   ]
  },
  {
   "cell_type": "code",
   "execution_count": 31,
   "id": "81d9c226-055f-4e33-9820-26e6a6e9c375",
   "metadata": {},
   "outputs": [],
   "source": [
    "dfpit18 = pd.merge(pit18,sal18,on ='選手名', how = 'left')"
   ]
  },
  {
   "cell_type": "code",
   "execution_count": 32,
   "id": "21760d45-07ba-40c3-90c1-9738eb6d5333",
   "metadata": {},
   "outputs": [],
   "source": [
    "dfpit18.rename(columns=lambda s:s+'_18',inplace = True)\n",
    "dfpit18.rename(columns = {'選手名_18':'選手名'},inplace = True)"
   ]
  },
  {
   "cell_type": "markdown",
   "id": "8edb8f65-602e-438a-8e1f-ae0ed59b7832",
   "metadata": {},
   "source": [
    "### 2017年"
   ]
  },
  {
   "cell_type": "markdown",
   "id": "27be777e-7a96-44a1-b2a2-77eee84bfcc9",
   "metadata": {},
   "source": [
    "#### 投球データのスクレイピング"
   ]
  },
  {
   "cell_type": "code",
   "execution_count": 33,
   "id": "4e6eb62a-8ba0-40b0-9297-ee646a882fb2",
   "metadata": {},
   "outputs": [],
   "source": [
    "urlpit17 = \"https://baseball-data.com/17/stats/pitcher-all/era-5.html\"\n",
    "pit17 = pd.read_html(urlpit17)[0]\n",
    "pit17[\"年\"] = 2017\n",
    "\n",
    "name = []\n",
    "for n in pit17.columns:\n",
    "    item = n[0]\n",
    "    name.append(item)\n",
    "\n",
    "pit17.columns = name\n",
    "pit17.rename(columns={'セlブ': 'セーブ', 'ホlルド': 'ホールド'},inplace = True)"
   ]
  },
  {
   "cell_type": "markdown",
   "id": "30e572ad-8b21-4415-9cee-ebe59dfdf192",
   "metadata": {},
   "source": [
    "#### 年俸データのスクレイピング"
   ]
  },
  {
   "cell_type": "code",
   "execution_count": 34,
   "id": "13bbfd87-8512-4684-b643-6ba2c4adb426",
   "metadata": {
    "tags": []
   },
   "outputs": [],
   "source": [
    "urlsal17_g = 'https://baseball-data.com/17/ranking-salary/g/'\n",
    "sal17_g = pd.read_html(urlsal17_g)[0]\n",
    "\n",
    "urlsal17_t = 'https://baseball-data.com/17/ranking-salary/t/'\n",
    "sal17_t = pd.read_html(urlsal17_t)[0]\n",
    "\n",
    "urlsal17_d = 'https://baseball-data.com/17/ranking-salary/d/'\n",
    "sal17_d = pd.read_html(urlsal17_d)[0]\n",
    "\n",
    "urlsal17_yb = 'https://baseball-data.com/17/ranking-salary/yb/'\n",
    "sal17_yb = pd.read_html(urlsal17_yb)[0]\n",
    "\n",
    "urlsal17_c = 'https://baseball-data.com/17/ranking-salary/c/'\n",
    "sal17_c = pd.read_html(urlsal17_c)[0]\n",
    "\n",
    "urlsal17_s = 'https://baseball-data.com/17/ranking-salary/s/'\n",
    "sal17_s = pd.read_html(urlsal17_s)[0]\n",
    "\n",
    "urlsal17_h = 'https://baseball-data.com/17/ranking-salary/h/'\n",
    "sal17_h = pd.read_html(urlsal17_h)[0]\n",
    "\n",
    "urlsal17_m = 'https://baseball-data.com/17/ranking-salary/m/'\n",
    "sal17_m = pd.read_html(urlsal17_m)[0]\n",
    "\n",
    "urlsal17_l = 'https://baseball-data.com/17/ranking-salary/l/'\n",
    "sal17_l = pd.read_html(urlsal17_l)[0]\n",
    "\n",
    "urlsal17_e = 'https://baseball-data.com/17/ranking-salary/e/'\n",
    "sal17_e = pd.read_html(urlsal17_e)[0]\n",
    "\n",
    "urlsal17_f = 'https://baseball-data.com/17/ranking-salary/f/'\n",
    "sal17_f = pd.read_html(urlsal17_f)[0]\n",
    "\n",
    "urlsal17_bs = 'https://baseball-data.com/17/ranking-salary/bs/'\n",
    "sal17_bs = pd.read_html(urlsal17_bs)[0]\n"
   ]
  },
  {
   "cell_type": "code",
   "execution_count": 35,
   "id": "f62ae7ec-ff87-4c8d-992a-0d435afcfdf1",
   "metadata": {},
   "outputs": [],
   "source": [
    "sal17 = pd.concat([sal17_g, sal17_t,sal17_d,sal17_yb,sal17_c,sal17_s,sal17_h,sal17_m,sal17_l,sal17_e,sal17_f,sal17_bs]).reset_index()"
   ]
  },
  {
   "cell_type": "code",
   "execution_count": 36,
   "id": "16c1e2ea-bd9c-4a96-9ebd-1e978c3ba159",
   "metadata": {},
   "outputs": [],
   "source": [
    "name = []\n",
    "for n in sal17.columns:\n",
    "    item = n[0]\n",
    "    name.append(item)\n",
    "\n",
    "sal17.columns = name"
   ]
  },
  {
   "cell_type": "code",
   "execution_count": 37,
   "id": "a425f8cf-476a-44a5-9778-2c3b6c8e7630",
   "metadata": {},
   "outputs": [],
   "source": [
    "sal17 = sal17[sal17['年俸(推定)']!='-']\n",
    "sal17['年俸(推定)']= sal17['年俸(推定)'].str.split('万円', expand=True)[0]\n",
    "sal17['年俸(推定)'] = sal17['年俸(推定)'].str.replace(',','')\n",
    "sal17['年俸(推定)'] = sal17['年俸(推定)'].astype(int)\n",
    "\n",
    "sal17['年数']= sal17['年数'].str.split('年', expand=True)[0].astype(int)\n",
    "sal17['年齢']= sal17['年齢'].str.split('歳', expand=True)[0].astype(int)\n",
    "sal17['身長']= sal17['身長'].str.split('cm', expand=True)[0].astype(int)\n",
    "sal17['体重']= sal17['体重'].str.split('kg', expand=True)[0].astype(int)"
   ]
  },
  {
   "cell_type": "markdown",
   "id": "45bb7304-8826-4bda-b526-0cd170f69f88",
   "metadata": {},
   "source": [
    "#### データの結合"
   ]
  },
  {
   "cell_type": "code",
   "execution_count": 38,
   "id": "3a477f86-9c87-4907-b3cc-c5c98ba194ef",
   "metadata": {},
   "outputs": [],
   "source": [
    "dfpit17 = pd.merge(pit17,sal17,on ='選手名', how = 'left')"
   ]
  },
  {
   "cell_type": "code",
   "execution_count": 39,
   "id": "f1d59f1b-eb65-4890-a5be-7bb636edece5",
   "metadata": {},
   "outputs": [],
   "source": [
    "dfpit17.rename(columns=lambda s:s+'_17',inplace = True)\n",
    "dfpit17.rename(columns = {'選手名_17':'選手名'},inplace = True)"
   ]
  },
  {
   "cell_type": "markdown",
   "id": "447f210f-6efe-46e2-ab84-0ddb0dd501a5",
   "metadata": {},
   "source": [
    "### 2016年"
   ]
  },
  {
   "cell_type": "markdown",
   "id": "05e20acd-ab8d-40ea-ae69-2bd33c2be12f",
   "metadata": {},
   "source": [
    "#### 投球データのスクレイピング"
   ]
  },
  {
   "cell_type": "code",
   "execution_count": 40,
   "id": "ba5d99d0-84e9-43ec-a85e-fddec17e0e70",
   "metadata": {},
   "outputs": [],
   "source": [
    "urlpit16 = \"https://baseball-data.com/16/stats/pitcher-all/era-5.html\"\n",
    "pit16 = pd.read_html(urlpit16)[0]\n",
    "pit16[\"年\"] = 2016\n",
    "\n",
    "name = []\n",
    "for n in pit16.columns:\n",
    "    item = n[0]\n",
    "    name.append(item)\n",
    "\n",
    "pit16.columns = name\n",
    "pit16.rename(columns={'セlブ': 'セーブ', 'ホlルド': 'ホールド'},inplace = True)"
   ]
  },
  {
   "cell_type": "markdown",
   "id": "92d4b923-6b73-4137-ae91-1dc493b32b01",
   "metadata": {},
   "source": [
    "#### 年俸データのスクレイピング"
   ]
  },
  {
   "cell_type": "code",
   "execution_count": 41,
   "id": "6dbb5f47-1ea0-4b43-86f5-327ea02ff4af",
   "metadata": {
    "tags": []
   },
   "outputs": [],
   "source": [
    "urlsal16_g = 'https://baseball-data.com/16/ranking-salary/g/'\n",
    "sal16_g = pd.read_html(urlsal16_g)[0]\n",
    "\n",
    "urlsal16_t = 'https://baseball-data.com/16/ranking-salary/t/'\n",
    "sal16_t = pd.read_html(urlsal16_t)[0]\n",
    "\n",
    "urlsal16_d = 'https://baseball-data.com/16/ranking-salary/d/'\n",
    "sal16_d = pd.read_html(urlsal16_d)[0]\n",
    "\n",
    "urlsal16_yb = 'https://baseball-data.com/16/ranking-salary/yb/'\n",
    "sal16_yb = pd.read_html(urlsal16_yb)[0]\n",
    "\n",
    "urlsal16_c = 'https://baseball-data.com/16/ranking-salary/c/'\n",
    "sal16_c = pd.read_html(urlsal16_c)[0]\n",
    "\n",
    "urlsal16_s = 'https://baseball-data.com/16/ranking-salary/s/'\n",
    "sal16_s = pd.read_html(urlsal16_s)[0]\n",
    "\n",
    "urlsal16_h = 'https://baseball-data.com/16/ranking-salary/h/'\n",
    "sal16_h = pd.read_html(urlsal16_h)[0]\n",
    "\n",
    "urlsal16_m = 'https://baseball-data.com/16/ranking-salary/m/'\n",
    "sal16_m = pd.read_html(urlsal16_m)[0]\n",
    "\n",
    "urlsal16_l = 'https://baseball-data.com/16/ranking-salary/l/'\n",
    "sal16_l = pd.read_html(urlsal16_l)[0]\n",
    "\n",
    "urlsal16_e = 'https://baseball-data.com/16/ranking-salary/e/'\n",
    "sal16_e = pd.read_html(urlsal16_e)[0]\n",
    "\n",
    "urlsal16_f = 'https://baseball-data.com/16/ranking-salary/f/'\n",
    "sal16_f = pd.read_html(urlsal16_f)[0]\n",
    "\n",
    "urlsal16_bs = 'https://baseball-data.com/16/ranking-salary/bs/'\n",
    "sal16_bs = pd.read_html(urlsal16_bs)[0]\n"
   ]
  },
  {
   "cell_type": "code",
   "execution_count": 42,
   "id": "7bafee33-1ad6-4d2f-8732-51c2408204c5",
   "metadata": {},
   "outputs": [],
   "source": [
    "sal16 = pd.concat([sal16_g, sal16_t,sal16_d,sal16_yb,sal16_c,sal16_s,sal16_h,sal16_m,sal16_l,sal16_e,sal16_f,sal16_bs]).reset_index()"
   ]
  },
  {
   "cell_type": "code",
   "execution_count": 43,
   "id": "9a2f8286-f341-4022-8afb-39ca20da9ca3",
   "metadata": {},
   "outputs": [],
   "source": [
    "name = []\n",
    "for n in sal16.columns:\n",
    "    item = n[0]\n",
    "    name.append(item)\n",
    "\n",
    "sal16.columns = name"
   ]
  },
  {
   "cell_type": "code",
   "execution_count": 44,
   "id": "b3de9895-2b15-45c7-bdfd-825f6ce445a7",
   "metadata": {},
   "outputs": [],
   "source": [
    "sal16 = sal16[sal16['年俸(推定)']!='-']\n",
    "sal16['年俸(推定)']= sal16['年俸(推定)'].str.split('万円', expand=True)[0]\n",
    "sal16['年俸(推定)'] = sal16['年俸(推定)'].str.replace(',','')\n",
    "sal16['年俸(推定)'] = sal16['年俸(推定)'].astype(int)\n",
    "\n",
    "sal16['年数']= sal16['年数'].str.split('年', expand=True)[0].astype(int)\n",
    "sal16['年齢']= sal16['年齢'].str.split('歳', expand=True)[0].astype(int)\n",
    "sal16['身長']= sal16['身長'].str.split('cm', expand=True)[0].astype(int)\n",
    "sal16['体重']= sal16['体重'].str.split('kg', expand=True)[0].astype(int)"
   ]
  },
  {
   "cell_type": "markdown",
   "id": "fd129ff3-e82c-4a19-beb9-836b561041c1",
   "metadata": {},
   "source": [
    "#### データの結合"
   ]
  },
  {
   "cell_type": "code",
   "execution_count": 45,
   "id": "068dd176-4809-4585-812b-264afb36fac0",
   "metadata": {},
   "outputs": [],
   "source": [
    "dfpit16 = pd.merge(pit16,sal16,on ='選手名', how = 'left')"
   ]
  },
  {
   "cell_type": "code",
   "execution_count": 46,
   "id": "f67ab3f7-5b62-4a98-9578-b7bf933bb425",
   "metadata": {},
   "outputs": [],
   "source": [
    "dfpit16.rename(columns=lambda s:s+'_16',inplace = True)\n",
    "dfpit16.rename(columns = {'選手名_16':'選手名'},inplace = True)"
   ]
  },
  {
   "cell_type": "markdown",
   "id": "4d92a082-c7f4-4aaa-a302-d9480a1124e1",
   "metadata": {},
   "source": [
    "### 2015年"
   ]
  },
  {
   "cell_type": "markdown",
   "id": "0ca13aa1-fbee-4c36-9e1b-fadc4a610ef0",
   "metadata": {},
   "source": [
    "#### 投球データのスクレイピング"
   ]
  },
  {
   "cell_type": "code",
   "execution_count": 47,
   "id": "7c5fcd21-9e91-4043-a02f-dd9574e351d9",
   "metadata": {},
   "outputs": [],
   "source": [
    "urlpit15 = \"https://baseball-data.com/15/stats/pitcher-all/era-5.html\"\n",
    "pit15 = pd.read_html(urlpit15)[0]\n",
    "pit15[\"年\"] = 2015\n",
    "\n",
    "name = []\n",
    "for n in pit15.columns:\n",
    "    item = n[0]\n",
    "    name.append(item)\n",
    "\n",
    "pit15.columns = name\n",
    "pit15.rename(columns={'セlブ': 'セーブ', 'ホlルド': 'ホールド'},inplace = True)"
   ]
  },
  {
   "cell_type": "markdown",
   "id": "f3c36946-9ab8-4d4b-a7dc-e5f3826073de",
   "metadata": {},
   "source": [
    "#### 年俸データのスクレイピング"
   ]
  },
  {
   "cell_type": "code",
   "execution_count": 48,
   "id": "14b482a0-05c3-4fcc-bf5a-5596ccc0fea1",
   "metadata": {
    "tags": []
   },
   "outputs": [],
   "source": [
    "urlsal15_g = 'https://baseball-data.com/15/ranking-salary/g/'\n",
    "sal15_g = pd.read_html(urlsal15_g)[0]\n",
    "\n",
    "urlsal15_t = 'https://baseball-data.com/15/ranking-salary/t/'\n",
    "sal15_t = pd.read_html(urlsal15_t)[0]\n",
    "\n",
    "urlsal15_d = 'https://baseball-data.com/15/ranking-salary/d/'\n",
    "sal15_d = pd.read_html(urlsal15_d)[0]\n",
    "\n",
    "urlsal15_yb = 'https://baseball-data.com/15/ranking-salary/yb/'\n",
    "sal15_yb = pd.read_html(urlsal15_yb)[0]\n",
    "\n",
    "urlsal15_c = 'https://baseball-data.com/15/ranking-salary/c/'\n",
    "sal15_c = pd.read_html(urlsal15_c)[0]\n",
    "\n",
    "urlsal15_s = 'https://baseball-data.com/15/ranking-salary/s/'\n",
    "sal15_s = pd.read_html(urlsal15_s)[0]\n",
    "\n",
    "urlsal15_h = 'https://baseball-data.com/15/ranking-salary/h/'\n",
    "sal15_h = pd.read_html(urlsal15_h)[0]\n",
    "\n",
    "urlsal15_m = 'https://baseball-data.com/15/ranking-salary/m/'\n",
    "sal15_m = pd.read_html(urlsal15_m)[0]\n",
    "\n",
    "urlsal15_l = 'https://baseball-data.com/15/ranking-salary/l/'\n",
    "sal15_l = pd.read_html(urlsal15_l)[0]\n",
    "\n",
    "urlsal15_e = 'https://baseball-data.com/15/ranking-salary/e/'\n",
    "sal15_e = pd.read_html(urlsal15_e)[0]\n",
    "\n",
    "urlsal15_f = 'https://baseball-data.com/15/ranking-salary/f/'\n",
    "sal15_f = pd.read_html(urlsal15_f)[0]\n",
    "\n",
    "urlsal15_bs = 'https://baseball-data.com/15/ranking-salary/bs/'\n",
    "sal15_bs = pd.read_html(urlsal15_bs)[0]\n"
   ]
  },
  {
   "cell_type": "code",
   "execution_count": 49,
   "id": "48c48113-45f2-4656-a193-b451e0cebaa3",
   "metadata": {},
   "outputs": [],
   "source": [
    "sal15 = pd.concat([sal15_g, sal15_t,sal15_d,sal15_yb,sal15_c,sal15_s,sal15_h,sal15_m,sal15_l,sal15_e,sal15_f,sal15_bs]).reset_index()"
   ]
  },
  {
   "cell_type": "code",
   "execution_count": 50,
   "id": "9ad3ab14-3c80-4725-a280-87fddd2b7833",
   "metadata": {},
   "outputs": [],
   "source": [
    "name = []\n",
    "for n in sal15.columns:\n",
    "    item = n[0]\n",
    "    name.append(item)\n",
    "\n",
    "sal15.columns = name"
   ]
  },
  {
   "cell_type": "code",
   "execution_count": 51,
   "id": "45423360-9767-4c77-8372-82c20df1d048",
   "metadata": {},
   "outputs": [],
   "source": [
    "sal15 = sal15[sal15['年俸(推定)']!='-']\n",
    "sal15['年俸(推定)']= sal15['年俸(推定)'].str.split('万円', expand=True)[0]\n",
    "sal15['年俸(推定)'] = sal15['年俸(推定)'].str.replace(',','')\n",
    "sal15['年俸(推定)'] = sal15['年俸(推定)'].astype(int)\n",
    "\n",
    "sal15['年数']= sal15['年数'].str.split('年', expand=True)[0].astype(int)\n",
    "sal15['年齢']= sal15['年齢'].str.split('歳', expand=True)[0].astype(int)\n",
    "sal15['身長']= sal15['身長'].str.split('cm', expand=True)[0].astype(int)\n",
    "sal15['体重']= sal15['体重'].str.split('kg', expand=True)[0].astype(int)"
   ]
  },
  {
   "cell_type": "markdown",
   "id": "e1253777-8608-4061-a185-d9cf4311ebbc",
   "metadata": {},
   "source": [
    "#### データの結合"
   ]
  },
  {
   "cell_type": "code",
   "execution_count": 52,
   "id": "7de62e05-5da2-47b0-bf68-5b102c56b829",
   "metadata": {},
   "outputs": [],
   "source": [
    "dfpit15 = pd.merge(pit15,sal15,on ='選手名', how = 'left')"
   ]
  },
  {
   "cell_type": "code",
   "execution_count": 53,
   "id": "0b13346f-3cc2-4c04-bb62-170d61dd6515",
   "metadata": {},
   "outputs": [],
   "source": [
    "dfpit15.rename(columns=lambda s:s+'_15',inplace = True)\n",
    "dfpit15.rename(columns = {'選手名_15':'選手名'},inplace = True)"
   ]
  },
  {
   "cell_type": "markdown",
   "id": "81e5008a-2ad5-48eb-9397-1cb347e32ee3",
   "metadata": {},
   "source": [
    "### 2014年"
   ]
  },
  {
   "cell_type": "markdown",
   "id": "0032c4fb-2212-40f0-a0f9-2b0b9bd76872",
   "metadata": {},
   "source": [
    "#### 投球データのスクレイピング"
   ]
  },
  {
   "cell_type": "code",
   "execution_count": 54,
   "id": "d6a36212-386e-400b-b6a4-633c746abe56",
   "metadata": {},
   "outputs": [],
   "source": [
    "urlpit14 = \"https://baseball-data.com/14/stats/pitcher-all/era-5.html\"\n",
    "pit14 = pd.read_html(urlpit14)[0]\n",
    "pit14[\"年\"] = 2014\n",
    "\n",
    "name = []\n",
    "for n in pit14.columns:\n",
    "    item = n[0]\n",
    "    name.append(item)\n",
    "\n",
    "pit14.columns = name\n",
    "pit14.rename(columns={'セlブ': 'セーブ', 'ホlルド': 'ホールド'},inplace = True)"
   ]
  },
  {
   "cell_type": "markdown",
   "id": "d06a0139-f95c-49f8-af38-d1a3c6bfdcf2",
   "metadata": {},
   "source": [
    "#### 年俸データのスクレイピング"
   ]
  },
  {
   "cell_type": "code",
   "execution_count": 55,
   "id": "2193aec6-a1a3-4e0a-9c80-e685063f3cbd",
   "metadata": {
    "tags": []
   },
   "outputs": [],
   "source": [
    "urlsal14_g = 'https://baseball-data.com/14/ranking-salary/g/'\n",
    "sal14_g = pd.read_html(urlsal14_g)[0]\n",
    "\n",
    "urlsal14_t = 'https://baseball-data.com/14/ranking-salary/t/'\n",
    "sal14_t = pd.read_html(urlsal14_t)[0]\n",
    "\n",
    "urlsal14_d = 'https://baseball-data.com/14/ranking-salary/d/'\n",
    "sal14_d = pd.read_html(urlsal14_d)[0]\n",
    "\n",
    "urlsal14_yb = 'https://baseball-data.com/14/ranking-salary/yb/'\n",
    "sal14_yb = pd.read_html(urlsal14_yb)[0]\n",
    "\n",
    "urlsal14_c = 'https://baseball-data.com/14/ranking-salary/c/'\n",
    "sal14_c = pd.read_html(urlsal14_c)[0]\n",
    "\n",
    "urlsal14_s = 'https://baseball-data.com/14/ranking-salary/s/'\n",
    "sal14_s = pd.read_html(urlsal14_s)[0]\n",
    "\n",
    "urlsal14_h = 'https://baseball-data.com/14/ranking-salary/h/'\n",
    "sal14_h = pd.read_html(urlsal14_h)[0]\n",
    "\n",
    "urlsal14_m = 'https://baseball-data.com/14/ranking-salary/m/'\n",
    "sal14_m = pd.read_html(urlsal14_m)[0]\n",
    "\n",
    "urlsal14_l = 'https://baseball-data.com/14/ranking-salary/l/'\n",
    "sal14_l = pd.read_html(urlsal14_l)[0]\n",
    "\n",
    "urlsal14_e = 'https://baseball-data.com/14/ranking-salary/e/'\n",
    "sal14_e = pd.read_html(urlsal14_e)[0]\n",
    "\n",
    "urlsal14_f = 'https://baseball-data.com/14/ranking-salary/f/'\n",
    "sal14_f = pd.read_html(urlsal14_f)[0]\n",
    "\n",
    "urlsal14_bs = 'https://baseball-data.com/14/ranking-salary/bs/'\n",
    "sal14_bs = pd.read_html(urlsal14_bs)[0]\n"
   ]
  },
  {
   "cell_type": "code",
   "execution_count": 56,
   "id": "de1f9476-38ab-4db5-b1b0-21c989e5de93",
   "metadata": {},
   "outputs": [],
   "source": [
    "sal14 = pd.concat([sal14_g, sal14_t,sal14_d,sal14_yb,sal14_c,sal14_s,sal14_h,sal14_m,sal14_l,sal14_e,sal14_f,sal14_bs]).reset_index()"
   ]
  },
  {
   "cell_type": "code",
   "execution_count": 57,
   "id": "88b66ecd-a157-41ec-a75b-e0b4dd3b1af3",
   "metadata": {},
   "outputs": [],
   "source": [
    "name = []\n",
    "for n in sal14.columns:\n",
    "    item = n[0]\n",
    "    name.append(item)\n",
    "\n",
    "sal14.columns = name"
   ]
  },
  {
   "cell_type": "code",
   "execution_count": 58,
   "id": "c7ee4448-1e86-48fc-89d7-fe089d9a1f60",
   "metadata": {},
   "outputs": [],
   "source": [
    "sal14 = sal14[sal14['年俸(推定)']!='-']\n",
    "sal14['年俸(推定)']= sal14['年俸(推定)'].str.split('万円', expand=True)[0]\n",
    "sal14['年俸(推定)'] = sal14['年俸(推定)'].str.replace(',','')\n",
    "sal14['年俸(推定)'] = sal14['年俸(推定)'].astype(int)\n",
    "\n",
    "sal14['年数']= sal14['年数'].str.split('年', expand=True)[0].astype(int)\n",
    "sal14['年齢']= sal14['年齢'].str.split('歳', expand=True)[0].astype(int)\n",
    "sal14['身長']= sal14['身長'].str.split('cm', expand=True)[0].astype(int)\n",
    "sal14['体重']= sal14['体重'].str.split('kg', expand=True)[0].astype(int)"
   ]
  },
  {
   "cell_type": "markdown",
   "id": "a5de1a39-53a3-4ab2-b3a7-ec95016930f3",
   "metadata": {},
   "source": [
    "#### データの結合"
   ]
  },
  {
   "cell_type": "code",
   "execution_count": 59,
   "id": "94d979dd-f0a3-432a-a979-04f48ecf784f",
   "metadata": {},
   "outputs": [],
   "source": [
    "dfpit14 = pd.merge(pit14,sal14,on ='選手名', how = 'left')"
   ]
  },
  {
   "cell_type": "code",
   "execution_count": 60,
   "id": "f46a1440-844e-4ffe-b5fe-1f37819e74f0",
   "metadata": {},
   "outputs": [],
   "source": [
    "dfpit14.rename(columns=lambda s:s+'_14',inplace = True)\n",
    "dfpit14.rename(columns = {'選手名_14':'選手名'},inplace = True)"
   ]
  },
  {
   "cell_type": "markdown",
   "id": "0765241a-1f40-4a19-82ac-39f5055f8694",
   "metadata": {},
   "source": [
    "### 2013年"
   ]
  },
  {
   "cell_type": "markdown",
   "id": "59adeabc-7b45-426c-b9a9-4eeb8d84792c",
   "metadata": {},
   "source": [
    "#### 投球データのスクレイピング"
   ]
  },
  {
   "cell_type": "code",
   "execution_count": 61,
   "id": "40bd09de-c838-4512-904d-cd47f716317b",
   "metadata": {},
   "outputs": [],
   "source": [
    "urlpit13 = \"https://baseball-data.com/13/stats/pitcher-all/era-5.html\"\n",
    "pit13 = pd.read_html(urlpit13)[0]\n",
    "pit13[\"年\"] = 2013\n",
    "\n",
    "name = []\n",
    "for n in pit13.columns:\n",
    "    item = n[0]\n",
    "    name.append(item)\n",
    "\n",
    "pit13.columns = name\n",
    "pit13.rename(columns={'セlブ': 'セーブ', 'ホlルド': 'ホールド'},inplace = True)"
   ]
  },
  {
   "cell_type": "markdown",
   "id": "e6100ae4-9ba4-47ae-b7ef-bf2f3cb69825",
   "metadata": {},
   "source": [
    "#### 年俸データのスクレイピング"
   ]
  },
  {
   "cell_type": "code",
   "execution_count": 62,
   "id": "3486f2c2-802e-4b9f-8d41-942a5fd26496",
   "metadata": {
    "tags": []
   },
   "outputs": [],
   "source": [
    "urlsal13_g = 'https://baseball-data.com/13/ranking-salary/g/'\n",
    "sal13_g = pd.read_html(urlsal13_g)[0]\n",
    "\n",
    "urlsal13_t = 'https://baseball-data.com/13/ranking-salary/t/'\n",
    "sal13_t = pd.read_html(urlsal13_t)[0]\n",
    "\n",
    "urlsal13_d = 'https://baseball-data.com/13/ranking-salary/d/'\n",
    "sal13_d = pd.read_html(urlsal13_d)[0]\n",
    "\n",
    "urlsal13_yb = 'https://baseball-data.com/13/ranking-salary/yb/'\n",
    "sal13_yb = pd.read_html(urlsal13_yb)[0]\n",
    "\n",
    "urlsal13_c = 'https://baseball-data.com/13/ranking-salary/c/'\n",
    "sal13_c = pd.read_html(urlsal13_c)[0]\n",
    "\n",
    "urlsal13_s = 'https://baseball-data.com/13/ranking-salary/s/'\n",
    "sal13_s = pd.read_html(urlsal13_s)[0]\n",
    "\n",
    "urlsal13_h = 'https://baseball-data.com/13/ranking-salary/h/'\n",
    "sal13_h = pd.read_html(urlsal13_h)[0]\n",
    "\n",
    "urlsal13_m = 'https://baseball-data.com/13/ranking-salary/m/'\n",
    "sal13_m = pd.read_html(urlsal13_m)[0]\n",
    "\n",
    "urlsal13_l = 'https://baseball-data.com/13/ranking-salary/l/'\n",
    "sal13_l = pd.read_html(urlsal13_l)[0]\n",
    "\n",
    "urlsal13_e = 'https://baseball-data.com/13/ranking-salary/e/'\n",
    "sal13_e = pd.read_html(urlsal13_e)[0]\n",
    "\n",
    "urlsal13_f = 'https://baseball-data.com/13/ranking-salary/f/'\n",
    "sal13_f = pd.read_html(urlsal13_f)[0]\n",
    "\n",
    "urlsal13_bs = 'https://baseball-data.com/13/ranking-salary/bs/'\n",
    "sal13_bs = pd.read_html(urlsal13_bs)[0]\n"
   ]
  },
  {
   "cell_type": "code",
   "execution_count": 63,
   "id": "57b3d265-0ddd-4471-9e84-a8855433e590",
   "metadata": {},
   "outputs": [],
   "source": [
    "sal13 = pd.concat([sal13_g, sal13_t,sal13_d,sal13_yb,sal13_c,sal13_s,sal13_h,sal13_m,sal13_l,sal13_e,sal13_f,sal13_bs]).reset_index()"
   ]
  },
  {
   "cell_type": "code",
   "execution_count": 64,
   "id": "8b459607-6a9b-4d12-84d7-28aba1203195",
   "metadata": {},
   "outputs": [],
   "source": [
    "name = []\n",
    "for n in sal13.columns:\n",
    "    item = n[0]\n",
    "    name.append(item)\n",
    "\n",
    "sal13.columns = name"
   ]
  },
  {
   "cell_type": "code",
   "execution_count": 65,
   "id": "727729ad-adbf-4052-8e46-9b32f3d29f0a",
   "metadata": {},
   "outputs": [],
   "source": [
    "sal13 = sal13[sal13['年俸(推定)']!='-']\n",
    "sal13['年俸(推定)']= sal13['年俸(推定)'].str.split('万円', expand=True)[0]\n",
    "sal13['年俸(推定)'] = sal13['年俸(推定)'].str.replace(',','')\n",
    "sal13['年俸(推定)'] = sal13['年俸(推定)'].astype(int)\n",
    "\n",
    "sal13['年数']= sal13['年数'].str.split('年', expand=True)[0].astype(int)\n",
    "sal13['年齢']= sal13['年齢'].str.split('歳', expand=True)[0].astype(int)\n",
    "sal13['身長']= sal13['身長'].str.split('cm', expand=True)[0].astype(int)\n",
    "sal13['体重']= sal13['体重'].str.split('kg', expand=True)[0].astype(int)"
   ]
  },
  {
   "cell_type": "markdown",
   "id": "22f145c8-20eb-4cc3-9d57-964c1d7b6816",
   "metadata": {},
   "source": [
    "#### データの結合"
   ]
  },
  {
   "cell_type": "code",
   "execution_count": 66,
   "id": "5b5735a3-6e50-469b-9d02-02e2278e4aef",
   "metadata": {},
   "outputs": [],
   "source": [
    "dfpit13 = pd.merge(pit13,sal13,on ='選手名', how = 'left')"
   ]
  },
  {
   "cell_type": "code",
   "execution_count": 67,
   "id": "f9eb9755-2f82-4196-8de6-1066794bcba9",
   "metadata": {},
   "outputs": [],
   "source": [
    "dfpit13.rename(columns=lambda s:s+'_13',inplace = True)\n",
    "dfpit13.rename(columns = {'選手名_13':'選手名'},inplace = True)"
   ]
  },
  {
   "cell_type": "markdown",
   "id": "8d55513e-6ec4-4822-b434-73f3089612d6",
   "metadata": {},
   "source": [
    "### 2012年"
   ]
  },
  {
   "cell_type": "markdown",
   "id": "dc5e8de4-f69a-4b2c-aa81-52659c45afb9",
   "metadata": {},
   "source": [
    "#### 投球データのスクレイピング"
   ]
  },
  {
   "cell_type": "code",
   "execution_count": 68,
   "id": "9d190ff0-9ccf-405e-83f9-f3d86df76394",
   "metadata": {},
   "outputs": [],
   "source": [
    "urlpit12 = \"https://baseball-data.com/12/stats/pitcher-all/era-5.html\"\n",
    "pit12 = pd.read_html(urlpit12)[0]\n",
    "pit12[\"年\"] = 2012\n",
    "\n",
    "name = []\n",
    "for n in pit12.columns:\n",
    "    item = n[0]\n",
    "    name.append(item)\n",
    "\n",
    "pit12.columns = name\n",
    "pit12.rename(columns={'セlブ': 'セーブ', 'ホlルド': 'ホールド'},inplace = True)"
   ]
  },
  {
   "cell_type": "markdown",
   "id": "3240cee7-ee73-4417-912a-76b60477c18e",
   "metadata": {},
   "source": [
    "#### 年俸データのスクレイピング"
   ]
  },
  {
   "cell_type": "code",
   "execution_count": 69,
   "id": "bfb113e6-0d45-45b0-ba2f-8dbbb45219a0",
   "metadata": {
    "tags": []
   },
   "outputs": [],
   "source": [
    "urlsal12_g = 'https://baseball-data.com/12/ranking-salary/g/'\n",
    "sal12_g = pd.read_html(urlsal12_g)[0]\n",
    "\n",
    "urlsal12_t = 'https://baseball-data.com/12/ranking-salary/t/'\n",
    "sal12_t = pd.read_html(urlsal12_t)[0]\n",
    "\n",
    "urlsal12_d = 'https://baseball-data.com/12/ranking-salary/d/'\n",
    "sal12_d = pd.read_html(urlsal12_d)[0]\n",
    "\n",
    "urlsal12_yb = 'https://baseball-data.com/12/ranking-salary/yb/'\n",
    "sal12_yb = pd.read_html(urlsal12_yb)[0]\n",
    "\n",
    "urlsal12_c = 'https://baseball-data.com/12/ranking-salary/c/'\n",
    "sal12_c = pd.read_html(urlsal12_c)[0]\n",
    "\n",
    "urlsal12_s = 'https://baseball-data.com/12/ranking-salary/s/'\n",
    "sal12_s = pd.read_html(urlsal12_s)[0]\n",
    "\n",
    "urlsal12_h = 'https://baseball-data.com/12/ranking-salary/h/'\n",
    "sal12_h = pd.read_html(urlsal12_h)[0]\n",
    "\n",
    "urlsal12_m = 'https://baseball-data.com/12/ranking-salary/m/'\n",
    "sal12_m = pd.read_html(urlsal12_m)[0]\n",
    "\n",
    "urlsal12_l = 'https://baseball-data.com/12/ranking-salary/l/'\n",
    "sal12_l = pd.read_html(urlsal12_l)[0]\n",
    "\n",
    "urlsal12_e = 'https://baseball-data.com/12/ranking-salary/e/'\n",
    "sal12_e = pd.read_html(urlsal12_e)[0]\n",
    "\n",
    "urlsal12_f = 'https://baseball-data.com/12/ranking-salary/f/'\n",
    "sal12_f = pd.read_html(urlsal12_f)[0]\n",
    "\n",
    "urlsal12_bs = 'https://baseball-data.com/12/ranking-salary/bs/'\n",
    "sal12_bs = pd.read_html(urlsal12_bs)[0]\n"
   ]
  },
  {
   "cell_type": "code",
   "execution_count": 70,
   "id": "436ab5d0-38cb-4292-9ab0-d15f555f3750",
   "metadata": {},
   "outputs": [],
   "source": [
    "sal12 = pd.concat([sal12_g, sal12_t,sal12_d,sal12_yb,sal12_c,sal12_s,sal12_h,sal12_m,sal12_l,sal12_e,sal12_f,sal12_bs]).reset_index()"
   ]
  },
  {
   "cell_type": "code",
   "execution_count": 71,
   "id": "7d0de510-5253-4197-a95b-f1f43147e9f4",
   "metadata": {},
   "outputs": [],
   "source": [
    "name = []\n",
    "for n in sal12.columns:\n",
    "    item = n[0]\n",
    "    name.append(item)\n",
    "\n",
    "sal12.columns = name"
   ]
  },
  {
   "cell_type": "code",
   "execution_count": 72,
   "id": "f7b7544b-b10a-4a5c-af25-e4504e714c58",
   "metadata": {},
   "outputs": [],
   "source": [
    "sal12 = sal12[sal12['年俸(推定)']!='-']\n",
    "sal12['年俸(推定)']= sal12['年俸(推定)'].str.split('万円', expand=True)[0]\n",
    "sal12['年俸(推定)'] = sal12['年俸(推定)'].str.replace(',','')\n",
    "sal12['年俸(推定)'] = sal12['年俸(推定)'].astype(int)\n",
    "\n",
    "sal12['年数']= sal12['年数'].str.split('年', expand=True)[0].astype(int)\n",
    "sal12['年齢']= sal12['年齢'].str.split('歳', expand=True)[0].astype(int)\n",
    "sal12['身長']= sal12['身長'].str.split('cm', expand=True)[0].astype(int)\n",
    "sal12['体重']= sal12['体重'].str.split('kg', expand=True)[0].astype(int)"
   ]
  },
  {
   "cell_type": "markdown",
   "id": "04888599-3910-4056-8098-cf853f958681",
   "metadata": {},
   "source": [
    "#### データの結合"
   ]
  },
  {
   "cell_type": "code",
   "execution_count": 73,
   "id": "72590204-b4ef-4617-ab92-8a7cbb26b18a",
   "metadata": {},
   "outputs": [],
   "source": [
    "dfpit12 = pd.merge(pit12,sal12,on ='選手名', how = 'left')"
   ]
  },
  {
   "cell_type": "code",
   "execution_count": 74,
   "id": "89eff676-67d7-4d3f-b985-ddee89295baa",
   "metadata": {},
   "outputs": [],
   "source": [
    "dfpit12.rename(columns=lambda s:s+'_12',inplace = True)\n",
    "dfpit12.rename(columns = {'選手名_12':'選手名'},inplace = True)"
   ]
  },
  {
   "cell_type": "markdown",
   "id": "26c40d00-193c-4189-a5ca-76dd657a4a2f",
   "metadata": {},
   "source": [
    "### 2011年"
   ]
  },
  {
   "cell_type": "markdown",
   "id": "880c3c6c-7a1c-417a-8123-7c298d9279a8",
   "metadata": {},
   "source": [
    "#### 投球データのスクレイピング"
   ]
  },
  {
   "cell_type": "code",
   "execution_count": 75,
   "id": "f711aa23-d64e-460c-9e2c-fe778f5ebc89",
   "metadata": {},
   "outputs": [],
   "source": [
    "urlpit11 = \"https://baseball-data.com/11/stats/pitcher-all/era-5.html\"\n",
    "pit11 = pd.read_html(urlpit11)[0]\n",
    "pit11[\"年\"] = 2011\n",
    "\n",
    "name = []\n",
    "for n in pit11.columns:\n",
    "    item = n[0]\n",
    "    name.append(item)\n",
    "\n",
    "pit11.columns = name\n",
    "pit11.rename(columns={'セlブ': 'セーブ', 'ホlルド': 'ホールド'},inplace = True)"
   ]
  },
  {
   "cell_type": "markdown",
   "id": "da37aac2-5330-4b6b-a362-f92c29a69095",
   "metadata": {},
   "source": [
    "#### 年俸データのスクレイピング"
   ]
  },
  {
   "cell_type": "code",
   "execution_count": 76,
   "id": "e3761fdc-bd97-4764-8c85-5a7ba32326f7",
   "metadata": {
    "tags": []
   },
   "outputs": [],
   "source": [
    "urlsal11_g = 'https://baseball-data.com/11/ranking-salary/g/'\n",
    "sal11_g = pd.read_html(urlsal11_g)[0]\n",
    "\n",
    "urlsal11_t = 'https://baseball-data.com/11/ranking-salary/t/'\n",
    "sal11_t = pd.read_html(urlsal11_t)[0]\n",
    "\n",
    "urlsal11_d = 'https://baseball-data.com/11/ranking-salary/d/'\n",
    "sal11_d = pd.read_html(urlsal11_d)[0]\n",
    "\n",
    "urlsal11_yb = 'https://baseball-data.com/11/ranking-salary/yb/'\n",
    "sal11_yb = pd.read_html(urlsal11_yb)[0]\n",
    "\n",
    "urlsal11_c = 'https://baseball-data.com/11/ranking-salary/c/'\n",
    "sal11_c = pd.read_html(urlsal11_c)[0]\n",
    "\n",
    "urlsal11_s = 'https://baseball-data.com/11/ranking-salary/s/'\n",
    "sal11_s = pd.read_html(urlsal11_s)[0]\n",
    "\n",
    "urlsal11_h = 'https://baseball-data.com/11/ranking-salary/h/'\n",
    "sal11_h = pd.read_html(urlsal11_h)[0]\n",
    "\n",
    "urlsal11_m = 'https://baseball-data.com/11/ranking-salary/m/'\n",
    "sal11_m = pd.read_html(urlsal11_m)[0]\n",
    "\n",
    "urlsal11_l = 'https://baseball-data.com/11/ranking-salary/l/'\n",
    "sal11_l = pd.read_html(urlsal11_l)[0]\n",
    "\n",
    "urlsal11_e = 'https://baseball-data.com/11/ranking-salary/e/'\n",
    "sal11_e = pd.read_html(urlsal11_e)[0]\n",
    "\n",
    "urlsal11_f = 'https://baseball-data.com/11/ranking-salary/f/'\n",
    "sal11_f = pd.read_html(urlsal11_f)[0]\n",
    "\n",
    "urlsal11_bs = 'https://baseball-data.com/11/ranking-salary/bs/'\n",
    "sal11_bs = pd.read_html(urlsal11_bs)[0]\n"
   ]
  },
  {
   "cell_type": "code",
   "execution_count": 77,
   "id": "8212903c-f3f0-4959-b76a-93799e3bfa36",
   "metadata": {},
   "outputs": [],
   "source": [
    "sal11 = pd.concat([sal11_g, sal11_t,sal11_d,sal11_yb,sal11_c,sal11_s,sal11_h,sal11_m,sal11_l,sal11_e,sal11_f,sal11_bs]).reset_index()"
   ]
  },
  {
   "cell_type": "code",
   "execution_count": 78,
   "id": "4845dc23-e3ff-44b5-8822-5a1f31fb7860",
   "metadata": {},
   "outputs": [],
   "source": [
    "name = []\n",
    "for n in sal11.columns:\n",
    "    item = n[0]\n",
    "    name.append(item)\n",
    "\n",
    "sal11.columns = name"
   ]
  },
  {
   "cell_type": "code",
   "execution_count": 79,
   "id": "1f6c6a30-e541-43a2-ba57-ae3826e6987d",
   "metadata": {},
   "outputs": [],
   "source": [
    "sal11 = sal11[sal11['年俸(推定)']!='-']\n",
    "sal11['年俸(推定)']= sal11['年俸(推定)'].str.split('万円', expand=True)[0]\n",
    "sal11['年俸(推定)'] = sal11['年俸(推定)'].str.replace(',','')\n",
    "sal11['年俸(推定)'] = sal11['年俸(推定)'].astype(int)\n",
    "\n",
    "sal11['年数']= sal11['年数'].str.split('年', expand=True)[0].astype(int)\n",
    "sal11['年齢']= sal11['年齢'].str.split('歳', expand=True)[0].astype(int)\n",
    "sal11['身長']= sal11['身長'].str.split('cm', expand=True)[0].astype(int)\n",
    "sal11['体重']= sal11['体重'].str.split('kg', expand=True)[0].astype(int)"
   ]
  },
  {
   "cell_type": "markdown",
   "id": "3b47ae4a-15f8-4a81-9a47-8c9a0ae76d86",
   "metadata": {},
   "source": [
    "#### データの結合"
   ]
  },
  {
   "cell_type": "code",
   "execution_count": 80,
   "id": "479b137b-1bef-4927-b556-3a8aa50eb125",
   "metadata": {},
   "outputs": [],
   "source": [
    "dfpit11 = pd.merge(pit11,sal11,on ='選手名', how = 'left')"
   ]
  },
  {
   "cell_type": "code",
   "execution_count": 81,
   "id": "26aa1705-6c60-43b5-83f3-2b8efb896fce",
   "metadata": {},
   "outputs": [],
   "source": [
    "dfpit11.rename(columns=lambda s:s+'_11',inplace = True)\n",
    "dfpit11.rename(columns = {'選手名_11':'選手名'},inplace = True)"
   ]
  },
  {
   "cell_type": "markdown",
   "id": "46cb32ca-b174-41bc-9f7e-bfb4481b630d",
   "metadata": {},
   "source": [
    "### 2010年"
   ]
  },
  {
   "cell_type": "markdown",
   "id": "2d77ed40-a3ec-40a0-997a-a337740c7936",
   "metadata": {},
   "source": [
    "#### 投球データのスクレイピング"
   ]
  },
  {
   "cell_type": "code",
   "execution_count": 82,
   "id": "81f43181-6df7-4379-9b05-a7bd3a082a52",
   "metadata": {},
   "outputs": [],
   "source": [
    "urlpit10 = \"https://baseball-data.com/10/stats/pitcher-all/era-5.html\"\n",
    "pit10 = pd.read_html(urlpit10)[0]\n",
    "pit10[\"年\"] = 2010\n",
    "\n",
    "name = []\n",
    "for n in pit10.columns:\n",
    "    item = n[0]\n",
    "    name.append(item)\n",
    "\n",
    "pit10.columns = name\n",
    "pit10.rename(columns={'セlブ': 'セーブ', 'ホlルド': 'ホールド'},inplace = True)"
   ]
  },
  {
   "cell_type": "markdown",
   "id": "a00fc932-dd1f-4f34-ae67-cad83ba9d237",
   "metadata": {},
   "source": [
    "#### 年俸データのスクレイピング"
   ]
  },
  {
   "cell_type": "code",
   "execution_count": 83,
   "id": "c1156cc5-a2db-4816-97a4-089298c449d8",
   "metadata": {
    "tags": []
   },
   "outputs": [],
   "source": [
    "urlsal10_g = 'https://baseball-data.com/10/ranking-salary/g/'\n",
    "sal10_g = pd.read_html(urlsal10_g)[0]\n",
    "\n",
    "urlsal10_t = 'https://baseball-data.com/10/ranking-salary/t/'\n",
    "sal10_t = pd.read_html(urlsal10_t)[0]\n",
    "\n",
    "urlsal10_d = 'https://baseball-data.com/10/ranking-salary/d/'\n",
    "sal10_d = pd.read_html(urlsal10_d)[0]\n",
    "\n",
    "urlsal10_yb = 'https://baseball-data.com/10/ranking-salary/yb/'\n",
    "sal10_yb = pd.read_html(urlsal10_yb)[0]\n",
    "\n",
    "urlsal10_c = 'https://baseball-data.com/10/ranking-salary/c/'\n",
    "sal10_c = pd.read_html(urlsal10_c)[0]\n",
    "\n",
    "urlsal10_s = 'https://baseball-data.com/10/ranking-salary/s/'\n",
    "sal10_s = pd.read_html(urlsal10_s)[0]\n",
    "\n",
    "urlsal10_h = 'https://baseball-data.com/10/ranking-salary/h/'\n",
    "sal10_h = pd.read_html(urlsal10_h)[0]\n",
    "\n",
    "urlsal10_m = 'https://baseball-data.com/10/ranking-salary/m/'\n",
    "sal10_m = pd.read_html(urlsal10_m)[0]\n",
    "\n",
    "urlsal10_l = 'https://baseball-data.com/10/ranking-salary/l/'\n",
    "sal10_l = pd.read_html(urlsal10_l)[0]\n",
    "\n",
    "urlsal10_e = 'https://baseball-data.com/10/ranking-salary/e/'\n",
    "sal10_e = pd.read_html(urlsal10_e)[0]\n",
    "\n",
    "urlsal10_f = 'https://baseball-data.com/10/ranking-salary/f/'\n",
    "sal10_f = pd.read_html(urlsal10_f)[0]\n",
    "\n",
    "urlsal10_bs = 'https://baseball-data.com/10/ranking-salary/bs/'\n",
    "sal10_bs = pd.read_html(urlsal10_bs)[0]\n"
   ]
  },
  {
   "cell_type": "code",
   "execution_count": 84,
   "id": "860f6e46-9f66-411a-82f9-6b19a08fab19",
   "metadata": {},
   "outputs": [],
   "source": [
    "sal10 = pd.concat([sal10_g, sal10_t,sal10_d,sal10_yb,sal10_c,sal10_s,sal10_h,sal10_m,sal10_l,sal10_e,sal10_f,sal10_bs]).reset_index()"
   ]
  },
  {
   "cell_type": "code",
   "execution_count": 85,
   "id": "b50f6b43-9168-4e77-8c05-d923c645519b",
   "metadata": {},
   "outputs": [],
   "source": [
    "name = []\n",
    "for n in sal10.columns:\n",
    "    item = n[0]\n",
    "    name.append(item)\n",
    "\n",
    "sal10.columns = name"
   ]
  },
  {
   "cell_type": "code",
   "execution_count": 86,
   "id": "1ae0eede-7432-4bb5-b20b-9347cc2e961a",
   "metadata": {},
   "outputs": [],
   "source": [
    "sal10 = sal10[sal10['年俸(推定)']!='-']\n",
    "sal10['年俸(推定)']= sal10['年俸(推定)'].str.split('万円', expand=True)[0]\n",
    "sal10['年俸(推定)'] = sal10['年俸(推定)'].str.replace(',','')\n",
    "sal10['年俸(推定)'] = sal10['年俸(推定)'].astype(int)\n",
    "\n",
    "sal10['年数']= sal10['年数'].str.split('年', expand=True)[0].astype(int)\n",
    "sal10['年齢']= sal10['年齢'].str.split('歳', expand=True)[0].astype(int)\n",
    "sal10['身長']= sal10['身長'].str.split('cm', expand=True)[0].astype(int)\n",
    "sal10['体重']= sal10['体重'].str.split('kg', expand=True)[0].astype(int)"
   ]
  },
  {
   "cell_type": "markdown",
   "id": "cfb1bd87-f929-4699-bce9-c1032ca45d65",
   "metadata": {},
   "source": [
    "#### データの結合"
   ]
  },
  {
   "cell_type": "code",
   "execution_count": 87,
   "id": "ccb5b141-2c26-4427-bc37-a40bf71ed52e",
   "metadata": {},
   "outputs": [],
   "source": [
    "dfpit10 = pd.merge(pit10,sal10,on ='選手名', how = 'left')"
   ]
  },
  {
   "cell_type": "code",
   "execution_count": 88,
   "id": "11880807-2e45-4ad1-bce7-b9bd2d39af36",
   "metadata": {},
   "outputs": [],
   "source": [
    "dfpit10.rename(columns=lambda s:s+'_10',inplace = True)\n",
    "dfpit10.rename(columns = {'選手名_10':'選手名'},inplace = True)"
   ]
  },
  {
   "cell_type": "markdown",
   "id": "22a43cca-845b-413b-8bad-7a5537a08ee9",
   "metadata": {},
   "source": [
    "### 2009年"
   ]
  },
  {
   "cell_type": "markdown",
   "id": "53fc2be8-a724-4f40-b79f-f7b537edb587",
   "metadata": {},
   "source": [
    "#### 投球データのスクレイピング"
   ]
  },
  {
   "cell_type": "code",
   "execution_count": 89,
   "id": "1b56485f-796b-4b46-9f8b-4d8285019580",
   "metadata": {},
   "outputs": [],
   "source": [
    "urlpit09 = \"https://baseball-data.com/09/stats/pitcher-all/era-5.html\"\n",
    "pit09 = pd.read_html(urlpit09)[0]\n",
    "pit09[\"年\"] = 2009\n",
    "\n",
    "name = []\n",
    "for n in pit09.columns:\n",
    "    item = n[0]\n",
    "    name.append(item)\n",
    "\n",
    "pit09.columns = name\n",
    "pit09.rename(columns={'セlブ': 'セーブ', 'ホlルド': 'ホールド'},inplace = True)"
   ]
  },
  {
   "cell_type": "markdown",
   "id": "322c5a6b-2032-4958-a5fe-1731bfafcb2a",
   "metadata": {},
   "source": [
    "#### 年俸データのスクレイピング"
   ]
  },
  {
   "cell_type": "code",
   "execution_count": 90,
   "id": "d8c6edaa-a3b2-49a2-b650-57644c95f11b",
   "metadata": {
    "tags": []
   },
   "outputs": [],
   "source": [
    "urlsal09_g = 'https://baseball-data.com/09/ranking-salary/g/'\n",
    "sal09_g = pd.read_html(urlsal09_g)[0]\n",
    "\n",
    "urlsal09_t = 'https://baseball-data.com/09/ranking-salary/t/'\n",
    "sal09_t = pd.read_html(urlsal09_t)[0]\n",
    "\n",
    "urlsal09_d = 'https://baseball-data.com/09/ranking-salary/d/'\n",
    "sal09_d = pd.read_html(urlsal09_d)[0]\n",
    "\n",
    "urlsal09_yb = 'https://baseball-data.com/09/ranking-salary/yb/'\n",
    "sal09_yb = pd.read_html(urlsal09_yb)[0]\n",
    "\n",
    "urlsal09_c = 'https://baseball-data.com/09/ranking-salary/c/'\n",
    "sal09_c = pd.read_html(urlsal09_c)[0]\n",
    "\n",
    "urlsal09_s = 'https://baseball-data.com/09/ranking-salary/s/'\n",
    "sal09_s = pd.read_html(urlsal09_s)[0]\n",
    "\n",
    "urlsal09_h = 'https://baseball-data.com/09/ranking-salary/h/'\n",
    "sal09_h = pd.read_html(urlsal09_h)[0]\n",
    "\n",
    "urlsal09_m = 'https://baseball-data.com/09/ranking-salary/m/'\n",
    "sal09_m = pd.read_html(urlsal09_m)[0]\n",
    "\n",
    "urlsal09_l = 'https://baseball-data.com/09/ranking-salary/l/'\n",
    "sal09_l = pd.read_html(urlsal09_l)[0]\n",
    "\n",
    "urlsal09_e = 'https://baseball-data.com/09/ranking-salary/e/'\n",
    "sal09_e = pd.read_html(urlsal09_e)[0]\n",
    "\n",
    "urlsal09_f = 'https://baseball-data.com/09/ranking-salary/f/'\n",
    "sal09_f = pd.read_html(urlsal09_f)[0]\n",
    "\n",
    "urlsal09_bs = 'https://baseball-data.com/09/ranking-salary/bs/'\n",
    "sal09_bs = pd.read_html(urlsal09_bs)[0]\n"
   ]
  },
  {
   "cell_type": "code",
   "execution_count": 91,
   "id": "364a8ca2-046b-4b6f-964f-62f908616b41",
   "metadata": {},
   "outputs": [],
   "source": [
    "sal09 = pd.concat([sal09_g, sal09_t,sal09_d,sal09_yb,sal09_c,sal09_s,sal09_h,sal09_m,sal09_l,sal09_e,sal09_f,sal09_bs]).reset_index()"
   ]
  },
  {
   "cell_type": "code",
   "execution_count": 92,
   "id": "55e44d06-dd43-4610-a0dd-c77b2e902ac0",
   "metadata": {},
   "outputs": [],
   "source": [
    "name = []\n",
    "for n in sal09.columns:\n",
    "    item = n[0]\n",
    "    name.append(item)\n",
    "\n",
    "sal09.columns = name"
   ]
  },
  {
   "cell_type": "code",
   "execution_count": 93,
   "id": "f5dd3884-cdb8-44de-b3d2-4eaa63f25c8c",
   "metadata": {},
   "outputs": [],
   "source": [
    "sal09 = sal09[sal09['年俸(推定)']!='-']\n",
    "sal09['年俸(推定)']= sal09['年俸(推定)'].str.split('万円', expand=True)[0]\n",
    "sal09['年俸(推定)'] = sal09['年俸(推定)'].str.replace(',','')\n",
    "sal09['年俸(推定)'] = sal09['年俸(推定)'].astype(int)\n",
    "\n",
    "sal09['年数']= sal09['年数'].str.split('年', expand=True)[0].astype(int)\n",
    "sal09['年齢']= sal09['年齢'].str.split('歳', expand=True)[0].astype(int)\n",
    "sal09['身長']= sal09['身長'].str.split('cm', expand=True)[0].astype(int)\n",
    "sal09['体重']= sal09['体重'].str.split('kg', expand=True)[0].astype(int)"
   ]
  },
  {
   "cell_type": "markdown",
   "id": "00a52174-71d7-4ea2-b6c3-fdec91df45b1",
   "metadata": {},
   "source": [
    "#### データの結合"
   ]
  },
  {
   "cell_type": "code",
   "execution_count": 94,
   "id": "b4a05e96-73b4-44d2-aabd-3aabf9c51a89",
   "metadata": {},
   "outputs": [],
   "source": [
    "dfpit09 = pd.merge(pit09,sal09,on ='選手名', how = 'left')"
   ]
  },
  {
   "cell_type": "code",
   "execution_count": 95,
   "id": "b7fc255c-36fd-4781-ae8b-9e8515a2866a",
   "metadata": {},
   "outputs": [],
   "source": [
    "dfpit09.rename(columns=lambda s:s+'_09',inplace = True)\n",
    "dfpit09.rename(columns = {'選手名_09':'選手名'},inplace = True)"
   ]
  },
  {
   "cell_type": "code",
   "execution_count": 98,
   "id": "a929904a-bf59-4ad8-9924-c8c69f94c99e",
   "metadata": {},
   "outputs": [],
   "source": [
    "dfpit09.to_pickle('dfpit09.pickle')\n",
    "dfpit10.to_pickle('dfpit10.pickle')\n",
    "dfpit11.to_pickle('dfpit11.pickle')\n",
    "dfpit12.to_pickle('dfpit12.pickle')\n",
    "dfpit13.to_pickle('dfpit13.pickle')\n",
    "dfpit14.to_pickle('dfpit14.pickle')\n",
    "dfpit15.to_pickle('dfpit15.pickle')\n",
    "dfpit16.to_pickle('dfpit16.pickle')\n",
    "dfpit17.to_pickle('dfpit17.pickle')\n",
    "dfpit18.to_pickle('dfpit18.pickle')\n",
    "dfpit19.to_pickle('dfpit19.pickle')\n",
    "dfpit20.to_pickle('dfpit20.pickle')\n",
    "dfpit21.to_pickle('dfpit21.pickle')"
   ]
  }
 ],
 "metadata": {
  "kernelspec": {
   "display_name": "Python 3",
   "language": "python",
   "name": "python3"
  },
  "language_info": {
   "codemirror_mode": {
    "name": "ipython",
    "version": 3
   },
   "file_extension": ".py",
   "mimetype": "text/x-python",
   "name": "python",
   "nbconvert_exporter": "python",
   "pygments_lexer": "ipython3",
   "version": "3.8.8"
  }
 },
 "nbformat": 4,
 "nbformat_minor": 5
}
