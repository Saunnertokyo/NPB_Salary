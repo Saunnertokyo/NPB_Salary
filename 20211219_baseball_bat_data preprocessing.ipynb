{
 "cells": [
  {
   "cell_type": "code",
   "execution_count": 21,
   "id": "7fd547e1-1dd5-4580-befb-0c703c02d4aa",
   "metadata": {},
   "outputs": [],
   "source": [
    "#numpy,matplotlib,seabornのインポート\n",
    "import pandas as pd\n",
    "import numpy as np\n",
    "import seaborn as sns\n",
    "sns.set_style(style='darkgrid')\n",
    "from matplotlib import pyplot as plt\n",
    "# matplotlibに日本語を表示させる為に必要\n",
    "plt.rcParams['font.family'] = 'IPAexGothic'\n",
    "%matplotlib inline\n",
    "\n",
    "import re\n",
    "# 正規表現のためのライブラリもインポート"
   ]
  },
  {
   "cell_type": "code",
   "execution_count": 22,
   "id": "4b55e373-50e4-4a63-afb4-d5312740dd67",
   "metadata": {},
   "outputs": [],
   "source": [
    "pd.set_option('display.max_columns', 200)\n",
    "pd.set_option('display.max_rows', 100)"
   ]
  },
  {
   "cell_type": "code",
   "execution_count": 23,
   "id": "8356473b-32f1-44d0-8d49-aef58f8123d3",
   "metadata": {},
   "outputs": [],
   "source": [
    "dfbat09 = pd.read_pickle('dfbat09.pickle')\n",
    "dfbat10 = pd.read_pickle('dfbat10.pickle')\n",
    "dfbat11 = pd.read_pickle('dfbat11.pickle')\n",
    "dfbat12 = pd.read_pickle('dfbat12.pickle')\n",
    "dfbat13 = pd.read_pickle('dfbat13.pickle')\n",
    "dfbat14 = pd.read_pickle('dfbat14.pickle')\n",
    "dfbat15 = pd.read_pickle('dfbat15.pickle')\n",
    "dfbat16 = pd.read_pickle('dfbat16.pickle')\n",
    "dfbat17 = pd.read_pickle('dfbat17.pickle')\n",
    "dfbat18 = pd.read_pickle('dfbat18.pickle')\n",
    "dfbat19 = pd.read_pickle('dfbat19.pickle')\n",
    "dfbat20 = pd.read_pickle('dfbat20.pickle')\n",
    "dfbat21 = pd.read_pickle('dfbat21.pickle')"
   ]
  },
  {
   "cell_type": "markdown",
   "id": "8da73727-3884-4002-9621-8570d8d82812",
   "metadata": {},
   "source": [
    "### 年俸分析データの作成"
   ]
  },
  {
   "cell_type": "markdown",
   "id": "b83f9cf0-c12f-4788-90af-3adf1fda704d",
   "metadata": {},
   "source": [
    "#### 2021年"
   ]
  },
  {
   "cell_type": "code",
   "execution_count": 24,
   "id": "744b1dad-f319-4ebe-bf80-3cb6cce887f0",
   "metadata": {},
   "outputs": [],
   "source": [
    "df21 = pd.merge(dfbat21,dfbat20,on = '選手名', how = 'left')\n",
    "df21 = pd.merge(df21,dfbat19,on = '選手名', how = 'left')\n",
    "df21 = pd.merge(df21,dfbat18,on = '選手名', how = 'left')"
   ]
  },
  {
   "cell_type": "code",
   "execution_count": 25,
   "id": "73cf3fcd-3bc0-48e1-8393-c7db04e094f1",
   "metadata": {},
   "outputs": [],
   "source": [
    "df21 = pd.merge(dfbat21,dfbat20,on = '選手名', how = 'left')\n",
    "df21 = pd.merge(df21,dfbat19,on = '選手名', how = 'left')\n",
    "df21 = pd.merge(df21,dfbat18,on = '選手名', how = 'left')\n",
    "\n",
    "\n",
    "df21 = df21[['選手名','team_21','年俸(推定)_21','守備_21','年数_21','年齢_21','出身地_21',\n",
    "             'AVG_20','AVG_19','AVG_18','game_20','game_19','game_18','PA_20','PA_19','PA_18',\n",
    "             'At_bat_20','At_bat_19','At_bat_18','hit_20','hit_19','hit_18',\n",
    "             'HR_20','HR_19','HR_18','RBI_20','RBI_19','RBI_18','steal_20','steal_19','steal_18',\n",
    "             '4ball_20','4ball_19','4ball_18','dead_ball_20','dead_ball_19','dead_ball_18',\n",
    "             'strikeout_20','strikeout_19','strikeout_18','bunt_20','bunt_19','bunt_18',\n",
    "            'GDP_20','GDP_19','GDP_18','OBP_20','OBP_19','OBP_18','SLG_20','SLG_19','SLG_18',\n",
    "            'OPS_20','OPS_19','OPS_18','RC27_20','RC27_19','RC27_18']]\n",
    "\n",
    "df21.columns = ['player','team','salary','position','year','age','birthplace',\n",
    "             'AVG_-1y','AVG_-2y','AVG_-3y','game_-1y','game_-2y','game_-3y','PA_-1y','PA_-2y','PA_-3y',\n",
    "             'At_bat_-1y','At_bat_-2y','At_bat_-3y','hit_-1y','hit_-2y','hit_-3y',\n",
    "             'HR_-1y','HR_-2y','HR_-3y','RBI_-1y','RBI_-2y','RBI_-3y','steal_-1y','steal_-2y','steal_-3y',\n",
    "             '4ball_-1y','4ball_-2y','4ball_-3y','dead_ball_-1y','dead_ball_-2y','dead_ball_-3y',\n",
    "             'strikeout_-1y','strikeout_-2y','strikeout_-3y','bunt_-1y','bunt_-2y','bunt_-3y',\n",
    "            'GDP_-1y','GDP_-2y','GDP_-3y','OBP_-1y','OBP_-2y','OBP_-3y','SLG_-1y','SLG_-2y','SLG_-3y',\n",
    "            'OPS_-1y','OPS_-2y','OPS_-3y','RC27_-1y','RC27_-2y','RC27_-3y']"
   ]
  },
  {
   "cell_type": "code",
   "execution_count": 26,
   "id": "0a02e4e0-0083-410c-8d12-5c01f372cea1",
   "metadata": {},
   "outputs": [],
   "source": [
    "PROVNAME = {\n",
    "    '北海道': '北海道', '青森県': '青森', '岩手県': '岩手', '宮城県': '宮城', '秋田県': '秋田', '山形県': '山形', '福島県': '福島', \n",
    "    '茨城県': '茨城', '栃木県': '栃木', '群馬県': '群馬', '埼玉県': '埼玉', '千葉県': '千葉', '東京都': '東京', '神奈川県': '神奈川', \n",
    "    '新潟県': '新潟', '富山県': '富山', '石川県': '石川', '福井県': '福井', '山梨県': '山梨', '長野県': '長野', \n",
    "    '岐阜県': '岐阜', '静岡県': '静岡', '愛知県': '愛知', '三重県': '三重', '滋賀県': '滋賀', \n",
    "    '京都府': '京都', '大阪府': '大阪', '兵庫県': '兵庫', '奈良県': '奈良', '和歌山県': '和歌山', \n",
    "    '鳥取県': '鳥取', '島根県': '島根', '岡山県': '岡山', '広島県': '広島', '山口県': '山口', \n",
    "    '徳島県': '徳島', '香川県': '香川', '愛媛県': '愛媛', '高知県': '高知', \n",
    "    '福岡県': '福岡', '佐賀県': '佐賀', '長崎県': '長崎', '熊本県': '熊本', '大分県': '大分', '宮崎県': '宮崎', '鹿児島県': '鹿児島', '沖縄県': '沖縄'\n",
    "}\n",
    "prefecture = [v for v in PROVNAME.values()]\n",
    "df21['japan'] = df21['birthplace'].isin(prefecture)\n"
   ]
  },
  {
   "cell_type": "code",
   "execution_count": 27,
   "id": "18cf724e-c789-44f9-a5f3-efe48156a2c7",
   "metadata": {},
   "outputs": [],
   "source": [
    "df21 = df21[~df21.duplicated(subset=['player'])]\n",
    "df21 = df21[df21['PA_-1y']>0].reset_index(drop=True)"
   ]
  },
  {
   "cell_type": "markdown",
   "id": "4b59f0ac-ff21-4172-9f13-e7f09cf8c2af",
   "metadata": {},
   "source": [
    "#### 2020年"
   ]
  },
  {
   "cell_type": "code",
   "execution_count": 28,
   "id": "77b9dca2-d1b9-444d-95c1-ac5358dba5ce",
   "metadata": {},
   "outputs": [],
   "source": [
    "df20 = pd.merge(dfbat20,dfbat19,on = '選手名', how = 'left')\n",
    "df20 = pd.merge(df20,dfbat18,on = '選手名', how = 'left')\n",
    "df20 = pd.merge(df20,dfbat17,on = '選手名', how = 'left')"
   ]
  },
  {
   "cell_type": "code",
   "execution_count": 29,
   "id": "6b05dd14-7445-4640-aef7-1fc7e954bc31",
   "metadata": {},
   "outputs": [],
   "source": [
    "df20 = pd.merge(dfbat20,dfbat19,on = '選手名', how = 'left')\n",
    "df20 = pd.merge(df20,dfbat18,on = '選手名', how = 'left')\n",
    "df20 = pd.merge(df20,dfbat17,on = '選手名', how = 'left')\n",
    "\n",
    "\n",
    "df20 = df20[['選手名','team_20','年俸(推定)_20','守備_20','年数_20','年齢_20','出身地_20',\n",
    "             'AVG_19','AVG_18','AVG_17','game_19','game_18','game_17','PA_19','PA_18','PA_17',\n",
    "             'At_bat_19','At_bat_18','At_bat_17','hit_19','hit_18','hit_17',\n",
    "             'HR_19','HR_18','HR_17','RBI_19','RBI_18','RBI_17','steal_19','steal_18','steal_17',\n",
    "             '4ball_19','4ball_18','4ball_17','dead_ball_19','dead_ball_18','dead_ball_17',\n",
    "             'strikeout_19','strikeout_18','strikeout_17','bunt_19','bunt_18','bunt_17',\n",
    "            'GDP_19','GDP_18','GDP_17','OBP_19','OBP_18','OBP_17','SLG_19','SLG_18','SLG_17',\n",
    "            'OPS_19','OPS_18','OPS_17','RC27_19','RC27_18','RC27_17']]\n",
    "\n",
    "df20.columns = ['player','team','salary','position','year','age','birthplace',\n",
    "             'AVG_-1y','AVG_-2y','AVG_-3y','game_-1y','game_-2y','game_-3y','PA_-1y','PA_-2y','PA_-3y',\n",
    "             'At_bat_-1y','At_bat_-2y','At_bat_-3y','hit_-1y','hit_-2y','hit_-3y',\n",
    "             'HR_-1y','HR_-2y','HR_-3y','RBI_-1y','RBI_-2y','RBI_-3y','steal_-1y','steal_-2y','steal_-3y',\n",
    "             '4ball_-1y','4ball_-2y','4ball_-3y','dead_ball_-1y','dead_ball_-2y','dead_ball_-3y',\n",
    "             'strikeout_-1y','strikeout_-2y','strikeout_-3y','bunt_-1y','bunt_-2y','bunt_-3y',\n",
    "            'GDP_-1y','GDP_-2y','GDP_-3y','OBP_-1y','OBP_-2y','OBP_-3y','SLG_-1y','SLG_-2y','SLG_-3y',\n",
    "            'OPS_-1y','OPS_-2y','OPS_-3y','RC27_-1y','RC27_-2y','RC27_-3y']"
   ]
  },
  {
   "cell_type": "code",
   "execution_count": 30,
   "id": "9b5cabb2-b675-485a-85a7-4a1094087c7f",
   "metadata": {},
   "outputs": [],
   "source": [
    "PROVNAME = {\n",
    "    '北海道': '北海道', '青森県': '青森', '岩手県': '岩手', '宮城県': '宮城', '秋田県': '秋田', '山形県': '山形', '福島県': '福島', \n",
    "    '茨城県': '茨城', '栃木県': '栃木', '群馬県': '群馬', '埼玉県': '埼玉', '千葉県': '千葉', '東京都': '東京', '神奈川県': '神奈川', \n",
    "    '新潟県': '新潟', '富山県': '富山', '石川県': '石川', '福井県': '福井', '山梨県': '山梨', '長野県': '長野', \n",
    "    '岐阜県': '岐阜', '静岡県': '静岡', '愛知県': '愛知', '三重県': '三重', '滋賀県': '滋賀', \n",
    "    '京都府': '京都', '大阪府': '大阪', '兵庫県': '兵庫', '奈良県': '奈良', '和歌山県': '和歌山', \n",
    "    '鳥取県': '鳥取', '島根県': '島根', '岡山県': '岡山', '広島県': '広島', '山口県': '山口', \n",
    "    '徳島県': '徳島', '香川県': '香川', '愛媛県': '愛媛', '高知県': '高知', \n",
    "    '福岡県': '福岡', '佐賀県': '佐賀', '長崎県': '長崎', '熊本県': '熊本', '大分県': '大分', '宮崎県': '宮崎', '鹿児島県': '鹿児島', '沖縄県': '沖縄'\n",
    "}\n",
    "prefecture = [v for v in PROVNAME.values()]\n",
    "df20['japan'] = df20['birthplace'].isin(prefecture)\n"
   ]
  },
  {
   "cell_type": "code",
   "execution_count": 31,
   "id": "e2b7175c-afbd-4d49-a390-02f6e4f8be62",
   "metadata": {},
   "outputs": [],
   "source": [
    "df20 = df20[~df20.duplicated(subset=['player'])]\n",
    "df20 = df20[df20['PA_-1y']>0].reset_index(drop=True)"
   ]
  },
  {
   "cell_type": "markdown",
   "id": "285cd157-6365-4bff-8ffd-c8c231579709",
   "metadata": {},
   "source": [
    "#### 2019年"
   ]
  },
  {
   "cell_type": "code",
   "execution_count": 32,
   "id": "aba49d6f-9540-4005-b1d0-635c1c9b7390",
   "metadata": {},
   "outputs": [],
   "source": [
    "df19 = pd.merge(dfbat19,dfbat18,on = '選手名', how = 'left')\n",
    "df19 = pd.merge(df19,dfbat17,on = '選手名', how = 'left')\n",
    "df19 = pd.merge(df19,dfbat16,on = '選手名', how = 'left')"
   ]
  },
  {
   "cell_type": "code",
   "execution_count": 33,
   "id": "057e5c64-4927-4933-a1a0-f054ccb51a1d",
   "metadata": {},
   "outputs": [],
   "source": [
    "df19 = pd.merge(dfbat19,dfbat18,on = '選手名', how = 'left')\n",
    "df19 = pd.merge(df19,dfbat17,on = '選手名', how = 'left')\n",
    "df19 = pd.merge(df19,dfbat16,on = '選手名', how = 'left')\n",
    "\n",
    "\n",
    "df19 = df19[['選手名','team_19','年俸(推定)_19','守備_19','年数_19','年齢_19','出身地_19',\n",
    "             'AVG_18','AVG_17','AVG_16','game_18','game_17','game_16','PA_18','PA_17','PA_16',\n",
    "             'At_bat_18','At_bat_17','At_bat_16','hit_18','hit_17','hit_16',\n",
    "             'HR_18','HR_17','HR_16','RBI_18','RBI_17','RBI_16','steal_18','steal_17','steal_16',\n",
    "             '4ball_18','4ball_17','4ball_16','dead_ball_18','dead_ball_17','dead_ball_16',\n",
    "             'strikeout_18','strikeout_17','strikeout_16','bunt_18','bunt_17','bunt_16',\n",
    "            'GDP_18','GDP_17','GDP_16','OBP_18','OBP_17','OBP_16','SLG_18','SLG_17','SLG_16',\n",
    "            'OPS_18','OPS_17','OPS_16','RC27_18','RC27_17','RC27_16']]\n",
    "\n",
    "df19.columns = ['player','team','salary','position','year','age','birthplace',\n",
    "             'AVG_-1y','AVG_-2y','AVG_-3y','game_-1y','game_-2y','game_-3y','PA_-1y','PA_-2y','PA_-3y',\n",
    "             'At_bat_-1y','At_bat_-2y','At_bat_-3y','hit_-1y','hit_-2y','hit_-3y',\n",
    "             'HR_-1y','HR_-2y','HR_-3y','RBI_-1y','RBI_-2y','RBI_-3y','steal_-1y','steal_-2y','steal_-3y',\n",
    "             '4ball_-1y','4ball_-2y','4ball_-3y','dead_ball_-1y','dead_ball_-2y','dead_ball_-3y',\n",
    "             'strikeout_-1y','strikeout_-2y','strikeout_-3y','bunt_-1y','bunt_-2y','bunt_-3y',\n",
    "            'GDP_-1y','GDP_-2y','GDP_-3y','OBP_-1y','OBP_-2y','OBP_-3y','SLG_-1y','SLG_-2y','SLG_-3y',\n",
    "            'OPS_-1y','OPS_-2y','OPS_-3y','RC27_-1y','RC27_-2y','RC27_-3y']"
   ]
  },
  {
   "cell_type": "code",
   "execution_count": 34,
   "id": "fa7aad98-4443-43ac-a603-172e64051b4d",
   "metadata": {},
   "outputs": [],
   "source": [
    "PROVNAME = {\n",
    "    '北海道': '北海道', '青森県': '青森', '岩手県': '岩手', '宮城県': '宮城', '秋田県': '秋田', '山形県': '山形', '福島県': '福島', \n",
    "    '茨城県': '茨城', '栃木県': '栃木', '群馬県': '群馬', '埼玉県': '埼玉', '千葉県': '千葉', '東京都': '東京', '神奈川県': '神奈川', \n",
    "    '新潟県': '新潟', '富山県': '富山', '石川県': '石川', '福井県': '福井', '山梨県': '山梨', '長野県': '長野', \n",
    "    '岐阜県': '岐阜', '静岡県': '静岡', '愛知県': '愛知', '三重県': '三重', '滋賀県': '滋賀', \n",
    "    '京都府': '京都', '大阪府': '大阪', '兵庫県': '兵庫', '奈良県': '奈良', '和歌山県': '和歌山', \n",
    "    '鳥取県': '鳥取', '島根県': '島根', '岡山県': '岡山', '広島県': '広島', '山口県': '山口', \n",
    "    '徳島県': '徳島', '香川県': '香川', '愛媛県': '愛媛', '高知県': '高知', \n",
    "    '福岡県': '福岡', '佐賀県': '佐賀', '長崎県': '長崎', '熊本県': '熊本', '大分県': '大分', '宮崎県': '宮崎', '鹿児島県': '鹿児島', '沖縄県': '沖縄'\n",
    "}\n",
    "prefecture = [v for v in PROVNAME.values()]\n",
    "df19['japan'] = df19['birthplace'].isin(prefecture)\n"
   ]
  },
  {
   "cell_type": "code",
   "execution_count": 35,
   "id": "a4dcd61e-e14f-44df-8e8a-303485f6ad2f",
   "metadata": {},
   "outputs": [],
   "source": [
    "df19 = df19[~df19.duplicated(subset=['player'])]\n",
    "df19 = df19[df19['PA_-1y']>0].reset_index(drop=True)"
   ]
  },
  {
   "cell_type": "markdown",
   "id": "a27afff6-568b-46a1-a9b0-dc2a9c307eb7",
   "metadata": {},
   "source": [
    "#### 2018年"
   ]
  },
  {
   "cell_type": "code",
   "execution_count": 36,
   "id": "d973b74a-1bf1-4557-94da-d814c5742df4",
   "metadata": {},
   "outputs": [],
   "source": [
    "df18 = pd.merge(dfbat18,dfbat17,on = '選手名', how = 'left')\n",
    "df18 = pd.merge(df18,dfbat16,on = '選手名', how = 'left')\n",
    "df18 = pd.merge(df18,dfbat15,on = '選手名', how = 'left')"
   ]
  },
  {
   "cell_type": "code",
   "execution_count": 37,
   "id": "e76ae519-4f04-40c2-bf08-fe5a8dd99ca7",
   "metadata": {},
   "outputs": [],
   "source": [
    "df18 = pd.merge(dfbat18,dfbat17,on = '選手名', how = 'left')\n",
    "df18 = pd.merge(df18,dfbat16,on = '選手名', how = 'left')\n",
    "df18 = pd.merge(df18,dfbat15,on = '選手名', how = 'left')\n",
    "\n",
    "\n",
    "df18 = df18[['選手名','team_18','年俸(推定)_18','守備_18','年数_18','年齢_18','出身地_18',\n",
    "             'AVG_17','AVG_16','AVG_15','game_17','game_16','game_15','PA_17','PA_16','PA_15',\n",
    "             'At_bat_17','At_bat_16','At_bat_15','hit_17','hit_16','hit_15',\n",
    "             'HR_17','HR_16','HR_15','RBI_17','RBI_16','RBI_15','steal_17','steal_16','steal_15',\n",
    "             '4ball_17','4ball_16','4ball_15','dead_ball_17','dead_ball_16','dead_ball_15',\n",
    "             'strikeout_17','strikeout_16','strikeout_15','bunt_17','bunt_16','bunt_15',\n",
    "            'GDP_17','GDP_16','GDP_15','OBP_17','OBP_16','OBP_15','SLG_17','SLG_16','SLG_15',\n",
    "            'OPS_17','OPS_16','OPS_15','RC27_17','RC27_16','RC27_15']]\n",
    "\n",
    "df18.columns = ['player','team','salary','position','year','age','birthplace',\n",
    "             'AVG_-1y','AVG_-2y','AVG_-3y','game_-1y','game_-2y','game_-3y','PA_-1y','PA_-2y','PA_-3y',\n",
    "             'At_bat_-1y','At_bat_-2y','At_bat_-3y','hit_-1y','hit_-2y','hit_-3y',\n",
    "             'HR_-1y','HR_-2y','HR_-3y','RBI_-1y','RBI_-2y','RBI_-3y','steal_-1y','steal_-2y','steal_-3y',\n",
    "             '4ball_-1y','4ball_-2y','4ball_-3y','dead_ball_-1y','dead_ball_-2y','dead_ball_-3y',\n",
    "             'strikeout_-1y','strikeout_-2y','strikeout_-3y','bunt_-1y','bunt_-2y','bunt_-3y',\n",
    "            'GDP_-1y','GDP_-2y','GDP_-3y','OBP_-1y','OBP_-2y','OBP_-3y','SLG_-1y','SLG_-2y','SLG_-3y',\n",
    "            'OPS_-1y','OPS_-2y','OPS_-3y','RC27_-1y','RC27_-2y','RC27_-3y']"
   ]
  },
  {
   "cell_type": "code",
   "execution_count": 38,
   "id": "f3e2dd80-bb21-46ab-bbfa-0aff2cb5a884",
   "metadata": {},
   "outputs": [],
   "source": [
    "PROVNAME = {\n",
    "    '北海道': '北海道', '青森県': '青森', '岩手県': '岩手', '宮城県': '宮城', '秋田県': '秋田', '山形県': '山形', '福島県': '福島', \n",
    "    '茨城県': '茨城', '栃木県': '栃木', '群馬県': '群馬', '埼玉県': '埼玉', '千葉県': '千葉', '東京都': '東京', '神奈川県': '神奈川', \n",
    "    '新潟県': '新潟', '富山県': '富山', '石川県': '石川', '福井県': '福井', '山梨県': '山梨', '長野県': '長野', \n",
    "    '岐阜県': '岐阜', '静岡県': '静岡', '愛知県': '愛知', '三重県': '三重', '滋賀県': '滋賀', \n",
    "    '京都府': '京都', '大阪府': '大阪', '兵庫県': '兵庫', '奈良県': '奈良', '和歌山県': '和歌山', \n",
    "    '鳥取県': '鳥取', '島根県': '島根', '岡山県': '岡山', '広島県': '広島', '山口県': '山口', \n",
    "    '徳島県': '徳島', '香川県': '香川', '愛媛県': '愛媛', '高知県': '高知', \n",
    "    '福岡県': '福岡', '佐賀県': '佐賀', '長崎県': '長崎', '熊本県': '熊本', '大分県': '大分', '宮崎県': '宮崎', '鹿児島県': '鹿児島', '沖縄県': '沖縄'\n",
    "}\n",
    "prefecture = [v for v in PROVNAME.values()]\n",
    "df18['japan'] = df18['birthplace'].isin(prefecture)\n"
   ]
  },
  {
   "cell_type": "code",
   "execution_count": 39,
   "id": "8bb44732-2bf1-4ea8-9ae4-11dfdf3bc936",
   "metadata": {},
   "outputs": [],
   "source": [
    "df18 = df18[~df18.duplicated(subset=['player'])]\n",
    "df18 = df18[df18['PA_-1y']>0].reset_index(drop=True)"
   ]
  },
  {
   "cell_type": "markdown",
   "id": "862e0dc9-0a86-45db-9e97-a7012cfdfcf4",
   "metadata": {},
   "source": [
    "#### 2017年"
   ]
  },
  {
   "cell_type": "code",
   "execution_count": 40,
   "id": "4cfa5d41-bd37-4b5f-b20a-6f3c14ba5a0c",
   "metadata": {},
   "outputs": [],
   "source": [
    "df17 = pd.merge(dfbat17,dfbat16,on = '選手名', how = 'left')\n",
    "df17 = pd.merge(df17,dfbat15,on = '選手名', how = 'left')\n",
    "df17 = pd.merge(df17,dfbat14,on = '選手名', how = 'left')"
   ]
  },
  {
   "cell_type": "code",
   "execution_count": 41,
   "id": "51ff7861-7dae-4e6a-9968-8099c74ca858",
   "metadata": {},
   "outputs": [],
   "source": [
    "df17 = pd.merge(dfbat17,dfbat16,on = '選手名', how = 'left')\n",
    "df17 = pd.merge(df17,dfbat15,on = '選手名', how = 'left')\n",
    "df17 = pd.merge(df17,dfbat14,on = '選手名', how = 'left')\n",
    "\n",
    "\n",
    "df17 = df17[['選手名','team_17','年俸(推定)_17','守備_17','年数_17','年齢_17','出身地_17',\n",
    "             'AVG_16','AVG_15','AVG_14','game_16','game_15','game_14','PA_16','PA_15','PA_14',\n",
    "             'At_bat_16','At_bat_15','At_bat_14','hit_16','hit_15','hit_14',\n",
    "             'HR_16','HR_15','HR_14','RBI_16','RBI_15','RBI_14','steal_16','steal_15','steal_14',\n",
    "             '4ball_16','4ball_15','4ball_14','dead_ball_16','dead_ball_15','dead_ball_14',\n",
    "             'strikeout_16','strikeout_15','strikeout_14','bunt_16','bunt_15','bunt_14',\n",
    "            'GDP_16','GDP_15','GDP_14','OBP_16','OBP_15','OBP_14','SLG_16','SLG_15','SLG_14',\n",
    "            'OPS_16','OPS_15','OPS_14','RC27_16','RC27_15','RC27_14']]\n",
    "\n",
    "df17.columns = ['player','team','salary','position','year','age','birthplace',\n",
    "             'AVG_-1y','AVG_-2y','AVG_-3y','game_-1y','game_-2y','game_-3y','PA_-1y','PA_-2y','PA_-3y',\n",
    "             'At_bat_-1y','At_bat_-2y','At_bat_-3y','hit_-1y','hit_-2y','hit_-3y',\n",
    "             'HR_-1y','HR_-2y','HR_-3y','RBI_-1y','RBI_-2y','RBI_-3y','steal_-1y','steal_-2y','steal_-3y',\n",
    "             '4ball_-1y','4ball_-2y','4ball_-3y','dead_ball_-1y','dead_ball_-2y','dead_ball_-3y',\n",
    "             'strikeout_-1y','strikeout_-2y','strikeout_-3y','bunt_-1y','bunt_-2y','bunt_-3y',\n",
    "            'GDP_-1y','GDP_-2y','GDP_-3y','OBP_-1y','OBP_-2y','OBP_-3y','SLG_-1y','SLG_-2y','SLG_-3y',\n",
    "            'OPS_-1y','OPS_-2y','OPS_-3y','RC27_-1y','RC27_-2y','RC27_-3y']"
   ]
  },
  {
   "cell_type": "code",
   "execution_count": 42,
   "id": "6829fae7-16a6-46eb-9219-72d2ce594655",
   "metadata": {},
   "outputs": [],
   "source": [
    "PROVNAME = {\n",
    "    '北海道': '北海道', '青森県': '青森', '岩手県': '岩手', '宮城県': '宮城', '秋田県': '秋田', '山形県': '山形', '福島県': '福島', \n",
    "    '茨城県': '茨城', '栃木県': '栃木', '群馬県': '群馬', '埼玉県': '埼玉', '千葉県': '千葉', '東京都': '東京', '神奈川県': '神奈川', \n",
    "    '新潟県': '新潟', '富山県': '富山', '石川県': '石川', '福井県': '福井', '山梨県': '山梨', '長野県': '長野', \n",
    "    '岐阜県': '岐阜', '静岡県': '静岡', '愛知県': '愛知', '三重県': '三重', '滋賀県': '滋賀', \n",
    "    '京都府': '京都', '大阪府': '大阪', '兵庫県': '兵庫', '奈良県': '奈良', '和歌山県': '和歌山', \n",
    "    '鳥取県': '鳥取', '島根県': '島根', '岡山県': '岡山', '広島県': '広島', '山口県': '山口', \n",
    "    '徳島県': '徳島', '香川県': '香川', '愛媛県': '愛媛', '高知県': '高知', \n",
    "    '福岡県': '福岡', '佐賀県': '佐賀', '長崎県': '長崎', '熊本県': '熊本', '大分県': '大分', '宮崎県': '宮崎', '鹿児島県': '鹿児島', '沖縄県': '沖縄'\n",
    "}\n",
    "prefecture = [v for v in PROVNAME.values()]\n",
    "df17['japan'] = df17['birthplace'].isin(prefecture)\n"
   ]
  },
  {
   "cell_type": "code",
   "execution_count": 43,
   "id": "4c9699c3-f55b-412c-9941-b4e29660a810",
   "metadata": {},
   "outputs": [],
   "source": [
    "df17 = df17[~df17.duplicated(subset=['player'])]\n",
    "df17 = df17[df17['PA_-1y']>0].reset_index(drop=True)"
   ]
  },
  {
   "cell_type": "markdown",
   "id": "a362afaf-d745-4805-83ee-8de8a9c74e52",
   "metadata": {},
   "source": [
    "#### 2016年"
   ]
  },
  {
   "cell_type": "code",
   "execution_count": 44,
   "id": "2701e748-1574-4f0e-a644-b95893ba837b",
   "metadata": {},
   "outputs": [],
   "source": [
    "df16 = pd.merge(dfbat16,dfbat15,on = '選手名', how = 'left')\n",
    "df16 = pd.merge(df16,dfbat14,on = '選手名', how = 'left')\n",
    "df16 = pd.merge(df16,dfbat13,on = '選手名', how = 'left')"
   ]
  },
  {
   "cell_type": "code",
   "execution_count": 45,
   "id": "548165e2-0cf4-4b61-96a5-2f414b2c6cf0",
   "metadata": {},
   "outputs": [],
   "source": [
    "df16 = pd.merge(dfbat16,dfbat15,on = '選手名', how = 'left')\n",
    "df16 = pd.merge(df16,dfbat14,on = '選手名', how = 'left')\n",
    "df16 = pd.merge(df16,dfbat13,on = '選手名', how = 'left')\n",
    "\n",
    "\n",
    "df16 = df16[['選手名','team_16','年俸(推定)_16','守備_16','年数_16','年齢_16','出身地_16',\n",
    "             'AVG_15','AVG_14','AVG_13','game_15','game_14','game_13','PA_15','PA_14','PA_13',\n",
    "             'At_bat_15','At_bat_14','At_bat_13','hit_15','hit_14','hit_13',\n",
    "             'HR_15','HR_14','HR_13','RBI_15','RBI_14','RBI_13','steal_15','steal_14','steal_13',\n",
    "             '4ball_15','4ball_14','4ball_13','dead_ball_15','dead_ball_14','dead_ball_13',\n",
    "             'strikeout_15','strikeout_14','strikeout_13','bunt_15','bunt_14','bunt_13',\n",
    "            'GDP_15','GDP_14','GDP_13','OBP_15','OBP_14','OBP_13','SLG_15','SLG_14','SLG_13',\n",
    "            'OPS_15','OPS_14','OPS_13','RC27_15','RC27_14','RC27_13']]\n",
    "\n",
    "df16.columns = ['player','team','salary','position','year','age','birthplace',\n",
    "             'AVG_-1y','AVG_-2y','AVG_-3y','game_-1y','game_-2y','game_-3y','PA_-1y','PA_-2y','PA_-3y',\n",
    "             'At_bat_-1y','At_bat_-2y','At_bat_-3y','hit_-1y','hit_-2y','hit_-3y',\n",
    "             'HR_-1y','HR_-2y','HR_-3y','RBI_-1y','RBI_-2y','RBI_-3y','steal_-1y','steal_-2y','steal_-3y',\n",
    "             '4ball_-1y','4ball_-2y','4ball_-3y','dead_ball_-1y','dead_ball_-2y','dead_ball_-3y',\n",
    "             'strikeout_-1y','strikeout_-2y','strikeout_-3y','bunt_-1y','bunt_-2y','bunt_-3y',\n",
    "            'GDP_-1y','GDP_-2y','GDP_-3y','OBP_-1y','OBP_-2y','OBP_-3y','SLG_-1y','SLG_-2y','SLG_-3y',\n",
    "            'OPS_-1y','OPS_-2y','OPS_-3y','RC27_-1y','RC27_-2y','RC27_-3y']"
   ]
  },
  {
   "cell_type": "code",
   "execution_count": 46,
   "id": "cab71845-12a7-4acc-9507-11a7503cac7d",
   "metadata": {},
   "outputs": [],
   "source": [
    "PROVNAME = {\n",
    "    '北海道': '北海道', '青森県': '青森', '岩手県': '岩手', '宮城県': '宮城', '秋田県': '秋田', '山形県': '山形', '福島県': '福島', \n",
    "    '茨城県': '茨城', '栃木県': '栃木', '群馬県': '群馬', '埼玉県': '埼玉', '千葉県': '千葉', '東京都': '東京', '神奈川県': '神奈川', \n",
    "    '新潟県': '新潟', '富山県': '富山', '石川県': '石川', '福井県': '福井', '山梨県': '山梨', '長野県': '長野', \n",
    "    '岐阜県': '岐阜', '静岡県': '静岡', '愛知県': '愛知', '三重県': '三重', '滋賀県': '滋賀', \n",
    "    '京都府': '京都', '大阪府': '大阪', '兵庫県': '兵庫', '奈良県': '奈良', '和歌山県': '和歌山', \n",
    "    '鳥取県': '鳥取', '島根県': '島根', '岡山県': '岡山', '広島県': '広島', '山口県': '山口', \n",
    "    '徳島県': '徳島', '香川県': '香川', '愛媛県': '愛媛', '高知県': '高知', \n",
    "    '福岡県': '福岡', '佐賀県': '佐賀', '長崎県': '長崎', '熊本県': '熊本', '大分県': '大分', '宮崎県': '宮崎', '鹿児島県': '鹿児島', '沖縄県': '沖縄'\n",
    "}\n",
    "prefecture = [v for v in PROVNAME.values()]\n",
    "df16['japan'] = df16['birthplace'].isin(prefecture)\n"
   ]
  },
  {
   "cell_type": "code",
   "execution_count": 47,
   "id": "257e550a-2863-492a-9565-4ae1eb37e7bc",
   "metadata": {},
   "outputs": [],
   "source": [
    "df16 = df16[~df16.duplicated(subset=['player'])]\n",
    "df16 = df16[df16['PA_-1y']>0].reset_index(drop=True)"
   ]
  },
  {
   "cell_type": "markdown",
   "id": "c63f2442-5175-4484-ba97-a05fff48dcf3",
   "metadata": {},
   "source": [
    "#### 2015年"
   ]
  },
  {
   "cell_type": "code",
   "execution_count": 48,
   "id": "5454c544-0d1b-48d8-bfb2-bd446b2fc502",
   "metadata": {},
   "outputs": [],
   "source": [
    "df15 = pd.merge(dfbat15,dfbat14,on = '選手名', how = 'left')\n",
    "df15 = pd.merge(df15,dfbat13,on = '選手名', how = 'left')\n",
    "df15 = pd.merge(df15,dfbat12,on = '選手名', how = 'left')"
   ]
  },
  {
   "cell_type": "code",
   "execution_count": 49,
   "id": "535237b1-4ce4-431e-a3eb-efc38683d14a",
   "metadata": {},
   "outputs": [],
   "source": [
    "df15 = pd.merge(dfbat15,dfbat14,on = '選手名', how = 'left')\n",
    "df15 = pd.merge(df15,dfbat13,on = '選手名', how = 'left')\n",
    "df15 = pd.merge(df15,dfbat12,on = '選手名', how = 'left')\n",
    "\n",
    "\n",
    "df15 = df15[['選手名','team_15','年俸(推定)_15','守備_15','年数_15','年齢_15','出身地_15',\n",
    "             'AVG_14','AVG_13','AVG_12','game_14','game_13','game_12','PA_14','PA_13','PA_12',\n",
    "             'At_bat_14','At_bat_13','At_bat_12','hit_14','hit_13','hit_12',\n",
    "             'HR_14','HR_13','HR_12','RBI_14','RBI_13','RBI_12','steal_14','steal_13','steal_12',\n",
    "             '4ball_14','4ball_13','4ball_12','dead_ball_14','dead_ball_13','dead_ball_12',\n",
    "             'strikeout_14','strikeout_13','strikeout_12','bunt_14','bunt_13','bunt_12',\n",
    "            'GDP_14','GDP_13','GDP_12','OBP_14','OBP_13','OBP_12','SLG_14','SLG_13','SLG_12',\n",
    "            'OPS_14','OPS_13','OPS_12','RC27_14','RC27_13','RC27_12']]\n",
    "\n",
    "df15.columns = ['player','team','salary','position','year','age','birthplace',\n",
    "             'AVG_-1y','AVG_-2y','AVG_-3y','game_-1y','game_-2y','game_-3y','PA_-1y','PA_-2y','PA_-3y',\n",
    "             'At_bat_-1y','At_bat_-2y','At_bat_-3y','hit_-1y','hit_-2y','hit_-3y',\n",
    "             'HR_-1y','HR_-2y','HR_-3y','RBI_-1y','RBI_-2y','RBI_-3y','steal_-1y','steal_-2y','steal_-3y',\n",
    "             '4ball_-1y','4ball_-2y','4ball_-3y','dead_ball_-1y','dead_ball_-2y','dead_ball_-3y',\n",
    "             'strikeout_-1y','strikeout_-2y','strikeout_-3y','bunt_-1y','bunt_-2y','bunt_-3y',\n",
    "            'GDP_-1y','GDP_-2y','GDP_-3y','OBP_-1y','OBP_-2y','OBP_-3y','SLG_-1y','SLG_-2y','SLG_-3y',\n",
    "            'OPS_-1y','OPS_-2y','OPS_-3y','RC27_-1y','RC27_-2y','RC27_-3y']"
   ]
  },
  {
   "cell_type": "code",
   "execution_count": 50,
   "id": "aa6a9a6f-1af1-410c-b25b-0c4267c03b16",
   "metadata": {},
   "outputs": [],
   "source": [
    "PROVNAME = {\n",
    "    '北海道': '北海道', '青森県': '青森', '岩手県': '岩手', '宮城県': '宮城', '秋田県': '秋田', '山形県': '山形', '福島県': '福島', \n",
    "    '茨城県': '茨城', '栃木県': '栃木', '群馬県': '群馬', '埼玉県': '埼玉', '千葉県': '千葉', '東京都': '東京', '神奈川県': '神奈川', \n",
    "    '新潟県': '新潟', '富山県': '富山', '石川県': '石川', '福井県': '福井', '山梨県': '山梨', '長野県': '長野', \n",
    "    '岐阜県': '岐阜', '静岡県': '静岡', '愛知県': '愛知', '三重県': '三重', '滋賀県': '滋賀', \n",
    "    '京都府': '京都', '大阪府': '大阪', '兵庫県': '兵庫', '奈良県': '奈良', '和歌山県': '和歌山', \n",
    "    '鳥取県': '鳥取', '島根県': '島根', '岡山県': '岡山', '広島県': '広島', '山口県': '山口', \n",
    "    '徳島県': '徳島', '香川県': '香川', '愛媛県': '愛媛', '高知県': '高知', \n",
    "    '福岡県': '福岡', '佐賀県': '佐賀', '長崎県': '長崎', '熊本県': '熊本', '大分県': '大分', '宮崎県': '宮崎', '鹿児島県': '鹿児島', '沖縄県': '沖縄'\n",
    "}\n",
    "prefecture = [v for v in PROVNAME.values()]\n",
    "df15['japan'] = df15['birthplace'].isin(prefecture)\n"
   ]
  },
  {
   "cell_type": "code",
   "execution_count": 51,
   "id": "1d679be6-a509-4547-a71e-0afe51f098c7",
   "metadata": {},
   "outputs": [],
   "source": [
    "df15 = df15[~df15.duplicated(subset=['player'])]\n",
    "df15 = df15[df15['PA_-1y']>0].reset_index(drop=True)"
   ]
  },
  {
   "cell_type": "markdown",
   "id": "9b362c2c-aac1-4b45-879b-4fc2b0213e73",
   "metadata": {},
   "source": [
    "#### 2014年"
   ]
  },
  {
   "cell_type": "code",
   "execution_count": 52,
   "id": "1049536f-3ccf-4175-9413-77a4aca96f33",
   "metadata": {},
   "outputs": [],
   "source": [
    "df14 = pd.merge(dfbat14,dfbat13,on = '選手名', how = 'left')\n",
    "df14 = pd.merge(df14,dfbat12,on = '選手名', how = 'left')\n",
    "df14 = pd.merge(df14,dfbat11,on = '選手名', how = 'left')"
   ]
  },
  {
   "cell_type": "code",
   "execution_count": 53,
   "id": "b55cf141-3b5a-45b2-b76c-7726864df7a5",
   "metadata": {},
   "outputs": [],
   "source": [
    "df14 = pd.merge(dfbat14,dfbat13,on = '選手名', how = 'left')\n",
    "df14 = pd.merge(df14,dfbat12,on = '選手名', how = 'left')\n",
    "df14 = pd.merge(df14,dfbat11,on = '選手名', how = 'left')\n",
    "\n",
    "\n",
    "df14 = df14[['選手名','team_14','年俸(推定)_14','守備_14','年数_14','年齢_14','出身地_14',\n",
    "             'AVG_13','AVG_12','AVG_11','game_13','game_12','game_11','PA_13','PA_12','PA_11',\n",
    "             'At_bat_13','At_bat_12','At_bat_11','hit_13','hit_12','hit_11',\n",
    "             'HR_13','HR_12','HR_11','RBI_13','RBI_12','RBI_11','steal_13','steal_12','steal_11',\n",
    "             '4ball_13','4ball_12','4ball_11','dead_ball_13','dead_ball_12','dead_ball_11',\n",
    "             'strikeout_13','strikeout_12','strikeout_11','bunt_13','bunt_12','bunt_11',\n",
    "            'GDP_13','GDP_12','GDP_11','OBP_13','OBP_12','OBP_11','SLG_13','SLG_12','SLG_11',\n",
    "            'OPS_13','OPS_12','OPS_11','RC27_13','RC27_12','RC27_11']]\n",
    "\n",
    "df14.columns = ['player','team','salary','position','year','age','birthplace',\n",
    "             'AVG_-1y','AVG_-2y','AVG_-3y','game_-1y','game_-2y','game_-3y','PA_-1y','PA_-2y','PA_-3y',\n",
    "             'At_bat_-1y','At_bat_-2y','At_bat_-3y','hit_-1y','hit_-2y','hit_-3y',\n",
    "             'HR_-1y','HR_-2y','HR_-3y','RBI_-1y','RBI_-2y','RBI_-3y','steal_-1y','steal_-2y','steal_-3y',\n",
    "             '4ball_-1y','4ball_-2y','4ball_-3y','dead_ball_-1y','dead_ball_-2y','dead_ball_-3y',\n",
    "             'strikeout_-1y','strikeout_-2y','strikeout_-3y','bunt_-1y','bunt_-2y','bunt_-3y',\n",
    "            'GDP_-1y','GDP_-2y','GDP_-3y','OBP_-1y','OBP_-2y','OBP_-3y','SLG_-1y','SLG_-2y','SLG_-3y',\n",
    "            'OPS_-1y','OPS_-2y','OPS_-3y','RC27_-1y','RC27_-2y','RC27_-3y']"
   ]
  },
  {
   "cell_type": "code",
   "execution_count": 54,
   "id": "1566e65a-94ec-4003-a1bd-3af8644830c7",
   "metadata": {},
   "outputs": [],
   "source": [
    "PROVNAME = {\n",
    "    '北海道': '北海道', '青森県': '青森', '岩手県': '岩手', '宮城県': '宮城', '秋田県': '秋田', '山形県': '山形', '福島県': '福島', \n",
    "    '茨城県': '茨城', '栃木県': '栃木', '群馬県': '群馬', '埼玉県': '埼玉', '千葉県': '千葉', '東京都': '東京', '神奈川県': '神奈川', \n",
    "    '新潟県': '新潟', '富山県': '富山', '石川県': '石川', '福井県': '福井', '山梨県': '山梨', '長野県': '長野', \n",
    "    '岐阜県': '岐阜', '静岡県': '静岡', '愛知県': '愛知', '三重県': '三重', '滋賀県': '滋賀', \n",
    "    '京都府': '京都', '大阪府': '大阪', '兵庫県': '兵庫', '奈良県': '奈良', '和歌山県': '和歌山', \n",
    "    '鳥取県': '鳥取', '島根県': '島根', '岡山県': '岡山', '広島県': '広島', '山口県': '山口', \n",
    "    '徳島県': '徳島', '香川県': '香川', '愛媛県': '愛媛', '高知県': '高知', \n",
    "    '福岡県': '福岡', '佐賀県': '佐賀', '長崎県': '長崎', '熊本県': '熊本', '大分県': '大分', '宮崎県': '宮崎', '鹿児島県': '鹿児島', '沖縄県': '沖縄'\n",
    "}\n",
    "prefecture = [v for v in PROVNAME.values()]\n",
    "df14['japan'] = df14['birthplace'].isin(prefecture)\n"
   ]
  },
  {
   "cell_type": "code",
   "execution_count": 55,
   "id": "161ea4fa-ee6d-4aed-85dd-43b5c8cff6ff",
   "metadata": {},
   "outputs": [],
   "source": [
    "df14 = df14[~df14.duplicated(subset=['player'])]\n",
    "df14 = df14[df14['PA_-1y']>0].reset_index(drop=True)"
   ]
  },
  {
   "cell_type": "markdown",
   "id": "e13ba2ca-5ab9-4906-af1c-ff94fd056d69",
   "metadata": {},
   "source": [
    "#### 2013年"
   ]
  },
  {
   "cell_type": "code",
   "execution_count": 56,
   "id": "4fa21d1c-58ab-4cbc-9e6a-55621eaa5189",
   "metadata": {},
   "outputs": [],
   "source": [
    "df13 = pd.merge(dfbat13,dfbat12,on = '選手名', how = 'left')\n",
    "df13 = pd.merge(df13,dfbat11,on = '選手名', how = 'left')\n",
    "df13 = pd.merge(df13,dfbat10,on = '選手名', how = 'left')"
   ]
  },
  {
   "cell_type": "code",
   "execution_count": 57,
   "id": "fe77a1cd-22e9-46f7-9b35-37ac28d07a24",
   "metadata": {},
   "outputs": [],
   "source": [
    "df13 = pd.merge(dfbat13,dfbat12,on = '選手名', how = 'left')\n",
    "df13 = pd.merge(df13,dfbat11,on = '選手名', how = 'left')\n",
    "df13 = pd.merge(df13,dfbat10,on = '選手名', how = 'left')\n",
    "\n",
    "\n",
    "df13 = df13[['選手名','team_13','年俸(推定)_13','守備_13','年数_13','年齢_13','出身地_13',\n",
    "             'AVG_12','AVG_11','AVG_10','game_12','game_11','game_10','PA_12','PA_11','PA_10',\n",
    "             'At_bat_12','At_bat_11','At_bat_10','hit_12','hit_11','hit_10',\n",
    "             'HR_12','HR_11','HR_10','RBI_12','RBI_11','RBI_10','steal_12','steal_11','steal_10',\n",
    "             '4ball_12','4ball_11','4ball_10','dead_ball_12','dead_ball_11','dead_ball_10',\n",
    "             'strikeout_12','strikeout_11','strikeout_10','bunt_12','bunt_11','bunt_10',\n",
    "            'GDP_12','GDP_11','GDP_10','OBP_12','OBP_11','OBP_10','SLG_12','SLG_11','SLG_10',\n",
    "            'OPS_12','OPS_11','OPS_10','RC27_12','RC27_11','RC27_10']]\n",
    "\n",
    "df13.columns = ['player','team','salary','position','year','age','birthplace',\n",
    "             'AVG_-1y','AVG_-2y','AVG_-3y','game_-1y','game_-2y','game_-3y','PA_-1y','PA_-2y','PA_-3y',\n",
    "             'At_bat_-1y','At_bat_-2y','At_bat_-3y','hit_-1y','hit_-2y','hit_-3y',\n",
    "             'HR_-1y','HR_-2y','HR_-3y','RBI_-1y','RBI_-2y','RBI_-3y','steal_-1y','steal_-2y','steal_-3y',\n",
    "             '4ball_-1y','4ball_-2y','4ball_-3y','dead_ball_-1y','dead_ball_-2y','dead_ball_-3y',\n",
    "             'strikeout_-1y','strikeout_-2y','strikeout_-3y','bunt_-1y','bunt_-2y','bunt_-3y',\n",
    "            'GDP_-1y','GDP_-2y','GDP_-3y','OBP_-1y','OBP_-2y','OBP_-3y','SLG_-1y','SLG_-2y','SLG_-3y',\n",
    "            'OPS_-1y','OPS_-2y','OPS_-3y','RC27_-1y','RC27_-2y','RC27_-3y']"
   ]
  },
  {
   "cell_type": "code",
   "execution_count": 58,
   "id": "de042956-f74e-459f-b77b-327caeb6357a",
   "metadata": {},
   "outputs": [],
   "source": [
    "PROVNAME = {\n",
    "    '北海道': '北海道', '青森県': '青森', '岩手県': '岩手', '宮城県': '宮城', '秋田県': '秋田', '山形県': '山形', '福島県': '福島', \n",
    "    '茨城県': '茨城', '栃木県': '栃木', '群馬県': '群馬', '埼玉県': '埼玉', '千葉県': '千葉', '東京都': '東京', '神奈川県': '神奈川', \n",
    "    '新潟県': '新潟', '富山県': '富山', '石川県': '石川', '福井県': '福井', '山梨県': '山梨', '長野県': '長野', \n",
    "    '岐阜県': '岐阜', '静岡県': '静岡', '愛知県': '愛知', '三重県': '三重', '滋賀県': '滋賀', \n",
    "    '京都府': '京都', '大阪府': '大阪', '兵庫県': '兵庫', '奈良県': '奈良', '和歌山県': '和歌山', \n",
    "    '鳥取県': '鳥取', '島根県': '島根', '岡山県': '岡山', '広島県': '広島', '山口県': '山口', \n",
    "    '徳島県': '徳島', '香川県': '香川', '愛媛県': '愛媛', '高知県': '高知', \n",
    "    '福岡県': '福岡', '佐賀県': '佐賀', '長崎県': '長崎', '熊本県': '熊本', '大分県': '大分', '宮崎県': '宮崎', '鹿児島県': '鹿児島', '沖縄県': '沖縄'\n",
    "}\n",
    "prefecture = [v for v in PROVNAME.values()]\n",
    "df13['japan'] = df13['birthplace'].isin(prefecture)\n"
   ]
  },
  {
   "cell_type": "code",
   "execution_count": 59,
   "id": "a0643b70-33b4-4978-8d5b-9b9e1ab97fd1",
   "metadata": {},
   "outputs": [],
   "source": [
    "df13 = df13[~df13.duplicated(subset=['player'])]\n",
    "df13 = df13[df13['PA_-1y']>0].reset_index(drop=True)"
   ]
  },
  {
   "cell_type": "markdown",
   "id": "498154a7-34f5-4d90-88a3-b827db857ff9",
   "metadata": {},
   "source": [
    "#### 2012年"
   ]
  },
  {
   "cell_type": "code",
   "execution_count": 60,
   "id": "e33dec38-0335-4516-9f94-2361ca2e05cd",
   "metadata": {},
   "outputs": [],
   "source": [
    "df12 = pd.merge(dfbat12,dfbat11,on = '選手名', how = 'left')\n",
    "df12 = pd.merge(df12,dfbat10,on = '選手名', how = 'left')\n",
    "df12 = pd.merge(df12,dfbat09,on = '選手名', how = 'left')"
   ]
  },
  {
   "cell_type": "code",
   "execution_count": 61,
   "id": "524fa4ac-1969-45bc-a31e-9a3c889931b9",
   "metadata": {},
   "outputs": [],
   "source": [
    "df12 = pd.merge(dfbat12,dfbat11,on = '選手名', how = 'left')\n",
    "df12 = pd.merge(df12,dfbat10,on = '選手名', how = 'left')\n",
    "df12 = pd.merge(df12,dfbat09,on = '選手名', how = 'left')\n",
    "\n",
    "\n",
    "df12 = df12[['選手名','team_12','年俸(推定)_12','守備_12','年数_12','年齢_12','出身地_12',\n",
    "             'AVG_11','AVG_10','AVG_09','game_11','game_10','game_09','PA_11','PA_10','PA_09',\n",
    "             'At_bat_11','At_bat_10','At_bat_09','hit_11','hit_10','hit_09',\n",
    "             'HR_11','HR_10','HR_09','RBI_11','RBI_10','RBI_09','steal_11','steal_10','steal_09',\n",
    "             '4ball_11','4ball_10','4ball_09','dead_ball_11','dead_ball_10','dead_ball_09',\n",
    "             'strikeout_11','strikeout_10','strikeout_09','bunt_11','bunt_10','bunt_09',\n",
    "            'GDP_11','GDP_10','GDP_09','OBP_11','OBP_10','OBP_09','SLG_11','SLG_10','SLG_09',\n",
    "            'OPS_11','OPS_10','OPS_09','RC27_11','RC27_10','RC27_09']]\n",
    "\n",
    "df12.columns = ['player','team','salary','position','year','age','birthplace',\n",
    "             'AVG_-1y','AVG_-2y','AVG_-3y','game_-1y','game_-2y','game_-3y','PA_-1y','PA_-2y','PA_-3y',\n",
    "             'At_bat_-1y','At_bat_-2y','At_bat_-3y','hit_-1y','hit_-2y','hit_-3y',\n",
    "             'HR_-1y','HR_-2y','HR_-3y','RBI_-1y','RBI_-2y','RBI_-3y','steal_-1y','steal_-2y','steal_-3y',\n",
    "             '4ball_-1y','4ball_-2y','4ball_-3y','dead_ball_-1y','dead_ball_-2y','dead_ball_-3y',\n",
    "             'strikeout_-1y','strikeout_-2y','strikeout_-3y','bunt_-1y','bunt_-2y','bunt_-3y',\n",
    "            'GDP_-1y','GDP_-2y','GDP_-3y','OBP_-1y','OBP_-2y','OBP_-3y','SLG_-1y','SLG_-2y','SLG_-3y',\n",
    "            'OPS_-1y','OPS_-2y','OPS_-3y','RC27_-1y','RC27_-2y','RC27_-3y']"
   ]
  },
  {
   "cell_type": "code",
   "execution_count": 62,
   "id": "d86ba15c-c300-45b9-a907-919005e6309f",
   "metadata": {},
   "outputs": [],
   "source": [
    "PROVNAME = {\n",
    "    '北海道': '北海道', '青森県': '青森', '岩手県': '岩手', '宮城県': '宮城', '秋田県': '秋田', '山形県': '山形', '福島県': '福島', \n",
    "    '茨城県': '茨城', '栃木県': '栃木', '群馬県': '群馬', '埼玉県': '埼玉', '千葉県': '千葉', '東京都': '東京', '神奈川県': '神奈川', \n",
    "    '新潟県': '新潟', '富山県': '富山', '石川県': '石川', '福井県': '福井', '山梨県': '山梨', '長野県': '長野', \n",
    "    '岐阜県': '岐阜', '静岡県': '静岡', '愛知県': '愛知', '三重県': '三重', '滋賀県': '滋賀', \n",
    "    '京都府': '京都', '大阪府': '大阪', '兵庫県': '兵庫', '奈良県': '奈良', '和歌山県': '和歌山', \n",
    "    '鳥取県': '鳥取', '島根県': '島根', '岡山県': '岡山', '広島県': '広島', '山口県': '山口', \n",
    "    '徳島県': '徳島', '香川県': '香川', '愛媛県': '愛媛', '高知県': '高知', \n",
    "    '福岡県': '福岡', '佐賀県': '佐賀', '長崎県': '長崎', '熊本県': '熊本', '大分県': '大分', '宮崎県': '宮崎', '鹿児島県': '鹿児島', '沖縄県': '沖縄'\n",
    "}\n",
    "prefecture = [v for v in PROVNAME.values()]\n",
    "df12['japan'] = df12['birthplace'].isin(prefecture)\n"
   ]
  },
  {
   "cell_type": "code",
   "execution_count": 63,
   "id": "f841252b-2f5c-4ed0-be73-bae826523444",
   "metadata": {},
   "outputs": [],
   "source": [
    "df12 = df12[~df12.duplicated(subset=['player'])]\n",
    "df12 = df12[df12['PA_-1y']>0].reset_index(drop=True)"
   ]
  },
  {
   "cell_type": "markdown",
   "id": "5945d3f1-25b2-4433-9420-81f981f63a63",
   "metadata": {},
   "source": [
    "#### 結合"
   ]
  },
  {
   "cell_type": "code",
   "execution_count": 64,
   "id": "4ac9b9c7-6d7a-42d5-ac85-c854ddff486d",
   "metadata": {},
   "outputs": [],
   "source": [
    "df21['year'] = 2021\n",
    "df20['year'] = 2020\n",
    "df19['year'] = 2019\n",
    "df18['year'] = 2018\n",
    "df17['year'] = 2017\n",
    "df16['year'] = 2016\n",
    "df15['year'] = 2015\n",
    "df14['year'] = 2014\n",
    "df13['year'] = 2013\n",
    "df12['year'] = 2012\n",
    "\n",
    "df = pd.concat([df21,df20,df19,df18,df17,df16,df15,df14,df13,df12]).reset_index(drop = True)\n"
   ]
  },
  {
   "cell_type": "code",
   "execution_count": 65,
   "id": "43589f19-7806-413d-ae47-435113335879",
   "metadata": {},
   "outputs": [],
   "source": [
    "df.to_pickle('dfbat.pickle')"
   ]
  },
  {
   "cell_type": "code",
   "execution_count": null,
   "id": "77d7ac76-d4df-4363-bbb1-b5381c7fcb8a",
   "metadata": {},
   "outputs": [],
   "source": []
  }
 ],
 "metadata": {
  "kernelspec": {
   "display_name": "Python 3",
   "language": "python",
   "name": "python3"
  },
  "language_info": {
   "codemirror_mode": {
    "name": "ipython",
    "version": 3
   },
   "file_extension": ".py",
   "mimetype": "text/x-python",
   "name": "python",
   "nbconvert_exporter": "python",
   "pygments_lexer": "ipython3",
   "version": "3.8.8"
  }
 },
 "nbformat": 4,
 "nbformat_minor": 5
}
