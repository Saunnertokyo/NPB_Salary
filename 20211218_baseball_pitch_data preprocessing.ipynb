{
 "cells": [
  {
   "cell_type": "code",
   "execution_count": 7,
   "id": "7fd547e1-1dd5-4580-befb-0c703c02d4aa",
   "metadata": {},
   "outputs": [],
   "source": [
    "#numpy,matplotlib,seabornのインポート\n",
    "import pandas as pd\n",
    "import numpy as np\n",
    "import seaborn as sns\n",
    "sns.set_style(style='darkgrid')\n",
    "from matplotlib import pyplot as plt\n",
    "# matplotlibに日本語を表示させる為に必要\n",
    "plt.rcParams['font.family'] = 'IPAexGothic'\n",
    "%matplotlib inline\n",
    "\n",
    "import re\n",
    "# 正規表現のためのライブラリもインポート"
   ]
  },
  {
   "cell_type": "code",
   "execution_count": 8,
   "id": "4b55e373-50e4-4a63-afb4-d5312740dd67",
   "metadata": {},
   "outputs": [],
   "source": [
    "pd.set_option('display.max_columns', 200)\n",
    "pd.set_option('display.max_rows', 100)"
   ]
  },
  {
   "cell_type": "code",
   "execution_count": 9,
   "id": "8356473b-32f1-44d0-8d49-aef58f8123d3",
   "metadata": {},
   "outputs": [],
   "source": [
    "dfpit09 = pd.read_pickle('dfpit09.pickle')\n",
    "dfpit10 = pd.read_pickle('dfpit10.pickle')\n",
    "dfpit11 = pd.read_pickle('dfpit11.pickle')\n",
    "dfpit12 = pd.read_pickle('dfpit12.pickle')\n",
    "dfpit13 = pd.read_pickle('dfpit13.pickle')\n",
    "dfpit14 = pd.read_pickle('dfpit14.pickle')\n",
    "dfpit15 = pd.read_pickle('dfpit15.pickle')\n",
    "dfpit16 = pd.read_pickle('dfpit16.pickle')\n",
    "dfpit17 = pd.read_pickle('dfpit17.pickle')\n",
    "dfpit18 = pd.read_pickle('dfpit18.pickle')\n",
    "dfpit19 = pd.read_pickle('dfpit19.pickle')\n",
    "dfpit20 = pd.read_pickle('dfpit20.pickle')\n",
    "dfpit21 = pd.read_pickle('dfpit21.pickle')"
   ]
  },
  {
   "cell_type": "markdown",
   "id": "8da73727-3884-4002-9621-8570d8d82812",
   "metadata": {},
   "source": [
    "### 年俸分析データの作成"
   ]
  },
  {
   "cell_type": "markdown",
   "id": "b83f9cf0-c12f-4788-90af-3adf1fda704d",
   "metadata": {},
   "source": [
    "#### 2021年"
   ]
  },
  {
   "cell_type": "code",
   "execution_count": 10,
   "id": "744b1dad-f319-4ebe-bf80-3cb6cce887f0",
   "metadata": {},
   "outputs": [],
   "source": [
    "df21 = pd.merge(dfpit21,dfpit20,on = '選手名', how = 'left')\n",
    "df21 = pd.merge(df21,dfpit19,on = '選手名', how = 'left')\n",
    "df21 = pd.merge(df21,dfpit18,on = '選手名', how = 'left')"
   ]
  },
  {
   "cell_type": "code",
   "execution_count": 11,
   "id": "73cf3fcd-3bc0-48e1-8393-c7db04e094f1",
   "metadata": {},
   "outputs": [],
   "source": [
    "df21 = pd.merge(dfpit21,dfpit20,on = '選手名', how = 'left')\n",
    "df21 = pd.merge(df21,dfpit19,on = '選手名', how = 'left')\n",
    "df21 = pd.merge(df21,dfpit18,on = '選手名', how = 'left')\n",
    "\n",
    "\n",
    "df21 = df21[['選手名','チーム_21','年俸(推定)_21','年数_21','年齢_21','出身地_21','防御率_20','防御率_19','防御率_18',\n",
    "    '試合_20','試合_19','試合_18','勝利_20','勝利_19','勝利_18','敗北_20','敗北_19','敗北_18',\n",
    "    'セーブ_20','セーブ_19','セーブ_18','ホールド_20','ホールド_19','ホールド_18','投球回_20','投球回_19','投球回_18',\n",
    "    '奪三振_20','奪三振_19','奪三振_18','失点_20','失点_19','失点_18','自責点_20','自責点_19','自責点_18',\n",
    "    'WHIP_20','WHIP_19','WHIP_18','DIPS_20','DIPS_19','DIPS_18']]\n",
    "\n",
    "df21.columns = ['選手名','チーム','年俸','年数','年齢','出身地','防御率_-1y','防御率_-2y','防御率_-3y','試合_-1y','試合_-2y','試合_-3y',\n",
    "               '勝利_-1y','勝利_-2y','勝利_-3y','敗北_-1y','敗北_-2y','敗北_-3y','セーブ_-1y','セーブ_-2y','セーブ_-3y',\n",
    "                'ホールド_-1y','ホールド_-2y','ホールド_-3y','投球回_-1y','投球回_-2y','投球回_-3y','奪三振_-1y','奪三振_-2y','奪三振_-3y',\n",
    "                '失点_-1y','失点_-2y','失点_-3y','自責点_-1y','自責点_-2y','自責点_-3y','WHIP_-1y','WHIP_-2y','WHIP_-3y',\n",
    "                'DIPS_-1y','DIPS_-2y','DIPS_-3y']"
   ]
  },
  {
   "cell_type": "code",
   "execution_count": 12,
   "id": "0a02e4e0-0083-410c-8d12-5c01f372cea1",
   "metadata": {},
   "outputs": [],
   "source": [
    "PROVNAME = {\n",
    "    '北海道': '北海道', '青森県': '青森', '岩手県': '岩手', '宮城県': '宮城', '秋田県': '秋田', '山形県': '山形', '福島県': '福島', \n",
    "    '茨城県': '茨城', '栃木県': '栃木', '群馬県': '群馬', '埼玉県': '埼玉', '千葉県': '千葉', '東京都': '東京', '神奈川県': '神奈川', \n",
    "    '新潟県': '新潟', '富山県': '富山', '石川県': '石川', '福井県': '福井', '山梨県': '山梨', '長野県': '長野', \n",
    "    '岐阜県': '岐阜', '静岡県': '静岡', '愛知県': '愛知', '三重県': '三重', '滋賀県': '滋賀', \n",
    "    '京都府': '京都', '大阪府': '大阪', '兵庫県': '兵庫', '奈良県': '奈良', '和歌山県': '和歌山', \n",
    "    '鳥取県': '鳥取', '島根県': '島根', '岡山県': '岡山', '広島県': '広島', '山口県': '山口', \n",
    "    '徳島県': '徳島', '香川県': '香川', '愛媛県': '愛媛', '高知県': '高知', \n",
    "    '福岡県': '福岡', '佐賀県': '佐賀', '長崎県': '長崎', '熊本県': '熊本', '大分県': '大分', '宮崎県': '宮崎', '鹿児島県': '鹿児島', '沖縄県': '沖縄'\n",
    "}\n",
    "prefecture = [v for v in PROVNAME.values()]\n",
    "df21['国内'] = df21['出身地'].isin(prefecture)\n"
   ]
  },
  {
   "cell_type": "code",
   "execution_count": 13,
   "id": "188c3c8b-52d5-45c9-ae2b-3ffc7f471382",
   "metadata": {},
   "outputs": [],
   "source": [
    "df21 = df21[~df21.duplicated(subset=['選手名'])]\n",
    "df21 = df21[df21['投球回_-1y']>0].reset_index(drop=True)"
   ]
  },
  {
   "cell_type": "markdown",
   "id": "22b95fc5-28ff-42fa-82e2-3aef17db4d41",
   "metadata": {},
   "source": [
    "#### 2020年"
   ]
  },
  {
   "cell_type": "code",
   "execution_count": 14,
   "id": "ee4de522-2a56-488f-908e-1aa50ca684a6",
   "metadata": {},
   "outputs": [],
   "source": [
    "df20 = pd.merge(dfpit20,dfpit19,on = '選手名', how = 'left')\n",
    "df20 = pd.merge(df20,dfpit18,on = '選手名', how = 'left')\n",
    "df20 = pd.merge(df20,dfpit17,on = '選手名', how = 'left')"
   ]
  },
  {
   "cell_type": "code",
   "execution_count": 15,
   "id": "64fbd902-d270-4c8c-900b-cf070b617a9b",
   "metadata": {},
   "outputs": [],
   "source": [
    "df20 = pd.merge(dfpit20,dfpit19,on = '選手名', how = 'left')\n",
    "df20 = pd.merge(df20,dfpit18,on = '選手名', how = 'left')\n",
    "df20 = pd.merge(df20,dfpit17,on = '選手名', how = 'left')\n",
    "\n",
    "\n",
    "df20 = df20[['選手名','チーム_20','年俸(推定)_20','年数_20','年齢_20','出身地_20','防御率_19','防御率_18','防御率_17',\n",
    "    '試合_19','試合_18','試合_17','勝利_19','勝利_18','勝利_17','敗北_19','敗北_18','敗北_17',\n",
    "    'セーブ_19','セーブ_18','セーブ_17','ホールド_19','ホールド_18','ホールド_17','投球回_19','投球回_18','投球回_17',\n",
    "    '奪三振_19','奪三振_18','奪三振_17','失点_19','失点_18','失点_17','自責点_19','自責点_18','自責点_17',\n",
    "    'WHIP_19','WHIP_18','WHIP_17','DIPS_19','DIPS_18','DIPS_17']]\n",
    "\n",
    "df20.columns = ['選手名','チーム','年俸','年数','年齢','出身地','防御率_-1y','防御率_-2y','防御率_-3y','試合_-1y','試合_-2y','試合_-3y',\n",
    "               '勝利_-1y','勝利_-2y','勝利_-3y','敗北_-1y','敗北_-2y','敗北_-3y','セーブ_-1y','セーブ_-2y','セーブ_-3y',\n",
    "                'ホールド_-1y','ホールド_-2y','ホールド_-3y','投球回_-1y','投球回_-2y','投球回_-3y','奪三振_-1y','奪三振_-2y','奪三振_-3y',\n",
    "                '失点_-1y','失点_-2y','失点_-3y','自責点_-1y','自責点_-2y','自責点_-3y','WHIP_-1y','WHIP_-2y','WHIP_-3y',\n",
    "                'DIPS_-1y','DIPS_-2y','DIPS_-3y']"
   ]
  },
  {
   "cell_type": "code",
   "execution_count": 16,
   "id": "5fd00f18-a828-4024-b826-e8ce9c5da6ee",
   "metadata": {},
   "outputs": [],
   "source": [
    "df20['国内'] = df20['出身地'].isin(prefecture)"
   ]
  },
  {
   "cell_type": "code",
   "execution_count": 17,
   "id": "13fcbf9a-026a-49ea-a51d-ed2a3e0b0a2d",
   "metadata": {},
   "outputs": [],
   "source": [
    "df20 = df20[~df20.duplicated(subset=['選手名'])]\n",
    "df20 = df20[df20['投球回_-1y']>0].reset_index(drop=True)"
   ]
  },
  {
   "cell_type": "markdown",
   "id": "d89ddbc7-c025-4192-bed2-bda6f5fcbb94",
   "metadata": {},
   "source": [
    "#### 2019年"
   ]
  },
  {
   "cell_type": "code",
   "execution_count": 18,
   "id": "23cf4b99-3d1c-471f-ace5-05c24b13bce8",
   "metadata": {},
   "outputs": [],
   "source": [
    "df19 = pd.merge(dfpit19,dfpit18,on = '選手名', how = 'left')\n",
    "df19 = pd.merge(df19,dfpit17,on = '選手名', how = 'left')\n",
    "df19 = pd.merge(df19,dfpit16,on = '選手名', how = 'left')"
   ]
  },
  {
   "cell_type": "code",
   "execution_count": 19,
   "id": "6b268b2c-49e8-48ba-b226-ee793504764b",
   "metadata": {},
   "outputs": [],
   "source": [
    "df19 = pd.merge(dfpit19,dfpit18,on = '選手名', how = 'left')\n",
    "df19 = pd.merge(df19,dfpit17,on = '選手名', how = 'left')\n",
    "df19 = pd.merge(df19,dfpit16,on = '選手名', how = 'left')\n",
    "\n",
    "\n",
    "df19 = df19[['選手名','チーム_19','年俸(推定)_19','年数_19','年齢_19','出身地_19','防御率_18','防御率_17','防御率_16',\n",
    "    '試合_18','試合_17','試合_16','勝利_18','勝利_17','勝利_16','敗北_18','敗北_17','敗北_16',\n",
    "    'セーブ_18','セーブ_17','セーブ_16','ホールド_18','ホールド_17','ホールド_16','投球回_18','投球回_17','投球回_16',\n",
    "    '奪三振_18','奪三振_17','奪三振_16','失点_18','失点_17','失点_16','自責点_18','自責点_17','自責点_16',\n",
    "    'WHIP_18','WHIP_17','WHIP_16','DIPS_18','DIPS_17','DIPS_16']]\n",
    "\n",
    "df19.columns = ['選手名','チーム','年俸','年数','年齢','出身地','防御率_-1y','防御率_-2y','防御率_-3y','試合_-1y','試合_-2y','試合_-3y',\n",
    "               '勝利_-1y','勝利_-2y','勝利_-3y','敗北_-1y','敗北_-2y','敗北_-3y','セーブ_-1y','セーブ_-2y','セーブ_-3y',\n",
    "                'ホールド_-1y','ホールド_-2y','ホールド_-3y','投球回_-1y','投球回_-2y','投球回_-3y','奪三振_-1y','奪三振_-2y','奪三振_-3y',\n",
    "                '失点_-1y','失点_-2y','失点_-3y','自責点_-1y','自責点_-2y','自責点_-3y','WHIP_-1y','WHIP_-2y','WHIP_-3y',\n",
    "                'DIPS_-1y','DIPS_-2y','DIPS_-3y']"
   ]
  },
  {
   "cell_type": "code",
   "execution_count": 20,
   "id": "6434a2b5-2b80-46fb-bfff-fb2d87b6bf24",
   "metadata": {},
   "outputs": [],
   "source": [
    "df19['国内'] = df19['出身地'].isin(prefecture)"
   ]
  },
  {
   "cell_type": "code",
   "execution_count": 21,
   "id": "008ecf47-b593-471d-8e9c-7e549aab875c",
   "metadata": {},
   "outputs": [],
   "source": [
    "df19 = df19[~df19.duplicated(subset=['選手名'])]\n",
    "df19 = df19[df19['投球回_-1y']>0].reset_index(drop=True)"
   ]
  },
  {
   "cell_type": "markdown",
   "id": "8c4cf72d-e238-444a-8d64-1a85ed96cff4",
   "metadata": {},
   "source": [
    "#### 2018年"
   ]
  },
  {
   "cell_type": "code",
   "execution_count": 22,
   "id": "96eb4ae2-7361-437a-acce-3141dd58576b",
   "metadata": {},
   "outputs": [],
   "source": [
    "df18 = pd.merge(dfpit18,dfpit17,on = '選手名', how = 'left')\n",
    "df18 = pd.merge(df18,dfpit16,on = '選手名', how = 'left')\n",
    "df18 = pd.merge(df18,dfpit15,on = '選手名', how = 'left')"
   ]
  },
  {
   "cell_type": "code",
   "execution_count": 23,
   "id": "bbcc78f8-f688-473e-b9e8-b15c87a37722",
   "metadata": {},
   "outputs": [],
   "source": [
    "df18 = pd.merge(dfpit18,dfpit17,on = '選手名', how = 'left')\n",
    "df18 = pd.merge(df18,dfpit16,on = '選手名', how = 'left')\n",
    "df18 = pd.merge(df18,dfpit15,on = '選手名', how = 'left')\n",
    "\n",
    "\n",
    "df18 = df18[['選手名','チーム_18','年俸(推定)_18','年数_18','年齢_18','出身地_18','防御率_17','防御率_16','防御率_15',\n",
    "    '試合_17','試合_16','試合_15','勝利_17','勝利_16','勝利_15','敗北_17','敗北_16','敗北_15',\n",
    "    'セーブ_17','セーブ_16','セーブ_15','ホールド_17','ホールド_16','ホールド_15','投球回_17','投球回_16','投球回_15',\n",
    "    '奪三振_17','奪三振_16','奪三振_15','失点_17','失点_16','失点_15','自責点_17','自責点_16','自責点_15',\n",
    "    'WHIP_17','WHIP_16','WHIP_15','DIPS_17','DIPS_16','DIPS_15']]\n",
    "\n",
    "df18.columns = ['選手名','チーム','年俸','年数','年齢','出身地','防御率_-1y','防御率_-2y','防御率_-3y','試合_-1y','試合_-2y','試合_-3y',\n",
    "               '勝利_-1y','勝利_-2y','勝利_-3y','敗北_-1y','敗北_-2y','敗北_-3y','セーブ_-1y','セーブ_-2y','セーブ_-3y',\n",
    "                'ホールド_-1y','ホールド_-2y','ホールド_-3y','投球回_-1y','投球回_-2y','投球回_-3y','奪三振_-1y','奪三振_-2y','奪三振_-3y',\n",
    "                '失点_-1y','失点_-2y','失点_-3y','自責点_-1y','自責点_-2y','自責点_-3y','WHIP_-1y','WHIP_-2y','WHIP_-3y',\n",
    "                'DIPS_-1y','DIPS_-2y','DIPS_-3y']"
   ]
  },
  {
   "cell_type": "code",
   "execution_count": 24,
   "id": "d733ce7f-0c1a-49f8-a994-dac3d6e52c6e",
   "metadata": {},
   "outputs": [],
   "source": [
    "df18['国内'] = df18['出身地'].isin(prefecture)"
   ]
  },
  {
   "cell_type": "code",
   "execution_count": 25,
   "id": "5a9e0f14-7bc4-404b-b07e-99f3ca0edc21",
   "metadata": {},
   "outputs": [],
   "source": [
    "df18 = df18[~df18.duplicated(subset=['選手名'])]\n",
    "df18 = df18[df18['投球回_-1y']>0].reset_index(drop=True)"
   ]
  },
  {
   "cell_type": "markdown",
   "id": "88c26293-04e1-4c5b-8120-cce0d3317615",
   "metadata": {},
   "source": [
    "#### 2017年"
   ]
  },
  {
   "cell_type": "code",
   "execution_count": 26,
   "id": "0d65a242-0db3-4d49-9965-11f17b302bb6",
   "metadata": {},
   "outputs": [],
   "source": [
    "df17 = pd.merge(dfpit17,dfpit16,on = '選手名', how = 'left')\n",
    "df17 = pd.merge(df17,dfpit15,on = '選手名', how = 'left')\n",
    "df17 = pd.merge(df17,dfpit14,on = '選手名', how = 'left')"
   ]
  },
  {
   "cell_type": "code",
   "execution_count": 27,
   "id": "99ca7436-7e52-4a6d-8db3-7f55a8b0bfd3",
   "metadata": {},
   "outputs": [],
   "source": [
    "df17 = pd.merge(dfpit17,dfpit16,on = '選手名', how = 'left')\n",
    "df17 = pd.merge(df17,dfpit15,on = '選手名', how = 'left')\n",
    "df17 = pd.merge(df17,dfpit14,on = '選手名', how = 'left')\n",
    "\n",
    "\n",
    "df17 = df17[['選手名','チーム_17','年俸(推定)_17','年数_17','年齢_17','出身地_17','防御率_16','防御率_15','防御率_14',\n",
    "    '試合_16','試合_15','試合_14','勝利_16','勝利_15','勝利_14','敗北_16','敗北_15','敗北_14',\n",
    "    'セーブ_16','セーブ_15','セーブ_14','ホールド_16','ホールド_15','ホールド_14','投球回_16','投球回_15','投球回_14',\n",
    "    '奪三振_16','奪三振_15','奪三振_14','失点_16','失点_15','失点_14','自責点_16','自責点_15','自責点_14',\n",
    "    'WHIP_16','WHIP_15','WHIP_14','DIPS_16','DIPS_15','DIPS_14']]\n",
    "\n",
    "df17.columns = ['選手名','チーム','年俸','年数','年齢','出身地','防御率_-1y','防御率_-2y','防御率_-3y','試合_-1y','試合_-2y','試合_-3y',\n",
    "               '勝利_-1y','勝利_-2y','勝利_-3y','敗北_-1y','敗北_-2y','敗北_-3y','セーブ_-1y','セーブ_-2y','セーブ_-3y',\n",
    "                'ホールド_-1y','ホールド_-2y','ホールド_-3y','投球回_-1y','投球回_-2y','投球回_-3y','奪三振_-1y','奪三振_-2y','奪三振_-3y',\n",
    "                '失点_-1y','失点_-2y','失点_-3y','自責点_-1y','自責点_-2y','自責点_-3y','WHIP_-1y','WHIP_-2y','WHIP_-3y',\n",
    "                'DIPS_-1y','DIPS_-2y','DIPS_-3y']"
   ]
  },
  {
   "cell_type": "code",
   "execution_count": 28,
   "id": "ff143b97-e4f0-4726-9a06-41e775805c9e",
   "metadata": {},
   "outputs": [],
   "source": [
    "df17['国内'] = df17['出身地'].isin(prefecture)"
   ]
  },
  {
   "cell_type": "code",
   "execution_count": 29,
   "id": "c527b718-a097-4528-a5df-b5a7bc620964",
   "metadata": {},
   "outputs": [],
   "source": [
    "df17 = df17[~df17.duplicated(subset=['選手名'])]\n",
    "df17 = df17[df17['投球回_-1y']>0].reset_index(drop=True)"
   ]
  },
  {
   "cell_type": "markdown",
   "id": "cbd7280f-6c8f-4fe7-96d5-edacc480fe57",
   "metadata": {},
   "source": [
    "#### 2016年"
   ]
  },
  {
   "cell_type": "code",
   "execution_count": 30,
   "id": "a7324a28-36ca-4bb3-877b-de832f0753a1",
   "metadata": {},
   "outputs": [],
   "source": [
    "df16 = pd.merge(dfpit16,dfpit15,on = '選手名', how = 'left')\n",
    "df16 = pd.merge(df16,dfpit14,on = '選手名', how = 'left')\n",
    "df16 = pd.merge(df16,dfpit13,on = '選手名', how = 'left')"
   ]
  },
  {
   "cell_type": "code",
   "execution_count": 31,
   "id": "1430a3c1-11f1-4206-ae3c-4b89088614df",
   "metadata": {},
   "outputs": [],
   "source": [
    "df16 = pd.merge(dfpit16,dfpit15,on = '選手名', how = 'left')\n",
    "df16 = pd.merge(df16,dfpit14,on = '選手名', how = 'left')\n",
    "df16 = pd.merge(df16,dfpit13,on = '選手名', how = 'left')\n",
    "\n",
    "\n",
    "df16 = df16[['選手名','チーム_16','年俸(推定)_16','年数_16','年齢_16','出身地_16','防御率_15','防御率_14','防御率_13',\n",
    "    '試合_15','試合_14','試合_13','勝利_15','勝利_14','勝利_13','敗北_15','敗北_14','敗北_13',\n",
    "    'セーブ_15','セーブ_14','セーブ_13','ホールド_15','ホールド_14','ホールド_13','投球回_15','投球回_14','投球回_13',\n",
    "    '奪三振_15','奪三振_14','奪三振_13','失点_15','失点_14','失点_13','自責点_15','自責点_14','自責点_13',\n",
    "    'WHIP_15','WHIP_14','WHIP_13','DIPS_15','DIPS_14','DIPS_13']]\n",
    "\n",
    "df16.columns = ['選手名','チーム','年俸','年数','年齢','出身地','防御率_-1y','防御率_-2y','防御率_-3y','試合_-1y','試合_-2y','試合_-3y',\n",
    "               '勝利_-1y','勝利_-2y','勝利_-3y','敗北_-1y','敗北_-2y','敗北_-3y','セーブ_-1y','セーブ_-2y','セーブ_-3y',\n",
    "                'ホールド_-1y','ホールド_-2y','ホールド_-3y','投球回_-1y','投球回_-2y','投球回_-3y','奪三振_-1y','奪三振_-2y','奪三振_-3y',\n",
    "                '失点_-1y','失点_-2y','失点_-3y','自責点_-1y','自責点_-2y','自責点_-3y','WHIP_-1y','WHIP_-2y','WHIP_-3y',\n",
    "                'DIPS_-1y','DIPS_-2y','DIPS_-3y']"
   ]
  },
  {
   "cell_type": "code",
   "execution_count": 32,
   "id": "6d896a1f-928b-4503-bade-3573f14f9db6",
   "metadata": {},
   "outputs": [],
   "source": [
    "df16['国内'] = df16['出身地'].isin(prefecture)"
   ]
  },
  {
   "cell_type": "code",
   "execution_count": 33,
   "id": "855e07f4-46b8-44f2-ae6a-3fd42598847b",
   "metadata": {},
   "outputs": [],
   "source": [
    "df16 = df16[~df16.duplicated(subset=['選手名'])]\n",
    "df16 = df16[df16['投球回_-1y']>0].reset_index(drop=True)"
   ]
  },
  {
   "cell_type": "markdown",
   "id": "f15a8c73-bf12-4f55-bb72-fc8919abcd1e",
   "metadata": {},
   "source": [
    "#### 2015年"
   ]
  },
  {
   "cell_type": "code",
   "execution_count": 34,
   "id": "f0d4fe76-7753-4898-91e5-6e86e91b330f",
   "metadata": {},
   "outputs": [],
   "source": [
    "df15 = pd.merge(dfpit15,dfpit14,on = '選手名', how = 'left')\n",
    "df15 = pd.merge(df15,dfpit13,on = '選手名', how = 'left')\n",
    "df15 = pd.merge(df15,dfpit12,on = '選手名', how = 'left')"
   ]
  },
  {
   "cell_type": "code",
   "execution_count": 35,
   "id": "991d6224-84e2-4552-a85d-14dac16e77b7",
   "metadata": {},
   "outputs": [],
   "source": [
    "df15 = pd.merge(dfpit15,dfpit14,on = '選手名', how = 'left')\n",
    "df15 = pd.merge(df15,dfpit13,on = '選手名', how = 'left')\n",
    "df15 = pd.merge(df15,dfpit12,on = '選手名', how = 'left')\n",
    "\n",
    "\n",
    "df15 = df15[['選手名','チーム_15','年俸(推定)_15','年数_15','年齢_15','出身地_15','防御率_14','防御率_13','防御率_12',\n",
    "    '試合_14','試合_13','試合_12','勝利_14','勝利_13','勝利_12','敗北_14','敗北_13','敗北_12',\n",
    "    'セーブ_14','セーブ_13','セーブ_12','ホールド_14','ホールド_13','ホールド_12','投球回_14','投球回_13','投球回_12',\n",
    "    '奪三振_14','奪三振_13','奪三振_12','失点_14','失点_13','失点_12','自責点_14','自責点_13','自責点_12',\n",
    "    'WHIP_14','WHIP_13','WHIP_12','DIPS_14','DIPS_13','DIPS_12']]\n",
    "\n",
    "df15.columns = ['選手名','チーム','年俸','年数','年齢','出身地','防御率_-1y','防御率_-2y','防御率_-3y','試合_-1y','試合_-2y','試合_-3y',\n",
    "               '勝利_-1y','勝利_-2y','勝利_-3y','敗北_-1y','敗北_-2y','敗北_-3y','セーブ_-1y','セーブ_-2y','セーブ_-3y',\n",
    "                'ホールド_-1y','ホールド_-2y','ホールド_-3y','投球回_-1y','投球回_-2y','投球回_-3y','奪三振_-1y','奪三振_-2y','奪三振_-3y',\n",
    "                '失点_-1y','失点_-2y','失点_-3y','自責点_-1y','自責点_-2y','自責点_-3y','WHIP_-1y','WHIP_-2y','WHIP_-3y',\n",
    "                'DIPS_-1y','DIPS_-2y','DIPS_-3y']"
   ]
  },
  {
   "cell_type": "code",
   "execution_count": 36,
   "id": "bfcbe24d-e7c1-4ae7-8ed2-2c3f7993c2f7",
   "metadata": {},
   "outputs": [],
   "source": [
    "df15['国内'] = df15['出身地'].isin(prefecture)"
   ]
  },
  {
   "cell_type": "code",
   "execution_count": 37,
   "id": "486af668-497f-4518-8915-f26e9be9bb6b",
   "metadata": {},
   "outputs": [],
   "source": [
    "df15 = df15[~df15.duplicated(subset=['選手名'])]\n",
    "df15 = df15[df15['投球回_-1y']>0].reset_index(drop=True)"
   ]
  },
  {
   "cell_type": "markdown",
   "id": "435e28da-3a70-4911-8c81-a90f0361b6b3",
   "metadata": {},
   "source": [
    "#### 2014年"
   ]
  },
  {
   "cell_type": "code",
   "execution_count": 38,
   "id": "ebe906e6-2049-4046-949d-96395f896588",
   "metadata": {},
   "outputs": [],
   "source": [
    "df14 = pd.merge(dfpit14,dfpit13,on = '選手名', how = 'left')\n",
    "df14 = pd.merge(df14,dfpit12,on = '選手名', how = 'left')\n",
    "df14 = pd.merge(df14,dfpit11,on = '選手名', how = 'left')"
   ]
  },
  {
   "cell_type": "code",
   "execution_count": 39,
   "id": "70b21fee-ac6f-41d5-9a56-e0bde023d164",
   "metadata": {},
   "outputs": [],
   "source": [
    "df14 = pd.merge(dfpit14,dfpit13,on = '選手名', how = 'left')\n",
    "df14 = pd.merge(df14,dfpit12,on = '選手名', how = 'left')\n",
    "df14 = pd.merge(df14,dfpit11,on = '選手名', how = 'left')\n",
    "\n",
    "\n",
    "df14 = df14[['選手名','チーム_14','年俸(推定)_14','年数_14','年齢_14','出身地_14','防御率_13','防御率_12','防御率_11',\n",
    "    '試合_13','試合_12','試合_11','勝利_13','勝利_12','勝利_11','敗北_13','敗北_12','敗北_11',\n",
    "    'セーブ_13','セーブ_12','セーブ_11','ホールド_13','ホールド_12','ホールド_11','投球回_13','投球回_12','投球回_11',\n",
    "    '奪三振_13','奪三振_12','奪三振_11','失点_13','失点_12','失点_11','自責点_13','自責点_12','自責点_11',\n",
    "    'WHIP_13','WHIP_12','WHIP_11','DIPS_13','DIPS_12','DIPS_11']]\n",
    "\n",
    "df14.columns = ['選手名','チーム','年俸','年数','年齢','出身地','防御率_-1y','防御率_-2y','防御率_-3y','試合_-1y','試合_-2y','試合_-3y',\n",
    "               '勝利_-1y','勝利_-2y','勝利_-3y','敗北_-1y','敗北_-2y','敗北_-3y','セーブ_-1y','セーブ_-2y','セーブ_-3y',\n",
    "                'ホールド_-1y','ホールド_-2y','ホールド_-3y','投球回_-1y','投球回_-2y','投球回_-3y','奪三振_-1y','奪三振_-2y','奪三振_-3y',\n",
    "                '失点_-1y','失点_-2y','失点_-3y','自責点_-1y','自責点_-2y','自責点_-3y','WHIP_-1y','WHIP_-2y','WHIP_-3y',\n",
    "                'DIPS_-1y','DIPS_-2y','DIPS_-3y']"
   ]
  },
  {
   "cell_type": "code",
   "execution_count": 40,
   "id": "ecc76711-93f7-4d44-9340-aa0372ab70b2",
   "metadata": {},
   "outputs": [],
   "source": [
    "df14['国内'] = df14['出身地'].isin(prefecture)"
   ]
  },
  {
   "cell_type": "code",
   "execution_count": 41,
   "id": "a9c2bc74-3300-400d-b303-64d1d18460e1",
   "metadata": {},
   "outputs": [],
   "source": [
    "df14 = df14[~df14.duplicated(subset=['選手名'])]\n",
    "df14 = df14[df14['投球回_-1y']>0].reset_index(drop=True)"
   ]
  },
  {
   "cell_type": "markdown",
   "id": "722b2fe7-01a7-4146-8614-ff40e50c9c65",
   "metadata": {},
   "source": [
    "#### 2013年"
   ]
  },
  {
   "cell_type": "code",
   "execution_count": 42,
   "id": "06158277-df77-4bdb-a241-142e4e6cfc3d",
   "metadata": {},
   "outputs": [],
   "source": [
    "df13 = pd.merge(dfpit13,dfpit12,on = '選手名', how = 'left')\n",
    "df13 = pd.merge(df13,dfpit11,on = '選手名', how = 'left')\n",
    "df13 = pd.merge(df13,dfpit10,on = '選手名', how = 'left')"
   ]
  },
  {
   "cell_type": "code",
   "execution_count": 43,
   "id": "a461975c-e6fc-4ba7-a3b4-211a47abb00d",
   "metadata": {},
   "outputs": [],
   "source": [
    "df13 = pd.merge(dfpit13,dfpit12,on = '選手名', how = 'left')\n",
    "df13 = pd.merge(df13,dfpit11,on = '選手名', how = 'left')\n",
    "df13 = pd.merge(df13,dfpit10,on = '選手名', how = 'left')\n",
    "\n",
    "\n",
    "df13 = df13[['選手名','チーム_13','年俸(推定)_13','年数_13','年齢_13','出身地_13','防御率_12','防御率_11','防御率_10',\n",
    "    '試合_12','試合_11','試合_10','勝利_12','勝利_11','勝利_10','敗北_12','敗北_11','敗北_10',\n",
    "    'セーブ_12','セーブ_11','セーブ_10','ホールド_12','ホールド_11','ホールド_10','投球回_12','投球回_11','投球回_10',\n",
    "    '奪三振_12','奪三振_11','奪三振_10','失点_12','失点_11','失点_10','自責点_12','自責点_11','自責点_10',\n",
    "    'WHIP_12','WHIP_11','WHIP_10','DIPS_12','DIPS_11','DIPS_10']]\n",
    "\n",
    "df13.columns = ['選手名','チーム','年俸','年数','年齢','出身地','防御率_-1y','防御率_-2y','防御率_-3y','試合_-1y','試合_-2y','試合_-3y',\n",
    "               '勝利_-1y','勝利_-2y','勝利_-3y','敗北_-1y','敗北_-2y','敗北_-3y','セーブ_-1y','セーブ_-2y','セーブ_-3y',\n",
    "                'ホールド_-1y','ホールド_-2y','ホールド_-3y','投球回_-1y','投球回_-2y','投球回_-3y','奪三振_-1y','奪三振_-2y','奪三振_-3y',\n",
    "                '失点_-1y','失点_-2y','失点_-3y','自責点_-1y','自責点_-2y','自責点_-3y','WHIP_-1y','WHIP_-2y','WHIP_-3y',\n",
    "                'DIPS_-1y','DIPS_-2y','DIPS_-3y']"
   ]
  },
  {
   "cell_type": "code",
   "execution_count": 44,
   "id": "fc29f9e7-58fa-4fff-aaf5-42e5c3592f36",
   "metadata": {},
   "outputs": [],
   "source": [
    "df13['国内'] = df13['出身地'].isin(prefecture)"
   ]
  },
  {
   "cell_type": "code",
   "execution_count": 45,
   "id": "f1ab476f-506d-4b8e-90d1-a7ca17a16ab5",
   "metadata": {},
   "outputs": [],
   "source": [
    "df13 = df13[~df13.duplicated(subset=['選手名'])]\n",
    "df13 = df13[df13['投球回_-1y']>0].reset_index(drop=True)"
   ]
  },
  {
   "cell_type": "markdown",
   "id": "a6510c18-2ece-4bad-9905-feca72264925",
   "metadata": {},
   "source": [
    "#### 2012年"
   ]
  },
  {
   "cell_type": "code",
   "execution_count": 46,
   "id": "9cdb51c8-a3c6-4538-83fa-dcb483d714c2",
   "metadata": {},
   "outputs": [],
   "source": [
    "df12 = pd.merge(dfpit12,dfpit11,on = '選手名', how = 'left')\n",
    "df12 = pd.merge(df12,dfpit10,on = '選手名', how = 'left')\n",
    "df12 = pd.merge(df12,dfpit09,on = '選手名', how = 'left')"
   ]
  },
  {
   "cell_type": "code",
   "execution_count": 47,
   "id": "9e07fd08-a7bc-4009-b167-9f8601b73ac8",
   "metadata": {},
   "outputs": [],
   "source": [
    "df12 = pd.merge(dfpit12,dfpit11,on = '選手名', how = 'left')\n",
    "df12 = pd.merge(df12,dfpit10,on = '選手名', how = 'left')\n",
    "df12 = pd.merge(df12,dfpit09,on = '選手名', how = 'left')\n",
    "\n",
    "\n",
    "df12 = df12[['選手名','チーム_12','年俸(推定)_12','年数_12','年齢_12','出身地_12','防御率_11','防御率_10','防御率_09',\n",
    "    '試合_11','試合_10','試合_09','勝利_11','勝利_10','勝利_09','敗北_11','敗北_10','敗北_09',\n",
    "    'セーブ_11','セーブ_10','セーブ_09','ホールド_11','ホールド_10','ホールド_09','投球回_11','投球回_10','投球回_09',\n",
    "    '奪三振_11','奪三振_10','奪三振_09','失点_11','失点_10','失点_09','自責点_11','自責点_10','自責点_09',\n",
    "    'WHIP_11','WHIP_10','WHIP_09','DIPS_11','DIPS_10','DIPS_09']]\n",
    "\n",
    "df12.columns = ['選手名','チーム','年俸','年数','年齢','出身地','防御率_-1y','防御率_-2y','防御率_-3y','試合_-1y','試合_-2y','試合_-3y',\n",
    "               '勝利_-1y','勝利_-2y','勝利_-3y','敗北_-1y','敗北_-2y','敗北_-3y','セーブ_-1y','セーブ_-2y','セーブ_-3y',\n",
    "                'ホールド_-1y','ホールド_-2y','ホールド_-3y','投球回_-1y','投球回_-2y','投球回_-3y','奪三振_-1y','奪三振_-2y','奪三振_-3y',\n",
    "                '失点_-1y','失点_-2y','失点_-3y','自責点_-1y','自責点_-2y','自責点_-3y','WHIP_-1y','WHIP_-2y','WHIP_-3y',\n",
    "                'DIPS_-1y','DIPS_-2y','DIPS_-3y']"
   ]
  },
  {
   "cell_type": "code",
   "execution_count": 48,
   "id": "ae204f40-23df-4862-bf13-a13f3ffebe05",
   "metadata": {},
   "outputs": [],
   "source": [
    "df12['国内'] = df12['出身地'].isin(prefecture)"
   ]
  },
  {
   "cell_type": "code",
   "execution_count": 49,
   "id": "060667b6-8823-48bc-95be-20310d656817",
   "metadata": {},
   "outputs": [],
   "source": [
    "df12 = df12[~df12.duplicated(subset=['選手名'])]\n",
    "df12 = df12[df12['投球回_-1y']>0].reset_index(drop=True)"
   ]
  },
  {
   "cell_type": "markdown",
   "id": "5945d3f1-25b2-4433-9420-81f981f63a63",
   "metadata": {},
   "source": [
    "#### 結合"
   ]
  },
  {
   "cell_type": "code",
   "execution_count": 54,
   "id": "4ac9b9c7-6d7a-42d5-ac85-c854ddff486d",
   "metadata": {},
   "outputs": [],
   "source": [
    "df21['年'] = 2021\n",
    "df20['年'] = 2020\n",
    "df19['年'] = 2019\n",
    "df18['年'] = 2018\n",
    "df17['年'] = 2017\n",
    "df16['年'] = 2016\n",
    "df15['年'] = 2015\n",
    "df14['年'] = 2014\n",
    "df13['年'] = 2013\n",
    "df12['年'] = 2012\n",
    "\n",
    "df = pd.concat([df21,df20,df19,df18,df17,df16,df15,df14,df13,df12]).reset_index(drop = True)\n",
    "df.columns = ['player','team','salary','career_length','age','birthplace','ERA_-1y','ERA_-2y','ERA_-3y',\n",
    "                'game_-1y','game_-2y','game_-3y','win_-1y','win_-2y','win_-3y','lose_-1y','lose_-2y','lose_-3y',\n",
    "                'save_-1y','save_-2y','save_-3y','hold_-1y','hold_-2y','hold_-3y','inning_-1y','inning_-2y','inning_-3y',\n",
    "                 'strikeout_-1y','strikeout_-2y','strikeout_-3y','R_-1y','R_-2y','R_-3y','ER_-1y','ER_-2y','ER_-3y',\n",
    "                 'WHIP_-1y', 'WHIP_-2y', 'WHIP_-3y', 'DIPS_-1y','DIPS_-2y', 'DIPS_-3y', 'japan', 'year']"
   ]
  },
  {
   "cell_type": "code",
   "execution_count": 55,
   "id": "43589f19-7806-413d-ae47-435113335879",
   "metadata": {},
   "outputs": [],
   "source": [
    "df.to_pickle('dfpit.pickle')"
   ]
  },
  {
   "cell_type": "code",
   "execution_count": null,
   "id": "77d7ac76-d4df-4363-bbb1-b5381c7fcb8a",
   "metadata": {},
   "outputs": [],
   "source": []
  }
 ],
 "metadata": {
  "kernelspec": {
   "display_name": "Python 3",
   "language": "python",
   "name": "python3"
  },
  "language_info": {
   "codemirror_mode": {
    "name": "ipython",
    "version": 3
   },
   "file_extension": ".py",
   "mimetype": "text/x-python",
   "name": "python",
   "nbconvert_exporter": "python",
   "pygments_lexer": "ipython3",
   "version": "3.8.8"
  }
 },
 "nbformat": 4,
 "nbformat_minor": 5
}
