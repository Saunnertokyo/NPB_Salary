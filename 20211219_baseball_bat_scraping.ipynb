{
 "cells": [
  {
   "cell_type": "code",
   "execution_count": 29,
   "id": "63e370d7-bc92-4809-8d63-60616a1fe84b",
   "metadata": {},
   "outputs": [],
   "source": [
    "#numpy,matplotlib,seabornのインポート\n",
    "import pandas as pd\n",
    "import numpy as np\n",
    "import seaborn as sns\n",
    "sns.set_style(style='darkgrid')\n",
    "from matplotlib import pyplot as plt\n",
    "# matplotlibに日本語を表示させる為に必要\n",
    "plt.rcParams['font.family'] = 'IPAexGothic'\n",
    "%matplotlib inline\n",
    "\n",
    "import re\n",
    "# 正規表現のためのライブラリもインポート"
   ]
  },
  {
   "cell_type": "code",
   "execution_count": 30,
   "id": "b9310179-9267-4320-9784-84793f76b00f",
   "metadata": {},
   "outputs": [],
   "source": [
    "pd.set_option('display.max_columns', 200)\n",
    "pd.set_option('display.max_rows', 100)"
   ]
  },
  {
   "cell_type": "markdown",
   "id": "63c07335-e48a-4ee5-ae7e-658fcafa2525",
   "metadata": {},
   "source": [
    "### 2021年"
   ]
  },
  {
   "cell_type": "markdown",
   "id": "ae9bf72f-6a3d-4b3a-8d99-c67070610d6c",
   "metadata": {},
   "source": [
    "#### 打撃データのスクレイピング"
   ]
  },
  {
   "cell_type": "code",
   "execution_count": 31,
   "id": "94aff5dc-8232-4c70-a50a-0dc43707ae44",
   "metadata": {
    "tags": []
   },
   "outputs": [],
   "source": [
    "urlbat21 = \"https://baseball-data.com/stats/hitter-all/avg-5.html\"\n",
    "bat21 = pd.read_html(urlbat21)[0]\n",
    "bat21[\"年\"] = 2021\n",
    "\n",
    "name = []\n",
    "for n in bat21.columns:\n",
    "    item = n[0]\n",
    "    name.append(item)\n",
    "\n",
    "bat21.columns = name\n",
    "bat21.columns = ['rank','選手名','team','AVG','game','PA','At_bat','hit','HR','RBI','steal',\n",
    "                 '4ball','dead_ball','strikeout','bunt','GDP','OBP','SLG','OPS',\"RC27\",'XR27','year']\n"
   ]
  },
  {
   "cell_type": "markdown",
   "id": "c3264188-5fcd-42a5-82c2-cc366a0c4c33",
   "metadata": {},
   "source": [
    "#### 年俸データのスクレイピング"
   ]
  },
  {
   "cell_type": "code",
   "execution_count": 32,
   "id": "0590fc10-3633-4c2f-89e3-2170e3cd88e5",
   "metadata": {
    "tags": []
   },
   "outputs": [],
   "source": [
    "urlsal21_g = 'https://baseball-data.com/ranking-salary/g/'\n",
    "sal21_g = pd.read_html(urlsal21_g)[0]\n",
    "\n",
    "urlsal21_t = 'https://baseball-data.com/ranking-salary/t/'\n",
    "sal21_t = pd.read_html(urlsal21_t)[0]\n",
    "\n",
    "urlsal21_d = 'https://baseball-data.com/ranking-salary/d/'\n",
    "sal21_d = pd.read_html(urlsal21_d)[0]\n",
    "\n",
    "urlsal21_yb = 'https://baseball-data.com/ranking-salary/yb/'\n",
    "sal21_yb = pd.read_html(urlsal21_yb)[0]\n",
    "\n",
    "urlsal21_c = 'https://baseball-data.com/ranking-salary/c/'\n",
    "sal21_c = pd.read_html(urlsal21_c)[0]\n",
    "\n",
    "urlsal21_s = 'https://baseball-data.com/ranking-salary/s/'\n",
    "sal21_s = pd.read_html(urlsal21_s)[0]\n",
    "\n",
    "urlsal21_h = 'https://baseball-data.com/ranking-salary/h/'\n",
    "sal21_h = pd.read_html(urlsal21_h)[0]\n",
    "\n",
    "urlsal21_m = 'https://baseball-data.com/ranking-salary/m/'\n",
    "sal21_m = pd.read_html(urlsal21_m)[0]\n",
    "\n",
    "urlsal21_l = 'https://baseball-data.com/ranking-salary/l/'\n",
    "sal21_l = pd.read_html(urlsal21_l)[0]\n",
    "\n",
    "urlsal21_e = 'https://baseball-data.com/ranking-salary/e/'\n",
    "sal21_e = pd.read_html(urlsal21_e)[0]\n",
    "\n",
    "urlsal21_f = 'https://baseball-data.com/ranking-salary/f/'\n",
    "sal21_f = pd.read_html(urlsal21_f)[0]\n",
    "\n",
    "urlsal21_bs = 'https://baseball-data.com/ranking-salary/bs/'\n",
    "sal21_bs = pd.read_html(urlsal21_bs)[0]\n"
   ]
  },
  {
   "cell_type": "code",
   "execution_count": 33,
   "id": "8a91784a-257e-4cb4-92c1-c95f9e307bdd",
   "metadata": {},
   "outputs": [],
   "source": [
    "sal21 = pd.concat([sal21_g, sal21_t,sal21_d,sal21_yb,sal21_c,sal21_s,sal21_h,sal21_m,sal21_l,sal21_e,sal21_f,sal21_bs]).reset_index()"
   ]
  },
  {
   "cell_type": "code",
   "execution_count": 34,
   "id": "9da9640f-8d6c-43a8-974c-0364e0e9c385",
   "metadata": {},
   "outputs": [],
   "source": [
    "name = []\n",
    "for n in sal21.columns:\n",
    "    item = n[0]\n",
    "    name.append(item)\n",
    "\n",
    "sal21.columns = name"
   ]
  },
  {
   "cell_type": "code",
   "execution_count": 35,
   "id": "143a18d4-16e4-475c-bbcf-412d87f7860f",
   "metadata": {},
   "outputs": [],
   "source": [
    "sal21 = sal21[sal21['年俸(推定)']!='-']\n",
    "sal21['年俸(推定)']= sal21['年俸(推定)'].str.split('万円', expand=True)[0]\n",
    "sal21['年俸(推定)'] = sal21['年俸(推定)'].str.replace(',','')\n",
    "sal21['年俸(推定)'] = sal21['年俸(推定)'].astype(int)\n",
    "\n",
    "sal21['年数']= sal21['年数'].str.split('年', expand=True)[0].astype(int)\n",
    "sal21['年齢']= sal21['年齢'].str.split('歳', expand=True)[0].astype(int)\n",
    "sal21['身長']= sal21['身長'].str.split('cm', expand=True)[0].astype(int)\n",
    "sal21['体重']= sal21['体重'].str.split('kg', expand=True)[0].astype(int)"
   ]
  },
  {
   "cell_type": "markdown",
   "id": "51499668-ee4d-43c7-b4c0-ab035882dfad",
   "metadata": {},
   "source": [
    "#### データの結合"
   ]
  },
  {
   "cell_type": "code",
   "execution_count": 36,
   "id": "1ecf0c1c-c8dd-4dbe-b607-3f8e4b8d2e9f",
   "metadata": {},
   "outputs": [],
   "source": [
    "dfbat21 = pd.merge(bat21,sal21,on ='選手名', how = 'left')"
   ]
  },
  {
   "cell_type": "code",
   "execution_count": 37,
   "id": "96ce3f51-8a22-4ef5-b4a9-1c0825ee762c",
   "metadata": {},
   "outputs": [],
   "source": [
    "dfbat21.rename(columns=lambda s:s+'_21',inplace = True)\n",
    "dfbat21.rename(columns = {'選手名_21':'選手名'},inplace = True)"
   ]
  },
  {
   "cell_type": "markdown",
   "id": "421bef5f-7ffd-4a3d-be07-1e18f335e8ff",
   "metadata": {},
   "source": [
    "### 2020年"
   ]
  },
  {
   "cell_type": "markdown",
   "id": "6a016333-5be2-496d-b65e-e6be5853e052",
   "metadata": {},
   "source": [
    "#### 打撃データのスクレイピング"
   ]
  },
  {
   "cell_type": "code",
   "execution_count": 38,
   "id": "fc91a2fe-0895-4af7-b34a-e4ce11b11614",
   "metadata": {
    "tags": []
   },
   "outputs": [],
   "source": [
    "urlbat20 = \"https://baseball-data.com/20/stats/hitter-all/avg-5.html\"\n",
    "bat20 = pd.read_html(urlbat20)[0]\n",
    "bat20[\"年\"] = 2020\n",
    "\n",
    "name = []\n",
    "for n in bat20.columns:\n",
    "    item = n[0]\n",
    "    name.append(item)\n",
    "\n",
    "bat20.columns = name\n",
    "bat20.columns = ['rank','選手名','team','AVG','game','PA','At_bat','hit','HR','RBI','steal',\n",
    "                 '4ball','dead_ball','strikeout','bunt','GDP','OBP','SLG','OPS',\"RC27\",'XR27','year']\n"
   ]
  },
  {
   "cell_type": "markdown",
   "id": "15992afd-9198-4345-bc75-020f57c5a60d",
   "metadata": {},
   "source": [
    "#### 年俸データのスクレイピング"
   ]
  },
  {
   "cell_type": "code",
   "execution_count": 39,
   "id": "35ba6ef0-92e0-40e7-90b3-f0318a373e73",
   "metadata": {
    "tags": []
   },
   "outputs": [],
   "source": [
    "urlsal20_g = 'https://baseball-data.com/ranking-salary/g/'\n",
    "sal20_g = pd.read_html(urlsal20_g)[0]\n",
    "\n",
    "urlsal20_t = 'https://baseball-data.com/ranking-salary/t/'\n",
    "sal20_t = pd.read_html(urlsal20_t)[0]\n",
    "\n",
    "urlsal20_d = 'https://baseball-data.com/ranking-salary/d/'\n",
    "sal20_d = pd.read_html(urlsal20_d)[0]\n",
    "\n",
    "urlsal20_yb = 'https://baseball-data.com/ranking-salary/yb/'\n",
    "sal20_yb = pd.read_html(urlsal20_yb)[0]\n",
    "\n",
    "urlsal20_c = 'https://baseball-data.com/ranking-salary/c/'\n",
    "sal20_c = pd.read_html(urlsal20_c)[0]\n",
    "\n",
    "urlsal20_s = 'https://baseball-data.com/ranking-salary/s/'\n",
    "sal20_s = pd.read_html(urlsal20_s)[0]\n",
    "\n",
    "urlsal20_h = 'https://baseball-data.com/ranking-salary/h/'\n",
    "sal20_h = pd.read_html(urlsal20_h)[0]\n",
    "\n",
    "urlsal20_m = 'https://baseball-data.com/ranking-salary/m/'\n",
    "sal20_m = pd.read_html(urlsal20_m)[0]\n",
    "\n",
    "urlsal20_l = 'https://baseball-data.com/ranking-salary/l/'\n",
    "sal20_l = pd.read_html(urlsal20_l)[0]\n",
    "\n",
    "urlsal20_e = 'https://baseball-data.com/ranking-salary/e/'\n",
    "sal20_e = pd.read_html(urlsal20_e)[0]\n",
    "\n",
    "urlsal20_f = 'https://baseball-data.com/ranking-salary/f/'\n",
    "sal20_f = pd.read_html(urlsal20_f)[0]\n",
    "\n",
    "urlsal20_bs = 'https://baseball-data.com/ranking-salary/bs/'\n",
    "sal20_bs = pd.read_html(urlsal20_bs)[0]\n"
   ]
  },
  {
   "cell_type": "code",
   "execution_count": 40,
   "id": "55cef084-b149-492e-b1a7-4e7d73955e4e",
   "metadata": {},
   "outputs": [],
   "source": [
    "sal20 = pd.concat([sal20_g, sal20_t,sal20_d,sal20_yb,sal20_c,sal20_s,sal20_h,sal20_m,sal20_l,sal20_e,sal20_f,sal20_bs]).reset_index()"
   ]
  },
  {
   "cell_type": "code",
   "execution_count": 41,
   "id": "d3438bd0-1809-4ade-9a48-75b6a7f6de04",
   "metadata": {},
   "outputs": [],
   "source": [
    "name = []\n",
    "for n in sal20.columns:\n",
    "    item = n[0]\n",
    "    name.append(item)\n",
    "\n",
    "sal20.columns = name"
   ]
  },
  {
   "cell_type": "code",
   "execution_count": 42,
   "id": "3b2e9c31-636b-4b23-9a42-e2895f2aabb2",
   "metadata": {},
   "outputs": [],
   "source": [
    "sal20 = sal20[sal20['年俸(推定)']!='-']\n",
    "sal20['年俸(推定)']= sal20['年俸(推定)'].str.split('万円', expand=True)[0]\n",
    "sal20['年俸(推定)'] = sal20['年俸(推定)'].str.replace(',','')\n",
    "sal20['年俸(推定)'] = sal20['年俸(推定)'].astype(int)\n",
    "\n",
    "sal20['年数']= sal20['年数'].str.split('年', expand=True)[0].astype(int)\n",
    "sal20['年齢']= sal20['年齢'].str.split('歳', expand=True)[0].astype(int)\n",
    "sal20['身長']= sal20['身長'].str.split('cm', expand=True)[0].astype(int)\n",
    "sal20['体重']= sal20['体重'].str.split('kg', expand=True)[0].astype(int)"
   ]
  },
  {
   "cell_type": "markdown",
   "id": "68097c95-a15b-4961-ab8b-c65693d533eb",
   "metadata": {},
   "source": [
    "#### データの結合"
   ]
  },
  {
   "cell_type": "code",
   "execution_count": 43,
   "id": "78f40f6c-63d4-46f2-834b-c1537754f32f",
   "metadata": {},
   "outputs": [],
   "source": [
    "dfbat20 = pd.merge(bat20,sal20,on ='選手名', how = 'left')"
   ]
  },
  {
   "cell_type": "code",
   "execution_count": 44,
   "id": "6d940247-33ae-4310-a3c5-159ec9f163f9",
   "metadata": {},
   "outputs": [],
   "source": [
    "dfbat20.rename(columns=lambda s:s+'_20',inplace = True)\n",
    "dfbat20.rename(columns = {'選手名_20':'選手名'},inplace = True)"
   ]
  },
  {
   "cell_type": "markdown",
   "id": "0b774332-444f-4be2-bf7b-fe6584ac1954",
   "metadata": {},
   "source": [
    "### 2019年"
   ]
  },
  {
   "cell_type": "markdown",
   "id": "4e224078-1c24-4ebf-842f-c717e81d00e8",
   "metadata": {},
   "source": [
    "#### 打撃データのスクレイピング"
   ]
  },
  {
   "cell_type": "code",
   "execution_count": 45,
   "id": "9cb8ca4a-77a0-4bc2-8024-f67a8b236cf9",
   "metadata": {
    "tags": []
   },
   "outputs": [],
   "source": [
    "urlbat19 = \"https://baseball-data.com/19/stats/hitter-all/avg-5.html\"\n",
    "bat19 = pd.read_html(urlbat19)[0]\n",
    "bat19[\"年\"] = 1919\n",
    "\n",
    "name = []\n",
    "for n in bat19.columns:\n",
    "    item = n[0]\n",
    "    name.append(item)\n",
    "\n",
    "bat19.columns = name\n",
    "bat19.columns = ['rank','選手名','team','AVG','game','PA','At_bat','hit','HR','RBI','steal',\n",
    "                 '4ball','dead_ball','strikeout','bunt','GDP','OBP','SLG','OPS',\"RC27\",'XR27','year']\n"
   ]
  },
  {
   "cell_type": "markdown",
   "id": "6f050cef-d9c3-4438-915d-dc5000b11872",
   "metadata": {},
   "source": [
    "#### 年俸データのスクレイピング"
   ]
  },
  {
   "cell_type": "code",
   "execution_count": 46,
   "id": "93d52408-c5a0-49db-9a09-3f1b2f34cda0",
   "metadata": {
    "tags": []
   },
   "outputs": [],
   "source": [
    "urlsal19_g = 'https://baseball-data.com/ranking-salary/g/'\n",
    "sal19_g = pd.read_html(urlsal19_g)[0]\n",
    "\n",
    "urlsal19_t = 'https://baseball-data.com/ranking-salary/t/'\n",
    "sal19_t = pd.read_html(urlsal19_t)[0]\n",
    "\n",
    "urlsal19_d = 'https://baseball-data.com/ranking-salary/d/'\n",
    "sal19_d = pd.read_html(urlsal19_d)[0]\n",
    "\n",
    "urlsal19_yb = 'https://baseball-data.com/ranking-salary/yb/'\n",
    "sal19_yb = pd.read_html(urlsal19_yb)[0]\n",
    "\n",
    "urlsal19_c = 'https://baseball-data.com/ranking-salary/c/'\n",
    "sal19_c = pd.read_html(urlsal19_c)[0]\n",
    "\n",
    "urlsal19_s = 'https://baseball-data.com/ranking-salary/s/'\n",
    "sal19_s = pd.read_html(urlsal19_s)[0]\n",
    "\n",
    "urlsal19_h = 'https://baseball-data.com/ranking-salary/h/'\n",
    "sal19_h = pd.read_html(urlsal19_h)[0]\n",
    "\n",
    "urlsal19_m = 'https://baseball-data.com/ranking-salary/m/'\n",
    "sal19_m = pd.read_html(urlsal19_m)[0]\n",
    "\n",
    "urlsal19_l = 'https://baseball-data.com/ranking-salary/l/'\n",
    "sal19_l = pd.read_html(urlsal19_l)[0]\n",
    "\n",
    "urlsal19_e = 'https://baseball-data.com/ranking-salary/e/'\n",
    "sal19_e = pd.read_html(urlsal19_e)[0]\n",
    "\n",
    "urlsal19_f = 'https://baseball-data.com/ranking-salary/f/'\n",
    "sal19_f = pd.read_html(urlsal19_f)[0]\n",
    "\n",
    "urlsal19_bs = 'https://baseball-data.com/ranking-salary/bs/'\n",
    "sal19_bs = pd.read_html(urlsal19_bs)[0]\n"
   ]
  },
  {
   "cell_type": "code",
   "execution_count": 47,
   "id": "3c217066-7293-4b5b-9afc-7066cc81f5f1",
   "metadata": {},
   "outputs": [],
   "source": [
    "sal19 = pd.concat([sal19_g, sal19_t,sal19_d,sal19_yb,sal19_c,sal19_s,sal19_h,sal19_m,sal19_l,sal19_e,sal19_f,sal19_bs]).reset_index()"
   ]
  },
  {
   "cell_type": "code",
   "execution_count": 48,
   "id": "34a1944f-7156-410b-80bd-05efbf8c9299",
   "metadata": {},
   "outputs": [],
   "source": [
    "name = []\n",
    "for n in sal19.columns:\n",
    "    item = n[0]\n",
    "    name.append(item)\n",
    "\n",
    "sal19.columns = name"
   ]
  },
  {
   "cell_type": "code",
   "execution_count": 49,
   "id": "b0f824ba-c87c-4e91-ac98-fced75b0061d",
   "metadata": {},
   "outputs": [],
   "source": [
    "sal19 = sal19[sal19['年俸(推定)']!='-']\n",
    "sal19['年俸(推定)']= sal19['年俸(推定)'].str.split('万円', expand=True)[0]\n",
    "sal19['年俸(推定)'] = sal19['年俸(推定)'].str.replace(',','')\n",
    "sal19['年俸(推定)'] = sal19['年俸(推定)'].astype(int)\n",
    "\n",
    "sal19['年数']= sal19['年数'].str.split('年', expand=True)[0].astype(int)\n",
    "sal19['年齢']= sal19['年齢'].str.split('歳', expand=True)[0].astype(int)\n",
    "sal19['身長']= sal19['身長'].str.split('cm', expand=True)[0].astype(int)\n",
    "sal19['体重']= sal19['体重'].str.split('kg', expand=True)[0].astype(int)"
   ]
  },
  {
   "cell_type": "markdown",
   "id": "e0a00978-4193-441a-b272-8cbbfc9c3b19",
   "metadata": {},
   "source": [
    "#### データの結合"
   ]
  },
  {
   "cell_type": "code",
   "execution_count": 50,
   "id": "1bfd4fa3-23d6-4293-bf36-3c3e93abce99",
   "metadata": {},
   "outputs": [],
   "source": [
    "dfbat19 = pd.merge(bat19,sal19,on ='選手名', how = 'left')"
   ]
  },
  {
   "cell_type": "code",
   "execution_count": 51,
   "id": "fea03524-9173-4ef0-9b0e-3ec2edf31c1c",
   "metadata": {},
   "outputs": [],
   "source": [
    "dfbat19.rename(columns=lambda s:s+'_19',inplace = True)\n",
    "dfbat19.rename(columns = {'選手名_19':'選手名'},inplace = True)"
   ]
  },
  {
   "cell_type": "markdown",
   "id": "8a1604b8-d992-45e6-845d-5c8e71a6f791",
   "metadata": {},
   "source": [
    "### 2018年"
   ]
  },
  {
   "cell_type": "markdown",
   "id": "f3e48fe9-6ed4-445c-b9e0-8dbfebf60cb9",
   "metadata": {},
   "source": [
    "#### 打撃データのスクレイピング"
   ]
  },
  {
   "cell_type": "code",
   "execution_count": 52,
   "id": "9bc62ff4-140d-4271-bacd-150fc467e01b",
   "metadata": {
    "tags": []
   },
   "outputs": [],
   "source": [
    "urlbat18 = \"https://baseball-data.com/18/stats/hitter-all/avg-5.html\"\n",
    "bat18 = pd.read_html(urlbat18)[0]\n",
    "bat18[\"年\"] = 1818\n",
    "\n",
    "name = []\n",
    "for n in bat18.columns:\n",
    "    item = n[0]\n",
    "    name.append(item)\n",
    "\n",
    "bat18.columns = name\n",
    "bat18.columns = ['rank','選手名','team','AVG','game','PA','At_bat','hit','HR','RBI','steal',\n",
    "                 '4ball','dead_ball','strikeout','bunt','GDP','OBP','SLG','OPS',\"RC27\",'XR27','year']\n"
   ]
  },
  {
   "cell_type": "markdown",
   "id": "1b7d102d-6364-4f06-b3dd-f1f236435b0a",
   "metadata": {},
   "source": [
    "#### 年俸データのスクレイピング"
   ]
  },
  {
   "cell_type": "code",
   "execution_count": 53,
   "id": "61ad7139-9378-4a02-a2dc-5f89b9997557",
   "metadata": {
    "tags": []
   },
   "outputs": [],
   "source": [
    "urlsal18_g = 'https://baseball-data.com/ranking-salary/g/'\n",
    "sal18_g = pd.read_html(urlsal18_g)[0]\n",
    "\n",
    "urlsal18_t = 'https://baseball-data.com/ranking-salary/t/'\n",
    "sal18_t = pd.read_html(urlsal18_t)[0]\n",
    "\n",
    "urlsal18_d = 'https://baseball-data.com/ranking-salary/d/'\n",
    "sal18_d = pd.read_html(urlsal18_d)[0]\n",
    "\n",
    "urlsal18_yb = 'https://baseball-data.com/ranking-salary/yb/'\n",
    "sal18_yb = pd.read_html(urlsal18_yb)[0]\n",
    "\n",
    "urlsal18_c = 'https://baseball-data.com/ranking-salary/c/'\n",
    "sal18_c = pd.read_html(urlsal18_c)[0]\n",
    "\n",
    "urlsal18_s = 'https://baseball-data.com/ranking-salary/s/'\n",
    "sal18_s = pd.read_html(urlsal18_s)[0]\n",
    "\n",
    "urlsal18_h = 'https://baseball-data.com/ranking-salary/h/'\n",
    "sal18_h = pd.read_html(urlsal18_h)[0]\n",
    "\n",
    "urlsal18_m = 'https://baseball-data.com/ranking-salary/m/'\n",
    "sal18_m = pd.read_html(urlsal18_m)[0]\n",
    "\n",
    "urlsal18_l = 'https://baseball-data.com/ranking-salary/l/'\n",
    "sal18_l = pd.read_html(urlsal18_l)[0]\n",
    "\n",
    "urlsal18_e = 'https://baseball-data.com/ranking-salary/e/'\n",
    "sal18_e = pd.read_html(urlsal18_e)[0]\n",
    "\n",
    "urlsal18_f = 'https://baseball-data.com/ranking-salary/f/'\n",
    "sal18_f = pd.read_html(urlsal18_f)[0]\n",
    "\n",
    "urlsal18_bs = 'https://baseball-data.com/ranking-salary/bs/'\n",
    "sal18_bs = pd.read_html(urlsal18_bs)[0]\n"
   ]
  },
  {
   "cell_type": "code",
   "execution_count": 54,
   "id": "679fecf2-d79d-4ddf-a2f4-624725e56a06",
   "metadata": {},
   "outputs": [],
   "source": [
    "sal18 = pd.concat([sal18_g, sal18_t,sal18_d,sal18_yb,sal18_c,sal18_s,sal18_h,sal18_m,sal18_l,sal18_e,sal18_f,sal18_bs]).reset_index()"
   ]
  },
  {
   "cell_type": "code",
   "execution_count": 55,
   "id": "24e29b5f-e8f5-4377-b61d-720e4234493a",
   "metadata": {},
   "outputs": [],
   "source": [
    "name = []\n",
    "for n in sal18.columns:\n",
    "    item = n[0]\n",
    "    name.append(item)\n",
    "\n",
    "sal18.columns = name"
   ]
  },
  {
   "cell_type": "code",
   "execution_count": 56,
   "id": "8c98f84c-cb4c-4b4c-862b-a6f242939eba",
   "metadata": {},
   "outputs": [],
   "source": [
    "sal18 = sal18[sal18['年俸(推定)']!='-']\n",
    "sal18['年俸(推定)']= sal18['年俸(推定)'].str.split('万円', expand=True)[0]\n",
    "sal18['年俸(推定)'] = sal18['年俸(推定)'].str.replace(',','')\n",
    "sal18['年俸(推定)'] = sal18['年俸(推定)'].astype(int)\n",
    "\n",
    "sal18['年数']= sal18['年数'].str.split('年', expand=True)[0].astype(int)\n",
    "sal18['年齢']= sal18['年齢'].str.split('歳', expand=True)[0].astype(int)\n",
    "sal18['身長']= sal18['身長'].str.split('cm', expand=True)[0].astype(int)\n",
    "sal18['体重']= sal18['体重'].str.split('kg', expand=True)[0].astype(int)"
   ]
  },
  {
   "cell_type": "markdown",
   "id": "d9bb685b-0389-4d80-8f90-3b40f547385b",
   "metadata": {},
   "source": [
    "#### データの結合"
   ]
  },
  {
   "cell_type": "code",
   "execution_count": 57,
   "id": "67087844-ffd8-42d4-86a3-3bcc95fe052e",
   "metadata": {},
   "outputs": [],
   "source": [
    "dfbat18 = pd.merge(bat18,sal18,on ='選手名', how = 'left')"
   ]
  },
  {
   "cell_type": "code",
   "execution_count": 58,
   "id": "8f4afe79-e52b-4e6f-9de6-a2f6d90db5fc",
   "metadata": {},
   "outputs": [],
   "source": [
    "dfbat18.rename(columns=lambda s:s+'_18',inplace = True)\n",
    "dfbat18.rename(columns = {'選手名_18':'選手名'},inplace = True)"
   ]
  },
  {
   "cell_type": "markdown",
   "id": "5807df67-f0b1-494b-9b17-9abe879d4fcb",
   "metadata": {},
   "source": [
    "### 2017年"
   ]
  },
  {
   "cell_type": "markdown",
   "id": "31452aaa-7e77-4908-b0f2-661b64167f5e",
   "metadata": {},
   "source": [
    "#### 打撃データのスクレイピング"
   ]
  },
  {
   "cell_type": "code",
   "execution_count": 59,
   "id": "76dcb9b4-7412-4415-b867-4adfbc7a7d97",
   "metadata": {
    "tags": []
   },
   "outputs": [],
   "source": [
    "urlbat17 = \"https://baseball-data.com/17/stats/hitter-all/avg-5.html\"\n",
    "bat17 = pd.read_html(urlbat17)[0]\n",
    "bat17[\"年\"] = 1717\n",
    "\n",
    "name = []\n",
    "for n in bat17.columns:\n",
    "    item = n[0]\n",
    "    name.append(item)\n",
    "\n",
    "bat17.columns = name\n",
    "bat17.columns = ['rank','選手名','team','AVG','game','PA','At_bat','hit','HR','RBI','steal',\n",
    "                 '4ball','dead_ball','strikeout','bunt','GDP','OBP','SLG','OPS',\"RC27\",'XR27','year']\n"
   ]
  },
  {
   "cell_type": "markdown",
   "id": "cfa407d0-34ed-44af-9842-b29dce996418",
   "metadata": {},
   "source": [
    "#### 年俸データのスクレイピング"
   ]
  },
  {
   "cell_type": "code",
   "execution_count": 60,
   "id": "f0bbed22-7b26-48fd-abce-0f606964cc7b",
   "metadata": {
    "tags": []
   },
   "outputs": [],
   "source": [
    "urlsal17_g = 'https://baseball-data.com/ranking-salary/g/'\n",
    "sal17_g = pd.read_html(urlsal17_g)[0]\n",
    "\n",
    "urlsal17_t = 'https://baseball-data.com/ranking-salary/t/'\n",
    "sal17_t = pd.read_html(urlsal17_t)[0]\n",
    "\n",
    "urlsal17_d = 'https://baseball-data.com/ranking-salary/d/'\n",
    "sal17_d = pd.read_html(urlsal17_d)[0]\n",
    "\n",
    "urlsal17_yb = 'https://baseball-data.com/ranking-salary/yb/'\n",
    "sal17_yb = pd.read_html(urlsal17_yb)[0]\n",
    "\n",
    "urlsal17_c = 'https://baseball-data.com/ranking-salary/c/'\n",
    "sal17_c = pd.read_html(urlsal17_c)[0]\n",
    "\n",
    "urlsal17_s = 'https://baseball-data.com/ranking-salary/s/'\n",
    "sal17_s = pd.read_html(urlsal17_s)[0]\n",
    "\n",
    "urlsal17_h = 'https://baseball-data.com/ranking-salary/h/'\n",
    "sal17_h = pd.read_html(urlsal17_h)[0]\n",
    "\n",
    "urlsal17_m = 'https://baseball-data.com/ranking-salary/m/'\n",
    "sal17_m = pd.read_html(urlsal17_m)[0]\n",
    "\n",
    "urlsal17_l = 'https://baseball-data.com/ranking-salary/l/'\n",
    "sal17_l = pd.read_html(urlsal17_l)[0]\n",
    "\n",
    "urlsal17_e = 'https://baseball-data.com/ranking-salary/e/'\n",
    "sal17_e = pd.read_html(urlsal17_e)[0]\n",
    "\n",
    "urlsal17_f = 'https://baseball-data.com/ranking-salary/f/'\n",
    "sal17_f = pd.read_html(urlsal17_f)[0]\n",
    "\n",
    "urlsal17_bs = 'https://baseball-data.com/ranking-salary/bs/'\n",
    "sal17_bs = pd.read_html(urlsal17_bs)[0]\n"
   ]
  },
  {
   "cell_type": "code",
   "execution_count": 61,
   "id": "a947dbcc-d83e-4cd3-9f0c-91ff2783f953",
   "metadata": {},
   "outputs": [],
   "source": [
    "sal17 = pd.concat([sal17_g, sal17_t,sal17_d,sal17_yb,sal17_c,sal17_s,sal17_h,sal17_m,sal17_l,sal17_e,sal17_f,sal17_bs]).reset_index()"
   ]
  },
  {
   "cell_type": "code",
   "execution_count": 62,
   "id": "e9ed775c-d731-433e-b094-a8374fd9aba2",
   "metadata": {},
   "outputs": [],
   "source": [
    "name = []\n",
    "for n in sal17.columns:\n",
    "    item = n[0]\n",
    "    name.append(item)\n",
    "\n",
    "sal17.columns = name"
   ]
  },
  {
   "cell_type": "code",
   "execution_count": 63,
   "id": "dc185008-19bb-4f49-b45f-3a1e16a19870",
   "metadata": {},
   "outputs": [],
   "source": [
    "sal17 = sal17[sal17['年俸(推定)']!='-']\n",
    "sal17['年俸(推定)']= sal17['年俸(推定)'].str.split('万円', expand=True)[0]\n",
    "sal17['年俸(推定)'] = sal17['年俸(推定)'].str.replace(',','')\n",
    "sal17['年俸(推定)'] = sal17['年俸(推定)'].astype(int)\n",
    "\n",
    "sal17['年数']= sal17['年数'].str.split('年', expand=True)[0].astype(int)\n",
    "sal17['年齢']= sal17['年齢'].str.split('歳', expand=True)[0].astype(int)\n",
    "sal17['身長']= sal17['身長'].str.split('cm', expand=True)[0].astype(int)\n",
    "sal17['体重']= sal17['体重'].str.split('kg', expand=True)[0].astype(int)"
   ]
  },
  {
   "cell_type": "markdown",
   "id": "a0a2ce39-797d-4f43-84db-60ef131382dc",
   "metadata": {},
   "source": [
    "#### データの結合"
   ]
  },
  {
   "cell_type": "code",
   "execution_count": 64,
   "id": "4dad01fe-54de-416c-b095-375051129ecc",
   "metadata": {},
   "outputs": [],
   "source": [
    "dfbat17 = pd.merge(bat17,sal17,on ='選手名', how = 'left')"
   ]
  },
  {
   "cell_type": "code",
   "execution_count": 65,
   "id": "209de6af-3a09-4d0d-9107-3cd0153e8d99",
   "metadata": {},
   "outputs": [],
   "source": [
    "dfbat17.rename(columns=lambda s:s+'_17',inplace = True)\n",
    "dfbat17.rename(columns = {'選手名_17':'選手名'},inplace = True)"
   ]
  },
  {
   "cell_type": "markdown",
   "id": "8a22facd-3245-4199-a31b-94368aee67b6",
   "metadata": {},
   "source": [
    "### 2016年"
   ]
  },
  {
   "cell_type": "markdown",
   "id": "694a4fe1-70e2-4393-a878-3bf5087448a2",
   "metadata": {},
   "source": [
    "#### 打撃データのスクレイピング"
   ]
  },
  {
   "cell_type": "code",
   "execution_count": 66,
   "id": "5611d23a-e800-4661-a6bf-ef4372496e93",
   "metadata": {
    "tags": []
   },
   "outputs": [],
   "source": [
    "urlbat16 = \"https://baseball-data.com/16/stats/hitter-all/avg-5.html\"\n",
    "bat16 = pd.read_html(urlbat16)[0]\n",
    "bat16[\"年\"] = 1616\n",
    "\n",
    "name = []\n",
    "for n in bat16.columns:\n",
    "    item = n[0]\n",
    "    name.append(item)\n",
    "\n",
    "bat16.columns = name\n",
    "bat16.columns = ['rank','選手名','team','AVG','game','PA','At_bat','hit','HR','RBI','steal',\n",
    "                 '4ball','dead_ball','strikeout','bunt','GDP','OBP','SLG','OPS',\"RC27\",'XR27','year']\n"
   ]
  },
  {
   "cell_type": "markdown",
   "id": "760723be-8838-40ce-b72f-115c4ac15ea5",
   "metadata": {},
   "source": [
    "#### 年俸データのスクレイピング"
   ]
  },
  {
   "cell_type": "code",
   "execution_count": 67,
   "id": "4b833d8c-99d8-4fa4-b6e1-a0b6c498586d",
   "metadata": {
    "tags": []
   },
   "outputs": [],
   "source": [
    "urlsal16_g = 'https://baseball-data.com/ranking-salary/g/'\n",
    "sal16_g = pd.read_html(urlsal16_g)[0]\n",
    "\n",
    "urlsal16_t = 'https://baseball-data.com/ranking-salary/t/'\n",
    "sal16_t = pd.read_html(urlsal16_t)[0]\n",
    "\n",
    "urlsal16_d = 'https://baseball-data.com/ranking-salary/d/'\n",
    "sal16_d = pd.read_html(urlsal16_d)[0]\n",
    "\n",
    "urlsal16_yb = 'https://baseball-data.com/ranking-salary/yb/'\n",
    "sal16_yb = pd.read_html(urlsal16_yb)[0]\n",
    "\n",
    "urlsal16_c = 'https://baseball-data.com/ranking-salary/c/'\n",
    "sal16_c = pd.read_html(urlsal16_c)[0]\n",
    "\n",
    "urlsal16_s = 'https://baseball-data.com/ranking-salary/s/'\n",
    "sal16_s = pd.read_html(urlsal16_s)[0]\n",
    "\n",
    "urlsal16_h = 'https://baseball-data.com/ranking-salary/h/'\n",
    "sal16_h = pd.read_html(urlsal16_h)[0]\n",
    "\n",
    "urlsal16_m = 'https://baseball-data.com/ranking-salary/m/'\n",
    "sal16_m = pd.read_html(urlsal16_m)[0]\n",
    "\n",
    "urlsal16_l = 'https://baseball-data.com/ranking-salary/l/'\n",
    "sal16_l = pd.read_html(urlsal16_l)[0]\n",
    "\n",
    "urlsal16_e = 'https://baseball-data.com/ranking-salary/e/'\n",
    "sal16_e = pd.read_html(urlsal16_e)[0]\n",
    "\n",
    "urlsal16_f = 'https://baseball-data.com/ranking-salary/f/'\n",
    "sal16_f = pd.read_html(urlsal16_f)[0]\n",
    "\n",
    "urlsal16_bs = 'https://baseball-data.com/ranking-salary/bs/'\n",
    "sal16_bs = pd.read_html(urlsal16_bs)[0]\n"
   ]
  },
  {
   "cell_type": "code",
   "execution_count": 68,
   "id": "d19f3bae-bd95-4692-9a3c-41984d1b79d8",
   "metadata": {},
   "outputs": [],
   "source": [
    "sal16 = pd.concat([sal16_g, sal16_t,sal16_d,sal16_yb,sal16_c,sal16_s,sal16_h,sal16_m,sal16_l,sal16_e,sal16_f,sal16_bs]).reset_index()"
   ]
  },
  {
   "cell_type": "code",
   "execution_count": 69,
   "id": "4742575b-f665-4474-b85c-ad62377f747d",
   "metadata": {},
   "outputs": [],
   "source": [
    "name = []\n",
    "for n in sal16.columns:\n",
    "    item = n[0]\n",
    "    name.append(item)\n",
    "\n",
    "sal16.columns = name"
   ]
  },
  {
   "cell_type": "code",
   "execution_count": 70,
   "id": "c888a13c-0885-4234-a86d-cc87c9685f01",
   "metadata": {},
   "outputs": [],
   "source": [
    "sal16 = sal16[sal16['年俸(推定)']!='-']\n",
    "sal16['年俸(推定)']= sal16['年俸(推定)'].str.split('万円', expand=True)[0]\n",
    "sal16['年俸(推定)'] = sal16['年俸(推定)'].str.replace(',','')\n",
    "sal16['年俸(推定)'] = sal16['年俸(推定)'].astype(int)\n",
    "\n",
    "sal16['年数']= sal16['年数'].str.split('年', expand=True)[0].astype(int)\n",
    "sal16['年齢']= sal16['年齢'].str.split('歳', expand=True)[0].astype(int)\n",
    "sal16['身長']= sal16['身長'].str.split('cm', expand=True)[0].astype(int)\n",
    "sal16['体重']= sal16['体重'].str.split('kg', expand=True)[0].astype(int)"
   ]
  },
  {
   "cell_type": "markdown",
   "id": "30a1d82b-4253-4d40-8e40-dc993f445a9b",
   "metadata": {},
   "source": [
    "#### データの結合"
   ]
  },
  {
   "cell_type": "code",
   "execution_count": 71,
   "id": "c125bacf-e42e-4006-a750-de6460b53464",
   "metadata": {},
   "outputs": [],
   "source": [
    "dfbat16 = pd.merge(bat16,sal16,on ='選手名', how = 'left')"
   ]
  },
  {
   "cell_type": "code",
   "execution_count": 72,
   "id": "eb17e3eb-9e5d-4df0-96fb-197f85a4ce13",
   "metadata": {},
   "outputs": [],
   "source": [
    "dfbat16.rename(columns=lambda s:s+'_16',inplace = True)\n",
    "dfbat16.rename(columns = {'選手名_16':'選手名'},inplace = True)"
   ]
  },
  {
   "cell_type": "markdown",
   "id": "58162971-37b8-4a22-8b96-8580524e687f",
   "metadata": {},
   "source": [
    "### 2015年"
   ]
  },
  {
   "cell_type": "markdown",
   "id": "304ab696-2c62-4df8-b030-b384095987d1",
   "metadata": {},
   "source": [
    "#### 打撃データのスクレイピング"
   ]
  },
  {
   "cell_type": "code",
   "execution_count": 73,
   "id": "dc11cbd4-95a7-4e6c-a21c-9fe3a8bf1645",
   "metadata": {
    "tags": []
   },
   "outputs": [],
   "source": [
    "urlbat15 = \"https://baseball-data.com/15/stats/hitter-all/avg-5.html\"\n",
    "bat15 = pd.read_html(urlbat15)[0]\n",
    "bat15[\"年\"] = 1515\n",
    "\n",
    "name = []\n",
    "for n in bat15.columns:\n",
    "    item = n[0]\n",
    "    name.append(item)\n",
    "\n",
    "bat15.columns = name\n",
    "bat15.columns = ['rank','選手名','team','AVG','game','PA','At_bat','hit','HR','RBI','steal',\n",
    "                 '4ball','dead_ball','strikeout','bunt','GDP','OBP','SLG','OPS',\"RC27\",'XR27','year']\n"
   ]
  },
  {
   "cell_type": "markdown",
   "id": "d3b423c2-aebe-43e8-90cc-4d575a93eaa2",
   "metadata": {},
   "source": [
    "#### 年俸データのスクレイピング"
   ]
  },
  {
   "cell_type": "code",
   "execution_count": 74,
   "id": "b250426a-ad21-48e0-a02f-b27febc201d0",
   "metadata": {
    "tags": []
   },
   "outputs": [],
   "source": [
    "urlsal15_g = 'https://baseball-data.com/ranking-salary/g/'\n",
    "sal15_g = pd.read_html(urlsal15_g)[0]\n",
    "\n",
    "urlsal15_t = 'https://baseball-data.com/ranking-salary/t/'\n",
    "sal15_t = pd.read_html(urlsal15_t)[0]\n",
    "\n",
    "urlsal15_d = 'https://baseball-data.com/ranking-salary/d/'\n",
    "sal15_d = pd.read_html(urlsal15_d)[0]\n",
    "\n",
    "urlsal15_yb = 'https://baseball-data.com/ranking-salary/yb/'\n",
    "sal15_yb = pd.read_html(urlsal15_yb)[0]\n",
    "\n",
    "urlsal15_c = 'https://baseball-data.com/ranking-salary/c/'\n",
    "sal15_c = pd.read_html(urlsal15_c)[0]\n",
    "\n",
    "urlsal15_s = 'https://baseball-data.com/ranking-salary/s/'\n",
    "sal15_s = pd.read_html(urlsal15_s)[0]\n",
    "\n",
    "urlsal15_h = 'https://baseball-data.com/ranking-salary/h/'\n",
    "sal15_h = pd.read_html(urlsal15_h)[0]\n",
    "\n",
    "urlsal15_m = 'https://baseball-data.com/ranking-salary/m/'\n",
    "sal15_m = pd.read_html(urlsal15_m)[0]\n",
    "\n",
    "urlsal15_l = 'https://baseball-data.com/ranking-salary/l/'\n",
    "sal15_l = pd.read_html(urlsal15_l)[0]\n",
    "\n",
    "urlsal15_e = 'https://baseball-data.com/ranking-salary/e/'\n",
    "sal15_e = pd.read_html(urlsal15_e)[0]\n",
    "\n",
    "urlsal15_f = 'https://baseball-data.com/ranking-salary/f/'\n",
    "sal15_f = pd.read_html(urlsal15_f)[0]\n",
    "\n",
    "urlsal15_bs = 'https://baseball-data.com/ranking-salary/bs/'\n",
    "sal15_bs = pd.read_html(urlsal15_bs)[0]\n"
   ]
  },
  {
   "cell_type": "code",
   "execution_count": 75,
   "id": "41c11a1b-226d-4351-9d5e-b115b97d1532",
   "metadata": {},
   "outputs": [],
   "source": [
    "sal15 = pd.concat([sal15_g, sal15_t,sal15_d,sal15_yb,sal15_c,sal15_s,sal15_h,sal15_m,sal15_l,sal15_e,sal15_f,sal15_bs]).reset_index()"
   ]
  },
  {
   "cell_type": "code",
   "execution_count": 76,
   "id": "ca594699-c690-4d56-a71e-f21a6ea43ca6",
   "metadata": {},
   "outputs": [],
   "source": [
    "name = []\n",
    "for n in sal15.columns:\n",
    "    item = n[0]\n",
    "    name.append(item)\n",
    "\n",
    "sal15.columns = name"
   ]
  },
  {
   "cell_type": "code",
   "execution_count": 77,
   "id": "55711760-18b3-4cb0-b7d0-024797dcf1fd",
   "metadata": {},
   "outputs": [],
   "source": [
    "sal15 = sal15[sal15['年俸(推定)']!='-']\n",
    "sal15['年俸(推定)']= sal15['年俸(推定)'].str.split('万円', expand=True)[0]\n",
    "sal15['年俸(推定)'] = sal15['年俸(推定)'].str.replace(',','')\n",
    "sal15['年俸(推定)'] = sal15['年俸(推定)'].astype(int)\n",
    "\n",
    "sal15['年数']= sal15['年数'].str.split('年', expand=True)[0].astype(int)\n",
    "sal15['年齢']= sal15['年齢'].str.split('歳', expand=True)[0].astype(int)\n",
    "sal15['身長']= sal15['身長'].str.split('cm', expand=True)[0].astype(int)\n",
    "sal15['体重']= sal15['体重'].str.split('kg', expand=True)[0].astype(int)"
   ]
  },
  {
   "cell_type": "markdown",
   "id": "e24a0d05-35f4-411c-931d-d1ded20bf156",
   "metadata": {},
   "source": [
    "#### データの結合"
   ]
  },
  {
   "cell_type": "code",
   "execution_count": 78,
   "id": "225067c1-6cd4-492a-93c5-d98b2172c5b6",
   "metadata": {},
   "outputs": [],
   "source": [
    "dfbat15 = pd.merge(bat15,sal15,on ='選手名', how = 'left')"
   ]
  },
  {
   "cell_type": "code",
   "execution_count": 79,
   "id": "7c0a7d4d-5c4c-41e5-b347-c480be35a18d",
   "metadata": {},
   "outputs": [],
   "source": [
    "dfbat15.rename(columns=lambda s:s+'_15',inplace = True)\n",
    "dfbat15.rename(columns = {'選手名_15':'選手名'},inplace = True)"
   ]
  },
  {
   "cell_type": "markdown",
   "id": "077daac1-6e12-4f97-a6f5-d6ef359c4571",
   "metadata": {},
   "source": [
    "### 2014年"
   ]
  },
  {
   "cell_type": "markdown",
   "id": "2cd0cb20-5719-4dc5-9cea-b45e5f7cb91d",
   "metadata": {},
   "source": [
    "#### 打撃データのスクレイピング"
   ]
  },
  {
   "cell_type": "code",
   "execution_count": 80,
   "id": "a73db55a-825e-4e77-b58b-58331f643799",
   "metadata": {
    "tags": []
   },
   "outputs": [],
   "source": [
    "urlbat14 = \"https://baseball-data.com/14/stats/hitter-all/avg-5.html\"\n",
    "bat14 = pd.read_html(urlbat14)[0]\n",
    "bat14[\"年\"] = 1414\n",
    "\n",
    "name = []\n",
    "for n in bat14.columns:\n",
    "    item = n[0]\n",
    "    name.append(item)\n",
    "\n",
    "bat14.columns = name\n",
    "bat14.columns = ['rank','選手名','team','AVG','game','PA','At_bat','hit','HR','RBI','steal',\n",
    "                 '4ball','dead_ball','strikeout','bunt','GDP','OBP','SLG','OPS',\"RC27\",'XR27','year']\n"
   ]
  },
  {
   "cell_type": "markdown",
   "id": "5077261d-69d8-4c6a-8fc1-147be1bbc989",
   "metadata": {},
   "source": [
    "#### 年俸データのスクレイピング"
   ]
  },
  {
   "cell_type": "code",
   "execution_count": 81,
   "id": "50fbe224-99ae-45d1-b735-c84c9587aaa9",
   "metadata": {
    "tags": []
   },
   "outputs": [],
   "source": [
    "urlsal14_g = 'https://baseball-data.com/ranking-salary/g/'\n",
    "sal14_g = pd.read_html(urlsal14_g)[0]\n",
    "\n",
    "urlsal14_t = 'https://baseball-data.com/ranking-salary/t/'\n",
    "sal14_t = pd.read_html(urlsal14_t)[0]\n",
    "\n",
    "urlsal14_d = 'https://baseball-data.com/ranking-salary/d/'\n",
    "sal14_d = pd.read_html(urlsal14_d)[0]\n",
    "\n",
    "urlsal14_yb = 'https://baseball-data.com/ranking-salary/yb/'\n",
    "sal14_yb = pd.read_html(urlsal14_yb)[0]\n",
    "\n",
    "urlsal14_c = 'https://baseball-data.com/ranking-salary/c/'\n",
    "sal14_c = pd.read_html(urlsal14_c)[0]\n",
    "\n",
    "urlsal14_s = 'https://baseball-data.com/ranking-salary/s/'\n",
    "sal14_s = pd.read_html(urlsal14_s)[0]\n",
    "\n",
    "urlsal14_h = 'https://baseball-data.com/ranking-salary/h/'\n",
    "sal14_h = pd.read_html(urlsal14_h)[0]\n",
    "\n",
    "urlsal14_m = 'https://baseball-data.com/ranking-salary/m/'\n",
    "sal14_m = pd.read_html(urlsal14_m)[0]\n",
    "\n",
    "urlsal14_l = 'https://baseball-data.com/ranking-salary/l/'\n",
    "sal14_l = pd.read_html(urlsal14_l)[0]\n",
    "\n",
    "urlsal14_e = 'https://baseball-data.com/ranking-salary/e/'\n",
    "sal14_e = pd.read_html(urlsal14_e)[0]\n",
    "\n",
    "urlsal14_f = 'https://baseball-data.com/ranking-salary/f/'\n",
    "sal14_f = pd.read_html(urlsal14_f)[0]\n",
    "\n",
    "urlsal14_bs = 'https://baseball-data.com/ranking-salary/bs/'\n",
    "sal14_bs = pd.read_html(urlsal14_bs)[0]\n"
   ]
  },
  {
   "cell_type": "code",
   "execution_count": 82,
   "id": "a3291753-4ec7-43db-beae-9693fef76454",
   "metadata": {},
   "outputs": [],
   "source": [
    "sal14 = pd.concat([sal14_g, sal14_t,sal14_d,sal14_yb,sal14_c,sal14_s,sal14_h,sal14_m,sal14_l,sal14_e,sal14_f,sal14_bs]).reset_index()"
   ]
  },
  {
   "cell_type": "code",
   "execution_count": 83,
   "id": "13c7cacc-e170-47ca-8277-b51fa1dd30b2",
   "metadata": {},
   "outputs": [],
   "source": [
    "name = []\n",
    "for n in sal14.columns:\n",
    "    item = n[0]\n",
    "    name.append(item)\n",
    "\n",
    "sal14.columns = name"
   ]
  },
  {
   "cell_type": "code",
   "execution_count": 84,
   "id": "cf7ca8c2-be9c-46bd-ac63-e1ff260b891c",
   "metadata": {},
   "outputs": [],
   "source": [
    "sal14 = sal14[sal14['年俸(推定)']!='-']\n",
    "sal14['年俸(推定)']= sal14['年俸(推定)'].str.split('万円', expand=True)[0]\n",
    "sal14['年俸(推定)'] = sal14['年俸(推定)'].str.replace(',','')\n",
    "sal14['年俸(推定)'] = sal14['年俸(推定)'].astype(int)\n",
    "\n",
    "sal14['年数']= sal14['年数'].str.split('年', expand=True)[0].astype(int)\n",
    "sal14['年齢']= sal14['年齢'].str.split('歳', expand=True)[0].astype(int)\n",
    "sal14['身長']= sal14['身長'].str.split('cm', expand=True)[0].astype(int)\n",
    "sal14['体重']= sal14['体重'].str.split('kg', expand=True)[0].astype(int)"
   ]
  },
  {
   "cell_type": "markdown",
   "id": "2d34aaab-96d1-4cd7-ad55-dd39771cd9ff",
   "metadata": {},
   "source": [
    "#### データの結合"
   ]
  },
  {
   "cell_type": "code",
   "execution_count": 85,
   "id": "f36646ee-f79c-4139-a630-c41343fbc356",
   "metadata": {},
   "outputs": [],
   "source": [
    "dfbat14 = pd.merge(bat14,sal14,on ='選手名', how = 'left')"
   ]
  },
  {
   "cell_type": "code",
   "execution_count": 86,
   "id": "10b1eb4f-ac61-45f6-a4d9-035a49ed216f",
   "metadata": {},
   "outputs": [],
   "source": [
    "dfbat14.rename(columns=lambda s:s+'_14',inplace = True)\n",
    "dfbat14.rename(columns = {'選手名_14':'選手名'},inplace = True)"
   ]
  },
  {
   "cell_type": "markdown",
   "id": "cfc95129-88cf-4984-b9d8-68bf48730ce3",
   "metadata": {},
   "source": [
    "### 2013年"
   ]
  },
  {
   "cell_type": "markdown",
   "id": "4cdeac9a-2ef2-4bf1-a57d-5133fb521beb",
   "metadata": {},
   "source": [
    "#### 打撃データのスクレイピング"
   ]
  },
  {
   "cell_type": "code",
   "execution_count": 87,
   "id": "5adea09a-e2d3-4637-a1c5-9829aad98fc9",
   "metadata": {
    "tags": []
   },
   "outputs": [],
   "source": [
    "urlbat13 = \"https://baseball-data.com/13/stats/hitter-all/avg-5.html\"\n",
    "bat13 = pd.read_html(urlbat13)[0]\n",
    "bat13[\"年\"] = 1313\n",
    "\n",
    "name = []\n",
    "for n in bat13.columns:\n",
    "    item = n[0]\n",
    "    name.append(item)\n",
    "\n",
    "bat13.columns = name\n",
    "bat13.columns = ['rank','選手名','team','AVG','game','PA','At_bat','hit','HR','RBI','steal',\n",
    "                 '4ball','dead_ball','strikeout','bunt','GDP','OBP','SLG','OPS',\"RC27\",'XR27','year']\n"
   ]
  },
  {
   "cell_type": "markdown",
   "id": "4dea07fd-0202-40b3-9ac9-19d54fcdc713",
   "metadata": {},
   "source": [
    "#### 年俸データのスクレイピング"
   ]
  },
  {
   "cell_type": "code",
   "execution_count": 88,
   "id": "b840d2d1-cb31-4888-8165-70ed8f250db8",
   "metadata": {
    "tags": []
   },
   "outputs": [],
   "source": [
    "urlsal13_g = 'https://baseball-data.com/ranking-salary/g/'\n",
    "sal13_g = pd.read_html(urlsal13_g)[0]\n",
    "\n",
    "urlsal13_t = 'https://baseball-data.com/ranking-salary/t/'\n",
    "sal13_t = pd.read_html(urlsal13_t)[0]\n",
    "\n",
    "urlsal13_d = 'https://baseball-data.com/ranking-salary/d/'\n",
    "sal13_d = pd.read_html(urlsal13_d)[0]\n",
    "\n",
    "urlsal13_yb = 'https://baseball-data.com/ranking-salary/yb/'\n",
    "sal13_yb = pd.read_html(urlsal13_yb)[0]\n",
    "\n",
    "urlsal13_c = 'https://baseball-data.com/ranking-salary/c/'\n",
    "sal13_c = pd.read_html(urlsal13_c)[0]\n",
    "\n",
    "urlsal13_s = 'https://baseball-data.com/ranking-salary/s/'\n",
    "sal13_s = pd.read_html(urlsal13_s)[0]\n",
    "\n",
    "urlsal13_h = 'https://baseball-data.com/ranking-salary/h/'\n",
    "sal13_h = pd.read_html(urlsal13_h)[0]\n",
    "\n",
    "urlsal13_m = 'https://baseball-data.com/ranking-salary/m/'\n",
    "sal13_m = pd.read_html(urlsal13_m)[0]\n",
    "\n",
    "urlsal13_l = 'https://baseball-data.com/ranking-salary/l/'\n",
    "sal13_l = pd.read_html(urlsal13_l)[0]\n",
    "\n",
    "urlsal13_e = 'https://baseball-data.com/ranking-salary/e/'\n",
    "sal13_e = pd.read_html(urlsal13_e)[0]\n",
    "\n",
    "urlsal13_f = 'https://baseball-data.com/ranking-salary/f/'\n",
    "sal13_f = pd.read_html(urlsal13_f)[0]\n",
    "\n",
    "urlsal13_bs = 'https://baseball-data.com/ranking-salary/bs/'\n",
    "sal13_bs = pd.read_html(urlsal13_bs)[0]\n"
   ]
  },
  {
   "cell_type": "code",
   "execution_count": 89,
   "id": "faf310a6-d249-4e84-a3a5-50fe70b67f09",
   "metadata": {},
   "outputs": [],
   "source": [
    "sal13 = pd.concat([sal13_g, sal13_t,sal13_d,sal13_yb,sal13_c,sal13_s,sal13_h,sal13_m,sal13_l,sal13_e,sal13_f,sal13_bs]).reset_index()"
   ]
  },
  {
   "cell_type": "code",
   "execution_count": 90,
   "id": "d7d3d5ea-588e-4605-9728-ecb0e9219ca6",
   "metadata": {},
   "outputs": [],
   "source": [
    "name = []\n",
    "for n in sal13.columns:\n",
    "    item = n[0]\n",
    "    name.append(item)\n",
    "\n",
    "sal13.columns = name"
   ]
  },
  {
   "cell_type": "code",
   "execution_count": 91,
   "id": "fef21da9-af55-4351-b4a8-ae8b6b1db5ee",
   "metadata": {},
   "outputs": [],
   "source": [
    "sal13 = sal13[sal13['年俸(推定)']!='-']\n",
    "sal13['年俸(推定)']= sal13['年俸(推定)'].str.split('万円', expand=True)[0]\n",
    "sal13['年俸(推定)'] = sal13['年俸(推定)'].str.replace(',','')\n",
    "sal13['年俸(推定)'] = sal13['年俸(推定)'].astype(int)\n",
    "\n",
    "sal13['年数']= sal13['年数'].str.split('年', expand=True)[0].astype(int)\n",
    "sal13['年齢']= sal13['年齢'].str.split('歳', expand=True)[0].astype(int)\n",
    "sal13['身長']= sal13['身長'].str.split('cm', expand=True)[0].astype(int)\n",
    "sal13['体重']= sal13['体重'].str.split('kg', expand=True)[0].astype(int)"
   ]
  },
  {
   "cell_type": "markdown",
   "id": "7a7c0202-2743-4606-b48e-59171292dac1",
   "metadata": {},
   "source": [
    "#### データの結合"
   ]
  },
  {
   "cell_type": "code",
   "execution_count": 92,
   "id": "35329486-af47-4df2-b4b8-2b0a070f0a90",
   "metadata": {},
   "outputs": [],
   "source": [
    "dfbat13 = pd.merge(bat13,sal13,on ='選手名', how = 'left')"
   ]
  },
  {
   "cell_type": "code",
   "execution_count": 93,
   "id": "d6fc9f04-1e77-432a-92f8-3c7c8c0f15a6",
   "metadata": {},
   "outputs": [],
   "source": [
    "dfbat13.rename(columns=lambda s:s+'_13',inplace = True)\n",
    "dfbat13.rename(columns = {'選手名_13':'選手名'},inplace = True)"
   ]
  },
  {
   "cell_type": "markdown",
   "id": "6f05ac3a-88f8-4b86-9f3d-193215c15278",
   "metadata": {},
   "source": [
    "### 2012年"
   ]
  },
  {
   "cell_type": "markdown",
   "id": "bc7a5306-1ba8-4cca-ab21-4818745816f9",
   "metadata": {},
   "source": [
    "#### 打撃データのスクレイピング"
   ]
  },
  {
   "cell_type": "code",
   "execution_count": 94,
   "id": "3362fa1d-b6f2-4b2e-bfd8-9fba3510b755",
   "metadata": {
    "tags": []
   },
   "outputs": [],
   "source": [
    "urlbat12 = \"https://baseball-data.com/12/stats/hitter-all/avg-5.html\"\n",
    "bat12 = pd.read_html(urlbat12)[0]\n",
    "bat12[\"年\"] = 1212\n",
    "\n",
    "name = []\n",
    "for n in bat12.columns:\n",
    "    item = n[0]\n",
    "    name.append(item)\n",
    "\n",
    "bat12.columns = name\n",
    "bat12.columns = ['rank','選手名','team','AVG','game','PA','At_bat','hit','HR','RBI','steal',\n",
    "                 '4ball','dead_ball','strikeout','bunt','GDP','OBP','SLG','OPS',\"RC27\",'XR27','year']\n"
   ]
  },
  {
   "cell_type": "markdown",
   "id": "3f57adbd-683b-48a7-bc82-e001504c74b8",
   "metadata": {},
   "source": [
    "#### 年俸データのスクレイピング"
   ]
  },
  {
   "cell_type": "code",
   "execution_count": 95,
   "id": "040a3428-8ac4-47b7-b8ad-2717abfed19c",
   "metadata": {
    "tags": []
   },
   "outputs": [],
   "source": [
    "urlsal12_g = 'https://baseball-data.com/ranking-salary/g/'\n",
    "sal12_g = pd.read_html(urlsal12_g)[0]\n",
    "\n",
    "urlsal12_t = 'https://baseball-data.com/ranking-salary/t/'\n",
    "sal12_t = pd.read_html(urlsal12_t)[0]\n",
    "\n",
    "urlsal12_d = 'https://baseball-data.com/ranking-salary/d/'\n",
    "sal12_d = pd.read_html(urlsal12_d)[0]\n",
    "\n",
    "urlsal12_yb = 'https://baseball-data.com/ranking-salary/yb/'\n",
    "sal12_yb = pd.read_html(urlsal12_yb)[0]\n",
    "\n",
    "urlsal12_c = 'https://baseball-data.com/ranking-salary/c/'\n",
    "sal12_c = pd.read_html(urlsal12_c)[0]\n",
    "\n",
    "urlsal12_s = 'https://baseball-data.com/ranking-salary/s/'\n",
    "sal12_s = pd.read_html(urlsal12_s)[0]\n",
    "\n",
    "urlsal12_h = 'https://baseball-data.com/ranking-salary/h/'\n",
    "sal12_h = pd.read_html(urlsal12_h)[0]\n",
    "\n",
    "urlsal12_m = 'https://baseball-data.com/ranking-salary/m/'\n",
    "sal12_m = pd.read_html(urlsal12_m)[0]\n",
    "\n",
    "urlsal12_l = 'https://baseball-data.com/ranking-salary/l/'\n",
    "sal12_l = pd.read_html(urlsal12_l)[0]\n",
    "\n",
    "urlsal12_e = 'https://baseball-data.com/ranking-salary/e/'\n",
    "sal12_e = pd.read_html(urlsal12_e)[0]\n",
    "\n",
    "urlsal12_f = 'https://baseball-data.com/ranking-salary/f/'\n",
    "sal12_f = pd.read_html(urlsal12_f)[0]\n",
    "\n",
    "urlsal12_bs = 'https://baseball-data.com/ranking-salary/bs/'\n",
    "sal12_bs = pd.read_html(urlsal12_bs)[0]\n"
   ]
  },
  {
   "cell_type": "code",
   "execution_count": 96,
   "id": "fb700a13-eada-4dad-88d0-73924fdce613",
   "metadata": {},
   "outputs": [],
   "source": [
    "sal12 = pd.concat([sal12_g, sal12_t,sal12_d,sal12_yb,sal12_c,sal12_s,sal12_h,sal12_m,sal12_l,sal12_e,sal12_f,sal12_bs]).reset_index()"
   ]
  },
  {
   "cell_type": "code",
   "execution_count": 97,
   "id": "ecb32544-a160-4b51-a6fd-c0787e0d42bf",
   "metadata": {},
   "outputs": [],
   "source": [
    "name = []\n",
    "for n in sal12.columns:\n",
    "    item = n[0]\n",
    "    name.append(item)\n",
    "\n",
    "sal12.columns = name"
   ]
  },
  {
   "cell_type": "code",
   "execution_count": 98,
   "id": "82b4b120-0085-402a-95a7-6d24ee19e7aa",
   "metadata": {},
   "outputs": [],
   "source": [
    "sal12 = sal12[sal12['年俸(推定)']!='-']\n",
    "sal12['年俸(推定)']= sal12['年俸(推定)'].str.split('万円', expand=True)[0]\n",
    "sal12['年俸(推定)'] = sal12['年俸(推定)'].str.replace(',','')\n",
    "sal12['年俸(推定)'] = sal12['年俸(推定)'].astype(int)\n",
    "\n",
    "sal12['年数']= sal12['年数'].str.split('年', expand=True)[0].astype(int)\n",
    "sal12['年齢']= sal12['年齢'].str.split('歳', expand=True)[0].astype(int)\n",
    "sal12['身長']= sal12['身長'].str.split('cm', expand=True)[0].astype(int)\n",
    "sal12['体重']= sal12['体重'].str.split('kg', expand=True)[0].astype(int)"
   ]
  },
  {
   "cell_type": "markdown",
   "id": "d64c58d2-2cbc-4483-9786-9c768f924a48",
   "metadata": {},
   "source": [
    "#### データの結合"
   ]
  },
  {
   "cell_type": "code",
   "execution_count": 99,
   "id": "f2773ed8-eb76-41b5-8c79-47f2fb4a510f",
   "metadata": {},
   "outputs": [],
   "source": [
    "dfbat12 = pd.merge(bat12,sal12,on ='選手名', how = 'left')"
   ]
  },
  {
   "cell_type": "code",
   "execution_count": 100,
   "id": "5660193d-e688-4afd-b84a-4c58ad7799d4",
   "metadata": {},
   "outputs": [],
   "source": [
    "dfbat12.rename(columns=lambda s:s+'_12',inplace = True)\n",
    "dfbat12.rename(columns = {'選手名_12':'選手名'},inplace = True)"
   ]
  },
  {
   "cell_type": "markdown",
   "id": "c52d6611-3428-4dce-8f71-d2f19ed3b238",
   "metadata": {},
   "source": [
    "### 2011年"
   ]
  },
  {
   "cell_type": "markdown",
   "id": "633ca2a1-a7a7-455e-9993-3862918fc8b8",
   "metadata": {},
   "source": [
    "#### 打撃データのスクレイピング"
   ]
  },
  {
   "cell_type": "code",
   "execution_count": 101,
   "id": "7f927412-a88e-475a-aeb2-6d59aed5f239",
   "metadata": {
    "tags": []
   },
   "outputs": [],
   "source": [
    "urlbat11 = \"https://baseball-data.com/11/stats/hitter-all/avg-5.html\"\n",
    "bat11 = pd.read_html(urlbat11)[0]\n",
    "bat11[\"年\"] = 2011\n",
    "\n",
    "name = []\n",
    "for n in bat11.columns:\n",
    "    item = n[0]\n",
    "    name.append(item)\n",
    "\n",
    "bat11.columns = name\n",
    "bat11.columns = ['rank','選手名','team','AVG','game','PA','At_bat','hit','HR','RBI','steal',\n",
    "                 '4ball','dead_ball','strikeout','bunt','GDP','OBP','SLG','OPS',\"RC27\",'XR27','year']\n"
   ]
  },
  {
   "cell_type": "markdown",
   "id": "9c4ab1d3-305f-4be3-9c05-3abe414b9f50",
   "metadata": {},
   "source": [
    "#### 年俸データのスクレイピング"
   ]
  },
  {
   "cell_type": "code",
   "execution_count": 102,
   "id": "863e1654-5464-4d7b-9459-227cb1193a01",
   "metadata": {
    "tags": []
   },
   "outputs": [],
   "source": [
    "urlsal11_g = 'https://baseball-data.com/ranking-salary/g/'\n",
    "sal11_g = pd.read_html(urlsal11_g)[0]\n",
    "\n",
    "urlsal11_t = 'https://baseball-data.com/ranking-salary/t/'\n",
    "sal11_t = pd.read_html(urlsal11_t)[0]\n",
    "\n",
    "urlsal11_d = 'https://baseball-data.com/ranking-salary/d/'\n",
    "sal11_d = pd.read_html(urlsal11_d)[0]\n",
    "\n",
    "urlsal11_yb = 'https://baseball-data.com/ranking-salary/yb/'\n",
    "sal11_yb = pd.read_html(urlsal11_yb)[0]\n",
    "\n",
    "urlsal11_c = 'https://baseball-data.com/ranking-salary/c/'\n",
    "sal11_c = pd.read_html(urlsal11_c)[0]\n",
    "\n",
    "urlsal11_s = 'https://baseball-data.com/ranking-salary/s/'\n",
    "sal11_s = pd.read_html(urlsal11_s)[0]\n",
    "\n",
    "urlsal11_h = 'https://baseball-data.com/ranking-salary/h/'\n",
    "sal11_h = pd.read_html(urlsal11_h)[0]\n",
    "\n",
    "urlsal11_m = 'https://baseball-data.com/ranking-salary/m/'\n",
    "sal11_m = pd.read_html(urlsal11_m)[0]\n",
    "\n",
    "urlsal11_l = 'https://baseball-data.com/ranking-salary/l/'\n",
    "sal11_l = pd.read_html(urlsal11_l)[0]\n",
    "\n",
    "urlsal11_e = 'https://baseball-data.com/ranking-salary/e/'\n",
    "sal11_e = pd.read_html(urlsal11_e)[0]\n",
    "\n",
    "urlsal11_f = 'https://baseball-data.com/ranking-salary/f/'\n",
    "sal11_f = pd.read_html(urlsal11_f)[0]\n",
    "\n",
    "urlsal11_bs = 'https://baseball-data.com/ranking-salary/bs/'\n",
    "sal11_bs = pd.read_html(urlsal11_bs)[0]\n"
   ]
  },
  {
   "cell_type": "code",
   "execution_count": 103,
   "id": "83dcd35a-8373-41f9-a1b8-525e9c1de6b1",
   "metadata": {},
   "outputs": [],
   "source": [
    "sal11 = pd.concat([sal11_g, sal11_t,sal11_d,sal11_yb,sal11_c,sal11_s,sal11_h,sal11_m,sal11_l,sal11_e,sal11_f,sal11_bs]).reset_index()"
   ]
  },
  {
   "cell_type": "code",
   "execution_count": 104,
   "id": "14cd0ce3-77ed-46ba-a5b0-01becf3064be",
   "metadata": {},
   "outputs": [],
   "source": [
    "name = []\n",
    "for n in sal11.columns:\n",
    "    item = n[0]\n",
    "    name.append(item)\n",
    "\n",
    "sal11.columns = name"
   ]
  },
  {
   "cell_type": "code",
   "execution_count": 105,
   "id": "3031f2f1-7bbe-4b69-9c01-83eafc962c2a",
   "metadata": {},
   "outputs": [],
   "source": [
    "sal11 = sal11[sal11['年俸(推定)']!='-']\n",
    "sal11['年俸(推定)']= sal11['年俸(推定)'].str.split('万円', expand=True)[0]\n",
    "sal11['年俸(推定)'] = sal11['年俸(推定)'].str.replace(',','')\n",
    "sal11['年俸(推定)'] = sal11['年俸(推定)'].astype(int)\n",
    "\n",
    "sal11['年数']= sal11['年数'].str.split('年', expand=True)[0].astype(int)\n",
    "sal11['年齢']= sal11['年齢'].str.split('歳', expand=True)[0].astype(int)\n",
    "sal11['身長']= sal11['身長'].str.split('cm', expand=True)[0].astype(int)\n",
    "sal11['体重']= sal11['体重'].str.split('kg', expand=True)[0].astype(int)"
   ]
  },
  {
   "cell_type": "markdown",
   "id": "4ea456a7-ec45-46af-95db-fe46aa4de28a",
   "metadata": {},
   "source": [
    "#### データの結合"
   ]
  },
  {
   "cell_type": "code",
   "execution_count": 106,
   "id": "7ac71c4a-8cb3-4293-9a26-90cc11d18356",
   "metadata": {},
   "outputs": [],
   "source": [
    "dfbat11 = pd.merge(bat11,sal11,on ='選手名', how = 'left')"
   ]
  },
  {
   "cell_type": "code",
   "execution_count": 107,
   "id": "7552b6da-08c2-47e3-8b0d-b1be266c4c05",
   "metadata": {},
   "outputs": [],
   "source": [
    "dfbat11.rename(columns=lambda s:s+'_11',inplace = True)\n",
    "dfbat11.rename(columns = {'選手名_11':'選手名'},inplace = True)"
   ]
  },
  {
   "cell_type": "markdown",
   "id": "8689245f-506c-411a-a0fe-12185e88528a",
   "metadata": {},
   "source": [
    "### 2010年"
   ]
  },
  {
   "cell_type": "markdown",
   "id": "8df6d23e-ab48-45c2-bb5b-d88fe9f2af19",
   "metadata": {},
   "source": [
    "#### 打撃データのスクレイピング"
   ]
  },
  {
   "cell_type": "code",
   "execution_count": 108,
   "id": "605f0433-b9c7-409f-a97e-fce0d15d9c63",
   "metadata": {
    "tags": []
   },
   "outputs": [],
   "source": [
    "urlbat10 = \"https://baseball-data.com/10/stats/hitter-all/avg-5.html\"\n",
    "bat10 = pd.read_html(urlbat10)[0]\n",
    "bat10[\"年\"] = 2010\n",
    "\n",
    "name = []\n",
    "for n in bat10.columns:\n",
    "    item = n[0]\n",
    "    name.append(item)\n",
    "\n",
    "bat10.columns = name\n",
    "bat10.columns = ['rank','選手名','team','AVG','game','PA','At_bat','hit','HR','RBI','steal',\n",
    "                 '4ball','dead_ball','strikeout','bunt','GDP','OBP','SLG','OPS',\"RC27\",'XR27','year']\n"
   ]
  },
  {
   "cell_type": "markdown",
   "id": "cda08c0f-09ea-46b6-ac3d-de6e7c5d5271",
   "metadata": {},
   "source": [
    "#### 年俸データのスクレイピング"
   ]
  },
  {
   "cell_type": "code",
   "execution_count": 109,
   "id": "ae1d6da3-4ae1-49d1-9849-151c95660a19",
   "metadata": {
    "tags": []
   },
   "outputs": [],
   "source": [
    "urlsal10_g = 'https://baseball-data.com/ranking-salary/g/'\n",
    "sal10_g = pd.read_html(urlsal10_g)[0]\n",
    "\n",
    "urlsal10_t = 'https://baseball-data.com/ranking-salary/t/'\n",
    "sal10_t = pd.read_html(urlsal10_t)[0]\n",
    "\n",
    "urlsal10_d = 'https://baseball-data.com/ranking-salary/d/'\n",
    "sal10_d = pd.read_html(urlsal10_d)[0]\n",
    "\n",
    "urlsal10_yb = 'https://baseball-data.com/ranking-salary/yb/'\n",
    "sal10_yb = pd.read_html(urlsal10_yb)[0]\n",
    "\n",
    "urlsal10_c = 'https://baseball-data.com/ranking-salary/c/'\n",
    "sal10_c = pd.read_html(urlsal10_c)[0]\n",
    "\n",
    "urlsal10_s = 'https://baseball-data.com/ranking-salary/s/'\n",
    "sal10_s = pd.read_html(urlsal10_s)[0]\n",
    "\n",
    "urlsal10_h = 'https://baseball-data.com/ranking-salary/h/'\n",
    "sal10_h = pd.read_html(urlsal10_h)[0]\n",
    "\n",
    "urlsal10_m = 'https://baseball-data.com/ranking-salary/m/'\n",
    "sal10_m = pd.read_html(urlsal10_m)[0]\n",
    "\n",
    "urlsal10_l = 'https://baseball-data.com/ranking-salary/l/'\n",
    "sal10_l = pd.read_html(urlsal10_l)[0]\n",
    "\n",
    "urlsal10_e = 'https://baseball-data.com/ranking-salary/e/'\n",
    "sal10_e = pd.read_html(urlsal10_e)[0]\n",
    "\n",
    "urlsal10_f = 'https://baseball-data.com/ranking-salary/f/'\n",
    "sal10_f = pd.read_html(urlsal10_f)[0]\n",
    "\n",
    "urlsal10_bs = 'https://baseball-data.com/ranking-salary/bs/'\n",
    "sal10_bs = pd.read_html(urlsal10_bs)[0]\n"
   ]
  },
  {
   "cell_type": "code",
   "execution_count": 110,
   "id": "63acc2d8-a641-4db6-9d20-bf5af79c4308",
   "metadata": {},
   "outputs": [],
   "source": [
    "sal10 = pd.concat([sal10_g, sal10_t,sal10_d,sal10_yb,sal10_c,sal10_s,sal10_h,sal10_m,sal10_l,sal10_e,sal10_f,sal10_bs]).reset_index()"
   ]
  },
  {
   "cell_type": "code",
   "execution_count": 111,
   "id": "e67422ba-d466-487e-93d6-850683ba370a",
   "metadata": {},
   "outputs": [],
   "source": [
    "name = []\n",
    "for n in sal10.columns:\n",
    "    item = n[0]\n",
    "    name.append(item)\n",
    "\n",
    "sal10.columns = name"
   ]
  },
  {
   "cell_type": "code",
   "execution_count": 112,
   "id": "8ba67f96-f8a1-4a81-9de4-5d00cc36150a",
   "metadata": {},
   "outputs": [],
   "source": [
    "sal10 = sal10[sal10['年俸(推定)']!='-']\n",
    "sal10['年俸(推定)']= sal10['年俸(推定)'].str.split('万円', expand=True)[0]\n",
    "sal10['年俸(推定)'] = sal10['年俸(推定)'].str.replace(',','')\n",
    "sal10['年俸(推定)'] = sal10['年俸(推定)'].astype(int)\n",
    "\n",
    "sal10['年数']= sal10['年数'].str.split('年', expand=True)[0].astype(int)\n",
    "sal10['年齢']= sal10['年齢'].str.split('歳', expand=True)[0].astype(int)\n",
    "sal10['身長']= sal10['身長'].str.split('cm', expand=True)[0].astype(int)\n",
    "sal10['体重']= sal10['体重'].str.split('kg', expand=True)[0].astype(int)"
   ]
  },
  {
   "cell_type": "markdown",
   "id": "844d044f-6e62-417b-8906-f6c93565d1b0",
   "metadata": {},
   "source": [
    "#### データの結合"
   ]
  },
  {
   "cell_type": "code",
   "execution_count": 113,
   "id": "b0f94811-9cb0-4fd5-bddb-2c0f99488d29",
   "metadata": {},
   "outputs": [],
   "source": [
    "dfbat10 = pd.merge(bat10,sal10,on ='選手名', how = 'left')"
   ]
  },
  {
   "cell_type": "code",
   "execution_count": 114,
   "id": "7a26d2bf-0d68-4d6f-82a6-cdc47e751f75",
   "metadata": {},
   "outputs": [],
   "source": [
    "dfbat10.rename(columns=lambda s:s+'_10',inplace = True)\n",
    "dfbat10.rename(columns = {'選手名_10':'選手名'},inplace = True)"
   ]
  },
  {
   "cell_type": "markdown",
   "id": "80e77214-915d-4987-909c-8d1b3ad39cd5",
   "metadata": {},
   "source": [
    "### 2009年"
   ]
  },
  {
   "cell_type": "markdown",
   "id": "3272d9f2-2bc9-4f77-bd8d-8c85d09e0abd",
   "metadata": {},
   "source": [
    "#### 打撃データのスクレイピング"
   ]
  },
  {
   "cell_type": "code",
   "execution_count": 116,
   "id": "a5fa22d1-1a55-42b5-a97a-cbf12ed7e5dd",
   "metadata": {
    "tags": []
   },
   "outputs": [],
   "source": [
    "urlbat09 = \"https://baseball-data.com/09/stats/hitter-all/avg-5.html\"\n",
    "bat09 = pd.read_html(urlbat09)[0]\n",
    "bat09[\"年\"] = 2009\n",
    "\n",
    "name = []\n",
    "for n in bat09.columns:\n",
    "    item = n[0]\n",
    "    name.append(item)\n",
    "\n",
    "bat09.columns = name\n",
    "bat09.columns = ['rank','選手名','team','AVG','game','PA','At_bat','hit','HR','RBI','steal',\n",
    "                 '4ball','dead_ball','strikeout','bunt','GDP','OBP','SLG','OPS',\"RC27\",'XR27','year']\n"
   ]
  },
  {
   "cell_type": "markdown",
   "id": "69f1748a-f60f-4c6c-870c-ec2b17096f5b",
   "metadata": {},
   "source": [
    "#### 年俸データのスクレイピング"
   ]
  },
  {
   "cell_type": "code",
   "execution_count": 117,
   "id": "933b0625-644d-4766-8676-1562b5cd1d9b",
   "metadata": {
    "tags": []
   },
   "outputs": [],
   "source": [
    "urlsal09_g = 'https://baseball-data.com/ranking-salary/g/'\n",
    "sal09_g = pd.read_html(urlsal09_g)[0]\n",
    "\n",
    "urlsal09_t = 'https://baseball-data.com/ranking-salary/t/'\n",
    "sal09_t = pd.read_html(urlsal09_t)[0]\n",
    "\n",
    "urlsal09_d = 'https://baseball-data.com/ranking-salary/d/'\n",
    "sal09_d = pd.read_html(urlsal09_d)[0]\n",
    "\n",
    "urlsal09_yb = 'https://baseball-data.com/ranking-salary/yb/'\n",
    "sal09_yb = pd.read_html(urlsal09_yb)[0]\n",
    "\n",
    "urlsal09_c = 'https://baseball-data.com/ranking-salary/c/'\n",
    "sal09_c = pd.read_html(urlsal09_c)[0]\n",
    "\n",
    "urlsal09_s = 'https://baseball-data.com/ranking-salary/s/'\n",
    "sal09_s = pd.read_html(urlsal09_s)[0]\n",
    "\n",
    "urlsal09_h = 'https://baseball-data.com/ranking-salary/h/'\n",
    "sal09_h = pd.read_html(urlsal09_h)[0]\n",
    "\n",
    "urlsal09_m = 'https://baseball-data.com/ranking-salary/m/'\n",
    "sal09_m = pd.read_html(urlsal09_m)[0]\n",
    "\n",
    "urlsal09_l = 'https://baseball-data.com/ranking-salary/l/'\n",
    "sal09_l = pd.read_html(urlsal09_l)[0]\n",
    "\n",
    "urlsal09_e = 'https://baseball-data.com/ranking-salary/e/'\n",
    "sal09_e = pd.read_html(urlsal09_e)[0]\n",
    "\n",
    "urlsal09_f = 'https://baseball-data.com/ranking-salary/f/'\n",
    "sal09_f = pd.read_html(urlsal09_f)[0]\n",
    "\n",
    "urlsal09_bs = 'https://baseball-data.com/ranking-salary/bs/'\n",
    "sal09_bs = pd.read_html(urlsal09_bs)[0]\n"
   ]
  },
  {
   "cell_type": "code",
   "execution_count": 118,
   "id": "1e541a46-505e-4d11-8531-b76e6655485b",
   "metadata": {},
   "outputs": [],
   "source": [
    "sal09 = pd.concat([sal09_g, sal09_t,sal09_d,sal09_yb,sal09_c,sal09_s,sal09_h,sal09_m,sal09_l,sal09_e,sal09_f,sal09_bs]).reset_index()"
   ]
  },
  {
   "cell_type": "code",
   "execution_count": 119,
   "id": "f659787b-326d-4e05-a853-53642d632417",
   "metadata": {},
   "outputs": [],
   "source": [
    "name = []\n",
    "for n in sal09.columns:\n",
    "    item = n[0]\n",
    "    name.append(item)\n",
    "\n",
    "sal09.columns = name"
   ]
  },
  {
   "cell_type": "code",
   "execution_count": 120,
   "id": "90e0f56e-0021-44fb-97b9-3b089836ecfc",
   "metadata": {},
   "outputs": [],
   "source": [
    "sal09 = sal09[sal09['年俸(推定)']!='-']\n",
    "sal09['年俸(推定)']= sal09['年俸(推定)'].str.split('万円', expand=True)[0]\n",
    "sal09['年俸(推定)'] = sal09['年俸(推定)'].str.replace(',','')\n",
    "sal09['年俸(推定)'] = sal09['年俸(推定)'].astype(int)\n",
    "\n",
    "sal09['年数']= sal09['年数'].str.split('年', expand=True)[0].astype(int)\n",
    "sal09['年齢']= sal09['年齢'].str.split('歳', expand=True)[0].astype(int)\n",
    "sal09['身長']= sal09['身長'].str.split('cm', expand=True)[0].astype(int)\n",
    "sal09['体重']= sal09['体重'].str.split('kg', expand=True)[0].astype(int)"
   ]
  },
  {
   "cell_type": "markdown",
   "id": "6c7cacbf-d49a-4412-bcdb-ad59efaf1987",
   "metadata": {},
   "source": [
    "#### データの結合"
   ]
  },
  {
   "cell_type": "code",
   "execution_count": 121,
   "id": "8c05638a-8925-4763-ba0a-9e4f80a2e629",
   "metadata": {},
   "outputs": [],
   "source": [
    "dfbat09 = pd.merge(bat09,sal09,on ='選手名', how = 'left')"
   ]
  },
  {
   "cell_type": "code",
   "execution_count": 122,
   "id": "9304ca24-d0c0-4076-8f1e-b03d20e23cf7",
   "metadata": {},
   "outputs": [],
   "source": [
    "dfbat09.rename(columns=lambda s:s+'_09',inplace = True)\n",
    "dfbat09.rename(columns = {'選手名_09':'選手名'},inplace = True)"
   ]
  },
  {
   "cell_type": "code",
   "execution_count": 123,
   "id": "a929904a-bf59-4ad8-9924-c8c69f94c99e",
   "metadata": {},
   "outputs": [],
   "source": [
    "dfbat09.to_pickle('dfbat09.pickle')\n",
    "dfbat10.to_pickle('dfbat10.pickle')\n",
    "dfbat11.to_pickle('dfbat11.pickle')\n",
    "dfbat12.to_pickle('dfbat12.pickle')\n",
    "dfbat13.to_pickle('dfbat13.pickle')\n",
    "dfbat14.to_pickle('dfbat14.pickle')\n",
    "dfbat15.to_pickle('dfbat15.pickle')\n",
    "dfbat16.to_pickle('dfbat16.pickle')\n",
    "dfbat17.to_pickle('dfbat17.pickle')\n",
    "dfbat18.to_pickle('dfbat18.pickle')\n",
    "dfbat19.to_pickle('dfbat19.pickle')\n",
    "dfbat20.to_pickle('dfbat20.pickle')\n",
    "dfbat21.to_pickle('dfbat21.pickle')"
   ]
  },
  {
   "cell_type": "code",
   "execution_count": null,
   "id": "a32a4d39-f403-4809-ade4-ca9e5d034bf3",
   "metadata": {},
   "outputs": [],
   "source": []
  }
 ],
 "metadata": {
  "kernelspec": {
   "display_name": "Python 3",
   "language": "python",
   "name": "python3"
  },
  "language_info": {
   "codemirror_mode": {
    "name": "ipython",
    "version": 3
   },
   "file_extension": ".py",
   "mimetype": "text/x-python",
   "name": "python",
   "nbconvert_exporter": "python",
   "pygments_lexer": "ipython3",
   "version": "3.8.8"
  }
 },
 "nbformat": 4,
 "nbformat_minor": 5
}
